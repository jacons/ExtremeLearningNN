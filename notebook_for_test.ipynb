{
 "cells": [
  {
   "cell_type": "code",
   "execution_count": 160,
   "id": "initial_id",
   "metadata": {
    "collapsed": true,
    "ExecuteTime": {
     "end_time": "2024-01-09T10:54:16.900243800Z",
     "start_time": "2024-01-09T10:54:16.434048100Z"
    }
   },
   "outputs": [],
   "source": [
    "import matplotlib.pyplot as plt\n",
    "\n",
    "import  seaborn as sns\n",
    "sns.set_style(\"darkgrid\")\n",
    "\n",
    "from ExperientalTools import *\n",
    "\n",
    "import warnings\n",
    "warnings.filterwarnings(\"ignore\", \"is_categorical_dtype\")\n",
    "warnings.filterwarnings(\"ignore\", \"use_inf_as_na\")\n",
    "%reload_ext autoreload\n",
    "%autoreload 2"
   ]
  },
  {
   "cell_type": "markdown",
   "source": [
    "## get the dataset"
   ],
   "metadata": {
    "collapsed": false
   },
   "id": "4f6d16377011a4eb"
  },
  {
   "cell_type": "code",
   "execution_count": 161,
   "outputs": [],
   "source": [
    "(tr_x,tr_y) = prepare_dataset(train_path=\"datasets/ML-CUP21-TR.csv\",unique=True)"
   ],
   "metadata": {
    "collapsed": false,
    "ExecuteTime": {
     "end_time": "2024-01-09T10:54:17.466188200Z",
     "start_time": "2024-01-09T10:54:16.901412400Z"
    }
   },
   "id": "8999d6bb57ad46b1"
  },
  {
   "cell_type": "code",
   "outputs": [],
   "source": [
    "# dictionary to save the results\n",
    "results={}"
   ],
   "metadata": {
    "collapsed": false,
    "ExecuteTime": {
     "end_time": "2024-01-09T10:54:17.931327500Z",
     "start_time": "2024-01-09T10:54:17.467288500Z"
    }
   },
   "id": "5d46fc77b51a9a44",
   "execution_count": 162
  },
  {
   "cell_type": "markdown",
   "source": [
    "## Constants"
   ],
   "metadata": {
    "collapsed": false
   },
   "id": "f687cd02fb6b92d3"
  },
  {
   "cell_type": "code",
   "outputs": [],
   "source": [
    "SIZE_RESERVOIR = 200\n",
    "LAMBDA_REG = 1\n",
    "MAX_ITER = 30000\n",
    "PRECISION = 1e-2"
   ],
   "metadata": {
    "collapsed": false,
    "ExecuteTime": {
     "end_time": "2024-01-09T10:54:18.394772Z",
     "start_time": "2024-01-09T10:54:17.931327500Z"
    }
   },
   "id": "614939f754e2ef3a",
   "execution_count": 163
  },
  {
   "cell_type": "markdown",
   "source": [
    "## fix the resevoir"
   ],
   "metadata": {
    "collapsed": false
   },
   "id": "34704a87dc769ba0"
  },
  {
   "cell_type": "code",
   "execution_count": 164,
   "outputs": [],
   "source": [
    "resevoir = np.random.uniform(-1, 1, (SIZE_RESERVOIR, 10))\n",
    "H = sigmoid(resevoir @ tr_x)\n",
    "E = H @ H.T + np.power(LAMBDA_REG, 2) * np.eye(H.shape[0])"
   ],
   "metadata": {
    "collapsed": false,
    "ExecuteTime": {
     "end_time": "2024-01-09T10:54:18.839077Z",
     "start_time": "2024-01-09T10:54:18.395870300Z"
    }
   },
   "id": "f4c2b796c1f3c5e2"
  },
  {
   "cell_type": "code",
   "execution_count": 165,
   "outputs": [
    {
     "name": "stdout",
     "output_type": "stream",
     "text": [
      "Condition number of E: 74100.74061997635\n"
     ]
    }
   ],
   "source": [
    "condition_number = np.linalg.cond(E)\n",
    "print(f\"Condition number of E: {condition_number}\")"
   ],
   "metadata": {
    "collapsed": false,
    "ExecuteTime": {
     "end_time": "2024-01-09T10:54:19.307753300Z",
     "start_time": "2024-01-09T10:54:18.840167900Z"
    }
   },
   "id": "20a84ca6cb005b8c"
  },
  {
   "cell_type": "markdown",
   "source": [
    "# OPTIMAL SOLUTION"
   ],
   "metadata": {
    "collapsed": false
   },
   "id": "708cd5f95860495f"
  },
  {
   "cell_type": "code",
   "execution_count": 166,
   "outputs": [],
   "source": [
    "# Calculate the optimal solution\n",
    "start_optimal = datetime.datetime.now()\n",
    "w_star, _, _, _ = np.linalg.lstsq(E, H @ tr_y.T, rcond=-1)\n",
    "end_optimal = (datetime.datetime.now() - start_optimal).microseconds"
   ],
   "metadata": {
    "collapsed": false,
    "ExecuteTime": {
     "end_time": "2024-01-09T10:54:19.778594700Z",
     "start_time": "2024-01-09T10:54:19.306607500Z"
    }
   },
   "id": "59a939b1e39c14d"
  },
  {
   "cell_type": "code",
   "execution_count": 167,
   "outputs": [],
   "source": [
    "results[\"Optimal\"] = mse(w_star.T@H, tr_y), \"-\", end_optimal"
   ],
   "metadata": {
    "collapsed": false,
    "ExecuteTime": {
     "end_time": "2024-01-09T10:54:20.198985900Z",
     "start_time": "2024-01-09T10:54:19.781851600Z"
    }
   },
   "id": "50f3ce938783414f"
  },
  {
   "cell_type": "code",
   "execution_count": 168,
   "outputs": [
    {
     "name": "stdout",
     "output_type": "stream",
     "text": [
      "Mean square error:  1.57514089968375\n"
     ]
    }
   ],
   "source": [
    "print(\"Mean square error: \", results[\"Optimal\"][0])\n",
    "print(\"Time: \", results[\"Optimal\"][2])"
   ],
   "metadata": {
    "collapsed": false,
    "ExecuteTime": {
     "end_time": "2024-01-09T10:54:20.618973400Z",
     "start_time": "2024-01-09T10:54:20.201335400Z"
    }
   },
   "id": "5b5b7523eb5b20e1"
  },
  {
   "cell_type": "markdown",
   "source": [
    "## Cholesky solution"
   ],
   "metadata": {
    "collapsed": false
   },
   "id": "22abd31734962061"
  },
  {
   "cell_type": "code",
   "execution_count": 169,
   "outputs": [],
   "source": [
    "output = fit_cholesky(tr_x, tr_y, lambda_=LAMBDA_REG, resevoir=resevoir, verbose=True)\n",
    "cholesky = output[\"model\"]\n",
    "time = output[\"elapsed_time\"]"
   ],
   "metadata": {
    "collapsed": false,
    "ExecuteTime": {
     "end_time": "2024-01-09T10:54:21.215193500Z",
     "start_time": "2024-01-09T10:54:20.622279600Z"
    }
   },
   "id": "cd94dc2c29237fe2"
  },
  {
   "cell_type": "code",
   "execution_count": 170,
   "outputs": [],
   "source": [
    "cholesky_rel_gap_sol = np.linalg.norm(cholesky.w2 - w_star.T, ord=\"fro\")/np.linalg.norm(w_star, ord=\"fro\")\n",
    "results[\"Cholesky\"] = (get_results(cholesky, tr_x, tr_y), cholesky_rel_gap_sol, time)"
   ],
   "metadata": {
    "collapsed": false,
    "ExecuteTime": {
     "end_time": "2024-01-09T10:54:21.653388400Z",
     "start_time": "2024-01-09T10:54:21.217694800Z"
    }
   },
   "id": "99401dabe324fb18"
  },
  {
   "cell_type": "code",
   "execution_count": 171,
   "outputs": [
    {
     "name": "stdout",
     "output_type": "stream",
     "text": [
      "Cholesky Mean square error:  1.5751408996835052\n",
      "Cholesky Relative Gap Sol:  2.1370464888682082e-11\n"
     ]
    }
   ],
   "source": [
    "print(\"Cholesky Mean square error: \", results[\"Cholesky\"][0])\n",
    "print(\"Cholesky Relative Gap Sol: \", results[\"Cholesky\"][1])"
   ],
   "metadata": {
    "collapsed": false,
    "ExecuteTime": {
     "end_time": "2024-01-09T10:54:22.121658700Z",
     "start_time": "2024-01-09T10:54:21.651165800Z"
    }
   },
   "id": "f1ce2dc6fac0e5d4"
  },
  {
   "cell_type": "markdown",
   "source": [
    "## Iterative methods"
   ],
   "metadata": {
    "collapsed": false
   },
   "id": "fa7368144f1c0e69"
  },
  {
   "cell_type": "code",
   "execution_count": 172,
   "outputs": [],
   "source": [
    "output_sgd = fit_sgd(x_train=tr_x, y_train=tr_y, lambda_=LAMBDA_REG, max_inters=MAX_ITER,\n",
    "                        eps=PRECISION, resevoir=resevoir, w_star=w_star.T, verbose=True)\n",
    "classical_sgd = output_sgd[\"model\"]\n",
    "time = output_sgd[\"elapsed_time\"]"
   ],
   "metadata": {
    "collapsed": false,
    "ExecuteTime": {
     "end_time": "2024-01-09T10:55:18.106189300Z",
     "start_time": "2024-01-09T10:54:22.125037300Z"
    }
   },
   "id": "1b61cfa27295d68e"
  },
  {
   "cell_type": "code",
   "execution_count": 173,
   "outputs": [],
   "source": [
    "sgd_gap_sol = output_sgd[\"results\"][\"Rel_Gap_Sol\"].tail(1).values[0]\n",
    "results[\"classical-SGD\"] = get_results(classical_sgd, tr_x, tr_y), sgd_gap_sol, time"
   ],
   "metadata": {
    "collapsed": false,
    "ExecuteTime": {
     "end_time": "2024-01-09T10:55:18.627089600Z",
     "start_time": "2024-01-09T10:55:18.119571600Z"
    }
   },
   "id": "a9a0e385dadbce3e"
  },
  {
   "cell_type": "code",
   "execution_count": 174,
   "outputs": [
    {
     "name": "stdout",
     "output_type": "stream",
     "text": [
      "Mean square error:  1.6957334845737588\n",
      "Relative Gap Sol:  0.4808742133267302\n"
     ]
    }
   ],
   "source": [
    "print(\"Mean square error: \", results[\"classical-SGD\"][0])\n",
    "print(\"Relative Gap Sol: \", results[\"classical-SGD\"][1])"
   ],
   "metadata": {
    "collapsed": false,
    "ExecuteTime": {
     "end_time": "2024-01-09T10:55:19.057396800Z",
     "start_time": "2024-01-09T10:55:18.626002800Z"
    }
   },
   "id": "896301e27a6aaa68"
  },
  {
   "cell_type": "code",
   "execution_count": 175,
   "outputs": [],
   "source": [
    "output_fista = fit_fista(x_train=tr_x, y_train=tr_y, lambda_=LAMBDA_REG, max_inters=MAX_ITER,\n",
    "                  eps=PRECISION, resevoir=resevoir, w_star=w_star.T, verbose=True)\n",
    "fista = output_fista[\"model\"]\n",
    "time = output_fista[\"elapsed_time\"]"
   ],
   "metadata": {
    "collapsed": false,
    "ExecuteTime": {
     "end_time": "2024-01-09T10:56:08.578388500Z",
     "start_time": "2024-01-09T10:55:19.061672400Z"
    }
   },
   "id": "1154da3f17d00f98"
  },
  {
   "cell_type": "code",
   "execution_count": 176,
   "outputs": [],
   "source": [
    "fista_gap_sol = output_fista[\"results\"][\"Rel_Gap_Sol\"].tail(1).values[0]\n",
    "results[\"Fista\"] = get_results(fista, tr_x, tr_y), fista_gap_sol, time"
   ],
   "metadata": {
    "collapsed": false,
    "ExecuteTime": {
     "end_time": "2024-01-09T10:56:09.137664Z",
     "start_time": "2024-01-09T10:56:08.585443200Z"
    }
   },
   "id": "91e6329362f2052"
  },
  {
   "cell_type": "code",
   "execution_count": 177,
   "outputs": [
    {
     "name": "stdout",
     "output_type": "stream",
     "text": [
      "Mean square error:  1.5751482231025535\n",
      "Relative Gap Sol:  0.0005018062956717223\n"
     ]
    }
   ],
   "source": [
    "print(\"Mean square error: \", results[\"Fista\"][0])\n",
    "print(\"Relative Gap Sol: \", results[\"Fista\"][1])"
   ],
   "metadata": {
    "collapsed": false,
    "ExecuteTime": {
     "end_time": "2024-01-09T10:56:09.607763Z",
     "start_time": "2024-01-09T10:56:09.140792400Z"
    }
   },
   "id": "d8d4893b3ddd6cde"
  },
  {
   "cell_type": "code",
   "outputs": [
    {
     "data": {
      "text/plain": "             MSE  Rel_Gap_Sol\niters                        \n0      37.330396     1.123332\n1      37.330396     1.123332\n2      25.141616     1.120716\n3      15.867552     1.118550\n4       9.950151     1.116944\n...          ...          ...\n29995   1.575148     0.000502\n29996   1.575148     0.000502\n29997   1.575148     0.000502\n29998   1.575148     0.000502\n29999   1.575148     0.000502\n\n[30000 rows x 2 columns]",
      "text/html": "<div>\n<style scoped>\n    .dataframe tbody tr th:only-of-type {\n        vertical-align: middle;\n    }\n\n    .dataframe tbody tr th {\n        vertical-align: top;\n    }\n\n    .dataframe thead th {\n        text-align: right;\n    }\n</style>\n<table border=\"1\" class=\"dataframe\">\n  <thead>\n    <tr style=\"text-align: right;\">\n      <th></th>\n      <th>MSE</th>\n      <th>Rel_Gap_Sol</th>\n    </tr>\n    <tr>\n      <th>iters</th>\n      <th></th>\n      <th></th>\n    </tr>\n  </thead>\n  <tbody>\n    <tr>\n      <th>0</th>\n      <td>37.330396</td>\n      <td>1.123332</td>\n    </tr>\n    <tr>\n      <th>1</th>\n      <td>37.330396</td>\n      <td>1.123332</td>\n    </tr>\n    <tr>\n      <th>2</th>\n      <td>25.141616</td>\n      <td>1.120716</td>\n    </tr>\n    <tr>\n      <th>3</th>\n      <td>15.867552</td>\n      <td>1.118550</td>\n    </tr>\n    <tr>\n      <th>4</th>\n      <td>9.950151</td>\n      <td>1.116944</td>\n    </tr>\n    <tr>\n      <th>...</th>\n      <td>...</td>\n      <td>...</td>\n    </tr>\n    <tr>\n      <th>29995</th>\n      <td>1.575148</td>\n      <td>0.000502</td>\n    </tr>\n    <tr>\n      <th>29996</th>\n      <td>1.575148</td>\n      <td>0.000502</td>\n    </tr>\n    <tr>\n      <th>29997</th>\n      <td>1.575148</td>\n      <td>0.000502</td>\n    </tr>\n    <tr>\n      <th>29998</th>\n      <td>1.575148</td>\n      <td>0.000502</td>\n    </tr>\n    <tr>\n      <th>29999</th>\n      <td>1.575148</td>\n      <td>0.000502</td>\n    </tr>\n  </tbody>\n</table>\n<p>30000 rows × 2 columns</p>\n</div>"
     },
     "execution_count": 178,
     "metadata": {},
     "output_type": "execute_result"
    }
   ],
   "source": [
    "output_fista[\"results\"]"
   ],
   "metadata": {
    "collapsed": false,
    "ExecuteTime": {
     "end_time": "2024-01-09T10:56:10.134702700Z",
     "start_time": "2024-01-09T10:56:09.600750400Z"
    }
   },
   "id": "bbc23938734ab21e",
   "execution_count": 178
  },
  {
   "cell_type": "code",
   "execution_count": 179,
   "outputs": [
    {
     "data": {
      "text/plain": "<Figure size 1500x600 with 2 Axes>",
      "image/png": "[encoded data removed]"
     },
     "metadata": {},
     "output_type": "display_data"
    }
   ],
   "source": [
    "_, axs = plt.subplots(ncols=2,figsize=(15,6))\n",
    "\n",
    "sns.lineplot(data=output_sgd[\"results\"], x=output_sgd[\"results\"].index, y=\"Rel_Gap_Sol\", ax=axs[0], label=\"SGD\")\n",
    "sns.lineplot(data=output_fista[\"results\"], x=output_fista[\"results\"].index, y=\"Rel_Gap_Sol\", ax=axs[0], label=\"Fista\")\n",
    "axs[0].axhline(y=cholesky_rel_gap_sol, label=\"Rel. Gap Solution Cholesky\", color=\"red\", linestyle=\"--\")\n",
    "axs[0].set_title(\"Relative Gap solution\",fontsize=18)\n",
    "axs[0].set_ylabel(\"Relative Gap solution\",fontsize=15)\n",
    "axs[0].set_xlabel(\"Iterations\",fontsize=15)\n",
    "axs[0].set_ylim([-0.05,1.2])\n",
    "axs[0].set_xscale(\"log\")\n",
    "axs[0].legend()\n",
    "\n",
    "\n",
    "sns.lineplot(data=output_sgd[\"results\"], x=output_sgd[\"results\"].index, y=\"MSE\", ax=axs[1], label=\"SGD\")\n",
    "sns.lineplot(data=output_fista[\"results\"], x=output_fista[\"results\"].index, y=\"MSE\", ax=axs[1], label=\"Fista\")\n",
    "axs[1].axhline(y=results[\"Cholesky\"][0], label=\"MSE cholesky\", color=\"red\", linestyle=\"--\")\n",
    "axs[1].axhline(y=results[\"Optimal\"][0], label=\"MSE Optimal\", color=\"black\", linestyle=\"--\")\n",
    "axs[1].set_title(\"Mean square errors\",fontsize=18)\n",
    "axs[1].set_ylabel(\"MSE\",fontsize=15)\n",
    "axs[1].set_xlabel(\"Iterations\",fontsize=15)\n",
    "axs[1].set_ylim([0, 2.3])\n",
    "axs[1].legend()\n",
    "\n",
    "plt.show()\n"
   ],
   "metadata": {
    "collapsed": false,
    "ExecuteTime": {
     "end_time": "2024-01-09T10:56:52.487418300Z",
     "start_time": "2024-01-09T10:56:10.151349200Z"
    }
   },
   "id": "5e86ac1b51cb7d2a"
  },
  {
   "cell_type": "code",
   "execution_count": 180,
   "outputs": [
    {
     "name": "stdout",
     "output_type": "stream",
     "text": [
      "       Method                    MSE                       Rel. gap sol               Time(microseconds)      \n",
      "      Optimal              1.57514089968375                     -                           46424             \n",
      "      Cholesky            1.5751408996835052          2.1370464888682082e-11                142525            \n",
      "   classical-SGD          1.6957334845737588            0.4808742133267302                  921311            \n",
      "       Fista              1.5751482231025535          0.0005018062956717223                 771185            \n"
     ]
    }
   ],
   "source": [
    "print(f\"{'Method' : ^20}{'MSE' : ^30}{'Rel. gap sol' : ^30}{'Time(microseconds)' : ^30}\")\n",
    "\n",
    "for k,v in results.items():\n",
    "    print(f\"{k : ^20}{v[0]:^30}{v[1] : ^30}{v[2] : ^30}\")"
   ],
   "metadata": {
    "collapsed": false,
    "ExecuteTime": {
     "end_time": "2024-01-09T10:56:52.977264200Z",
     "start_time": "2024-01-09T10:56:52.488420900Z"
    }
   },
   "id": "a410ef6781ea8f4c"
  },
  {
   "cell_type": "code",
   "outputs": [],
   "source": [],
   "metadata": {
    "collapsed": false,
    "ExecuteTime": {
     "end_time": "2024-01-09T10:56:52.995971Z",
     "start_time": "2024-01-09T10:56:52.970428Z"
    }
   },
   "id": "c726cf5a8667ca10",
   "execution_count": 180
  }
 ],
 "metadata": {
  "kernelspec": {
   "display_name": "Python 3",
   "language": "python",
   "name": "python3"
  },
  "language_info": {
   "codemirror_mode": {
    "name": "ipython",
    "version": 2
   },
   "file_extension": ".py",
   "mimetype": "text/x-python",
   "name": "python",
   "nbconvert_exporter": "python",
   "pygments_lexer": "ipython2",
   "version": "2.7.6"
  }
 },
 "nbformat": 4,
 "nbformat_minor": 5
}
