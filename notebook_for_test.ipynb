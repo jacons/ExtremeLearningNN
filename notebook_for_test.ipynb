{
 "cells": [
  {
   "cell_type": "code",
   "execution_count": 3,
   "id": "initial_id",
   "metadata": {
    "collapsed": true,
    "ExecuteTime": {
     "end_time": "2023-12-01T17:40:55.926790400Z",
     "start_time": "2023-12-01T17:40:54.489114600Z"
    }
   },
   "outputs": [],
   "source": [
    "import matplotlib.pyplot as plt\n",
    "import pandas as pd\n",
    "import  seaborn as sns\n",
    "\n",
    "from Utils import sigmoid\n",
    "from ExperientalTools import *\n",
    "\n",
    "import warnings\n",
    "warnings.filterwarnings(\"ignore\", \"is_categorical_dtype\")\n",
    "warnings.filterwarnings(\"ignore\", \"use_inf_as_na\")\n",
    "%reload_ext autoreload\n",
    "%autoreload 2"
   ]
  },
  {
   "cell_type": "markdown",
   "source": [
    "# JUST AN EXAMPLE"
   ],
   "metadata": {
    "collapsed": false
   },
   "id": "708cd5f95860495f"
  },
  {
   "cell_type": "code",
   "execution_count": 4,
   "outputs": [
    {
     "ename": "ValueError",
     "evalue": "too many values to unpack (expected 2)",
     "output_type": "error",
     "traceback": [
      "\u001B[1;31m---------------------------------------------------------------------------\u001B[0m",
      "\u001B[1;31mValueError\u001B[0m                                Traceback (most recent call last)",
      "Cell \u001B[1;32mIn [4], line 1\u001B[0m\n\u001B[1;32m----> 1\u001B[0m (tr_x,tr_y), (vl_x,vl_y) \u001B[38;5;241m=\u001B[39m prepare_dataset(train_path\u001B[38;5;241m=\u001B[39m\u001B[38;5;124m\"\u001B[39m\u001B[38;5;124mdatasets/ML-CUP21-TR.csv\u001B[39m\u001B[38;5;124m\"\u001B[39m)\n",
      "\u001B[1;31mValueError\u001B[0m: too many values to unpack (expected 2)"
     ]
    }
   ],
   "source": [
    "(tr_x,tr_y), (vl_x,vl_y) = prepare_dataset(train_path=\"datasets/ML-CUP21-TR.csv\")"
   ],
   "metadata": {
    "collapsed": false,
    "ExecuteTime": {
     "end_time": "2023-12-01T17:40:56.162643500Z",
     "start_time": "2023-12-01T17:40:55.926790400Z"
    }
   },
   "id": "a34a2c487fffa112"
  },
  {
   "cell_type": "code",
   "execution_count": null,
   "outputs": [],
   "source": [
    "instance = fit_cholesky(tr_x,tr_y, hidden=100,lambda_=0, activation=sigmoid)"
   ],
   "metadata": {
    "collapsed": false,
    "ExecuteTime": {
     "end_time": "2023-12-01T17:40:56.175811600Z",
     "start_time": "2023-12-01T17:40:56.172783500Z"
    }
   },
   "id": "99401dabe324fb18"
  },
  {
   "cell_type": "code",
   "execution_count": null,
   "outputs": [],
   "source": [
    "get_results(instance,vl_x,vl_y)"
   ],
   "metadata": {
    "collapsed": false,
    "ExecuteTime": {
     "start_time": "2023-12-01T17:40:56.175811600Z"
    }
   },
   "id": "f1ce2dc6fac0e5d4"
  },
  {
   "cell_type": "code",
   "execution_count": null,
   "outputs": [],
   "source": [
    "instance = fit_fista(tr_x,tr_y, hidden=500, lambda_=0, max_inters=10000, activation=sigmoid)"
   ],
   "metadata": {
    "collapsed": false,
    "ExecuteTime": {
     "end_time": "2023-12-01T17:40:56.265003800Z",
     "start_time": "2023-12-01T17:40:56.175811600Z"
    }
   },
   "id": "91e6329362f2052"
  },
  {
   "cell_type": "code",
   "execution_count": null,
   "outputs": [],
   "source": [
    "mse_errors =pd.DataFrame(instance[1],columns=[\"MSE errors\"])\n",
    "mse_errors[\"iterations\"] = mse_errors.index"
   ],
   "metadata": {
    "collapsed": false,
    "ExecuteTime": {
     "start_time": "2023-12-01T17:40:56.193557900Z"
    }
   },
   "id": "85bfce2b7a07724"
  },
  {
   "cell_type": "code",
   "execution_count": null,
   "outputs": [],
   "source": [
    "f, axs = plt.subplots(figsize=(8,5))\n",
    "sns.lineplot(data=mse_errors, x=\"iterations\", y=\"MSE errors\", ax=axs)\n",
    "axs.set_ylim([0,20])\n",
    "axs.set_title(\"MSE error in Training set\")\n",
    "plt.show()"
   ],
   "metadata": {
    "collapsed": false,
    "ExecuteTime": {
     "start_time": "2023-12-01T17:40:56.199015700Z"
    }
   },
   "id": "de650320abb06bbe"
  },
  {
   "cell_type": "markdown",
   "source": [
    "# GRIDSEARCH CHOLESKY"
   ],
   "metadata": {
    "collapsed": false
   },
   "id": "1c936de9a550c87d"
  },
  {
   "cell_type": "code",
   "execution_count": null,
   "outputs": [],
   "source": [
    "parameter_grid = dict(\n",
    "    hidden=[*range(10,500,10)],\n",
    "    regularization =  [1e-01, 5e-02, 1e-02, 5e-03, 1e-03],\n",
    "    activation_fun = [sigmoid]\n",
    ")\n",
    "GridSearch_cholesky(\"datasets/ML-CUP21-TR.csv\",configs=parameter_grid)"
   ],
   "metadata": {
    "collapsed": false,
    "ExecuteTime": {
     "start_time": "2023-12-01T17:40:56.203181700Z"
    }
   },
   "id": "6d1c13ce2ea9f6d0"
  },
  {
   "cell_type": "markdown",
   "source": [
    "# GRIDSEARCH FISTA"
   ],
   "metadata": {
    "collapsed": false
   },
   "id": "984dec71b808c391"
  },
  {
   "cell_type": "code",
   "execution_count": null,
   "outputs": [],
   "source": [
    "parameter_grid = dict(\n",
    "    hidden=[*range(10,500,10)],\n",
    "    regularization =  [1e-01, 5e-02, 1e-02, 5e-03, 1e-03],\n",
    "    activation_fun = [sigmoid],\n",
    "    max_iter=[10000]\n",
    ")\n",
    "GridSearch_fista(\"datasets/ML-CUP21-TR.csv\",configs=parameter_grid)"
   ],
   "metadata": {
    "collapsed": false,
    "ExecuteTime": {
     "start_time": "2023-12-01T17:40:56.206278900Z"
    }
   },
   "id": "cfbf285ece6849bb"
  }
 ],
 "metadata": {
  "kernelspec": {
   "display_name": "Python 3",
   "language": "python",
   "name": "python3"
  },
  "language_info": {
   "codemirror_mode": {
    "name": "ipython",
    "version": 2
   },
   "file_extension": ".py",
   "mimetype": "text/x-python",
   "name": "python",
   "nbconvert_exporter": "python",
   "pygments_lexer": "ipython2",
   "version": "2.7.6"
  }
 },
 "nbformat": 4,
 "nbformat_minor": 5
}
