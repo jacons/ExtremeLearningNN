{
 "cells": [
  {
   "cell_type": "code",
   "execution_count": 22,
   "id": "initial_id",
   "metadata": {
    "collapsed": true,
    "ExecuteTime": {
     "end_time": "2023-12-07T16:21:07.971781200Z",
     "start_time": "2023-12-07T16:21:07.605517500Z"
    }
   },
   "outputs": [],
   "source": [
    "import matplotlib.pyplot as plt\n",
    "import pandas as pd\n",
    "import numpy as np\n",
    "\n",
    "import  seaborn as sns\n",
    "sns.set_style(\"darkgrid\")\n",
    "\n",
    "from Utils import *\n",
    "from ExperientalTools import *\n",
    "\n",
    "import warnings\n",
    "warnings.filterwarnings(\"ignore\", \"is_categorical_dtype\")\n",
    "warnings.filterwarnings(\"ignore\", \"use_inf_as_na\")\n",
    "%reload_ext autoreload\n",
    "%autoreload 2"
   ]
  },
  {
   "cell_type": "code",
   "execution_count": 23,
   "outputs": [],
   "source": [
    "# (tr_x,tr_y), (vl_x,vl_y), (ts_x,ts_y) = prepare_dataset(train_path=\"datasets/ML-CUP21-TR.csv\")\n",
    "(tr_x,tr_y) = prepare_dataset(train_path=\"datasets/ML-CUP21-TR.csv\",unique=True)"
   ],
   "metadata": {
    "collapsed": false,
    "ExecuteTime": {
     "end_time": "2023-12-07T16:21:08.145363800Z",
     "start_time": "2023-12-07T16:21:07.982392800Z"
    }
   },
   "id": "8999d6bb57ad46b1"
  },
  {
   "cell_type": "markdown",
   "source": [
    "# JUST AN EXAMPLE"
   ],
   "metadata": {
    "collapsed": false
   },
   "id": "708cd5f95860495f"
  },
  {
   "cell_type": "markdown",
   "source": [
    "## Optimal solution"
   ],
   "metadata": {
    "collapsed": false
   },
   "id": "22abd31734962061"
  },
  {
   "cell_type": "code",
   "execution_count": 24,
   "outputs": [],
   "source": [
    "resevoir = np.random.uniform(-1, 1,(250,10))"
   ],
   "metadata": {
    "collapsed": false,
    "ExecuteTime": {
     "end_time": "2023-12-07T16:21:10.435437300Z",
     "start_time": "2023-12-07T16:21:10.327773100Z"
    }
   },
   "id": "f4c2b796c1f3c5e2"
  },
  {
   "cell_type": "code",
   "execution_count": 25,
   "outputs": [],
   "source": [
    "H = sigmoid(resevoir@tr_x)"
   ],
   "metadata": {
    "collapsed": false,
    "ExecuteTime": {
     "end_time": "2023-12-07T16:21:10.822646Z",
     "start_time": "2023-12-07T16:21:10.687947400Z"
    }
   },
   "id": "531acd651dda09d6"
  },
  {
   "cell_type": "code",
   "execution_count": 26,
   "outputs": [],
   "source": [
    "w_star,_,_,_ = np.linalg.lstsq(H.T, tr_y.T,rcond=-1)"
   ],
   "metadata": {
    "collapsed": false,
    "ExecuteTime": {
     "end_time": "2023-12-07T16:21:11.357223500Z",
     "start_time": "2023-12-07T16:21:11.104934900Z"
    }
   },
   "id": "50f3ce938783414f"
  },
  {
   "cell_type": "code",
   "execution_count": 27,
   "outputs": [
    {
     "data": {
      "text/plain": "1.2095295996949622"
     },
     "execution_count": 27,
     "metadata": {},
     "output_type": "execute_result"
    }
   ],
   "source": [
    "MSE(w_star.T@H,tr_y)"
   ],
   "metadata": {
    "collapsed": false,
    "ExecuteTime": {
     "end_time": "2023-12-07T16:21:12.249023500Z",
     "start_time": "2023-12-07T16:21:12.105559100Z"
    }
   },
   "id": "5b5b7523eb5b20e1"
  },
  {
   "cell_type": "markdown",
   "source": [
    "## CONSTANTS"
   ],
   "metadata": {
    "collapsed": false
   },
   "id": "8805912a0d76fc9c"
  },
  {
   "cell_type": "code",
   "execution_count": 51,
   "outputs": [],
   "source": [
    "SIZE_RESERVOIR = 250\n",
    "LAMBDA_REG = 1e-02\n",
    "MAX_ITER = 500\n",
    "PRECISION = 1e-04\n",
    "LEARNING_RATE = 0 # 1/(L+tau) will be chosen "
   ],
   "metadata": {
    "collapsed": false,
    "ExecuteTime": {
     "end_time": "2023-12-07T16:29:54.097883500Z",
     "start_time": "2023-12-07T16:29:53.989000600Z"
    }
   },
   "id": "f0db0a91ea8f4f95"
  },
  {
   "cell_type": "code",
   "execution_count": 58,
   "outputs": [
    {
     "name": "stdout",
     "output_type": "stream",
     "text": [
      "Condition number of H: 3917.0062798015224\n"
     ]
    }
   ],
   "source": [
    "condition_number = np.linalg.cond(H)\n",
    "print(f\"Condition number of H: {condition_number}\")"
   ],
   "metadata": {
    "collapsed": false,
    "ExecuteTime": {
     "end_time": "2023-12-07T16:36:23.892500400Z",
     "start_time": "2023-12-07T16:36:23.587249800Z"
    }
   },
   "id": "5503903cab25ee0c"
  },
  {
   "cell_type": "markdown",
   "source": [
    "## EXPERIMENTS"
   ],
   "metadata": {
    "collapsed": false
   },
   "id": "eb8698f47cef7fed"
  },
  {
   "cell_type": "code",
   "execution_count": 52,
   "outputs": [],
   "source": [
    "model = fit_cholesky(tr_x,tr_y, hidden=SIZE_RESERVOIR, lambda_=LAMBDA_REG, activation=sigmoid, resevoir=resevoir)"
   ],
   "metadata": {
    "collapsed": false,
    "ExecuteTime": {
     "end_time": "2023-12-07T16:29:54.646862200Z",
     "start_time": "2023-12-07T16:29:54.296144300Z"
    }
   },
   "id": "99401dabe324fb18"
  },
  {
   "cell_type": "code",
   "execution_count": 53,
   "outputs": [
    {
     "data": {
      "text/plain": "1.222223878744749"
     },
     "execution_count": 53,
     "metadata": {},
     "output_type": "execute_result"
    }
   ],
   "source": [
    "get_results(model,tr_x,tr_y)"
   ],
   "metadata": {
    "collapsed": false,
    "ExecuteTime": {
     "end_time": "2023-12-07T16:29:54.766367500Z",
     "start_time": "2023-12-07T16:29:54.642462700Z"
    }
   },
   "id": "f1ce2dc6fac0e5d4"
  },
  {
   "cell_type": "code",
   "execution_count": 54,
   "outputs": [],
   "source": [
    "instance1 = fit_sgd(tr_x, tr_y, hidden=SIZE_RESERVOIR, lambda_=LAMBDA_REG, activation=sigmoid,\n",
    "                    max_inters=MAX_ITER, eps=PRECISION, lr=LEARNING_RATE, beta=0, resevoir=resevoir, w_star=w_star.T)\n",
    "\n",
    "instance2 = fit_sgd(tr_x, tr_y, hidden=SIZE_RESERVOIR, lambda_=LAMBDA_REG, activation=sigmoid,\n",
    "                    max_inters=MAX_ITER, eps=PRECISION, lr=LEARNING_RATE, beta=0.5, resevoir=resevoir, w_star=w_star.T)  \n",
    "\n",
    "instance3 = fit_fista(tr_x, tr_y, hidden=SIZE_RESERVOIR, lambda_=LAMBDA_REG, activation=sigmoid,\n",
    "                      max_inters=MAX_ITER, eps=PRECISION, resevoir=resevoir, w_star=w_star.T)"
   ],
   "metadata": {
    "collapsed": false,
    "ExecuteTime": {
     "end_time": "2023-12-07T16:29:57.295422400Z",
     "start_time": "2023-12-07T16:29:54.768518500Z"
    }
   },
   "id": "91e6329362f2052"
  },
  {
   "cell_type": "markdown",
   "source": [
    "Relative Error on Input"
   ],
   "metadata": {
    "collapsed": false
   },
   "id": "c2458de9e108b7cb"
  },
  {
   "cell_type": "code",
   "execution_count": 55,
   "outputs": [
    {
     "data": {
      "text/plain": "<Figure size 640x480 with 1 Axes>",
      "image/png": "[encoded data removed]"
     },
     "metadata": {},
     "output_type": "display_data"
    }
   ],
   "source": [
    "plt.plot(instance1[1][\"Gap\"],label=\"SGD\")\n",
    "plt.plot(instance2[1][\"Gap\"],label=\"SGD-M\")\n",
    "plt.plot(instance3[1][\"Gap\"],label=\"FISTA\")\n",
    "plt.legend()\n",
    "plt.show()"
   ],
   "metadata": {
    "collapsed": false,
    "ExecuteTime": {
     "end_time": "2023-12-07T16:29:58.032707100Z",
     "start_time": "2023-12-07T16:29:57.298522600Z"
    }
   },
   "id": "7a89ace7db08794"
  },
  {
   "cell_type": "markdown",
   "source": [
    "Relative Error on Output"
   ],
   "metadata": {
    "collapsed": false
   },
   "id": "912899cc94a38389"
  },
  {
   "cell_type": "code",
   "execution_count": 56,
   "outputs": [
    {
     "data": {
      "text/plain": "<Figure size 640x480 with 1 Axes>",
      "image/png": "[encoded data removed]"
     },
     "metadata": {},
     "output_type": "display_data"
    }
   ],
   "source": [
    "plt.plot(instance1[1][\"Output Gap\"],label=\"SGD\")\n",
    "plt.plot(instance2[1][\"Output Gap\"],label=\"SGD-M\")\n",
    "plt.plot(instance3[1][\"Output Gap\"],label=\"FISTA\")\n",
    "plt.legend()\n",
    "plt.show()"
   ],
   "metadata": {
    "collapsed": false,
    "ExecuteTime": {
     "end_time": "2023-12-07T16:29:58.300245600Z",
     "start_time": "2023-12-07T16:29:58.034939700Z"
    }
   },
   "id": "a5a3b36b52403c96"
  },
  {
   "cell_type": "code",
   "execution_count": 57,
   "outputs": [
    {
     "name": "stdout",
     "output_type": "stream",
     "text": [
      "MSE at the last iteration:\n",
      "SGD 3.0497\n",
      "SGD-M 3.0493\n",
      "FISTA 2.5715\n"
     ]
    }
   ],
   "source": [
    "print(f\"MSE at the last iteration:\\nSGD {instance1[2]}\\nSGD-M {instance2[2]}\\nFISTA {instance3[2]}\")"
   ],
   "metadata": {
    "collapsed": false,
    "ExecuteTime": {
     "end_time": "2023-12-07T16:29:58.431952700Z",
     "start_time": "2023-12-07T16:29:58.292456200Z"
    }
   },
   "id": "8c6507f54e639863"
  },
  {
   "cell_type": "code",
   "execution_count": 50,
   "outputs": [
    {
     "data": {
      "text/plain": "<Figure size 1000x500 with 1 Axes>",
      "image/png": "[encoded data removed]"
     },
     "metadata": {},
     "output_type": "display_data"
    }
   ],
   "source": [
    "f, axs = plt.subplots(figsize=(10,5))\n",
    "sns.lineplot(data=instance1[1], x=instance1[1].index, y=\"MSE_error\", ax=axs, label=\"SGD\")\n",
    "sns.lineplot(data=instance2[1], x=instance2[1].index, y=\"MSE_error\", ax=axs, label=\"SGD with CM\")\n",
    "sns.lineplot(data=instance3[1], x=instance3[1].index, y=\"MSE_error\", ax=axs, label=\"FISTA\")\n",
    "axs.set_ylim([0,20])\n",
    "axs.set_title(\"MSE error in Training set\",fontsize=18)\n",
    "axs.set_ylabel(\"MSE error\",fontsize=15)\n",
    "axs.set_xlabel(\"Iterations\",fontsize=15)\n",
    "axs.legend()\n",
    "plt.show()"
   ],
   "metadata": {
    "collapsed": false,
    "ExecuteTime": {
     "end_time": "2023-12-07T16:29:13.500141400Z",
     "start_time": "2023-12-07T16:29:12.181707700Z"
    }
   },
   "id": "de650320abb06bbe"
  },
  {
   "cell_type": "markdown",
   "source": [
    "# GRIDSEARCH CHOLESKY"
   ],
   "metadata": {
    "collapsed": false
   },
   "id": "1c936de9a550c87d"
  },
  {
   "cell_type": "code",
   "execution_count": 13,
   "outputs": [],
   "source": [
    "parameter_cholesky = dict(\n",
    "    hidden=[*range(10,500,10)],\n",
    "    lambda_ =  [0.001,0.0005],\n",
    "    activation = [sigmoid, ReLU, tanH]\n",
    ")"
   ],
   "metadata": {
    "collapsed": false,
    "ExecuteTime": {
     "end_time": "2023-12-07T15:47:08.862091200Z",
     "start_time": "2023-12-07T15:47:08.724596700Z"
    }
   },
   "id": "6d1c13ce2ea9f6d0"
  },
  {
   "cell_type": "code",
   "execution_count": 14,
   "outputs": [],
   "source": [
    "# grid_search_cholesky(configs=parameter_cholesky, train=(tr_x,tr_y), valid=(vl_x,vl_y))"
   ],
   "metadata": {
    "collapsed": false,
    "ExecuteTime": {
     "end_time": "2023-12-07T15:47:08.916450500Z",
     "start_time": "2023-12-07T15:47:08.820556100Z"
    }
   },
   "id": "af939c3abba2c10e"
  },
  {
   "cell_type": "markdown",
   "source": [
    "# GRIDSEARCH FISTA"
   ],
   "metadata": {
    "collapsed": false
   },
   "id": "984dec71b808c391"
  },
  {
   "cell_type": "code",
   "execution_count": 15,
   "outputs": [],
   "source": [
    "parameter_fista = dict(\n",
    "    hidden=[*range(10,500,15)],\n",
    "    lambda_ =  [0.0005],\n",
    "    activation = [sigmoid],\n",
    "    max_inters=[1000, 5000],\n",
    "    eps=[0]\n",
    ")"
   ],
   "metadata": {
    "collapsed": false,
    "ExecuteTime": {
     "end_time": "2023-12-07T15:47:08.981942600Z",
     "start_time": "2023-12-07T15:47:08.905660300Z"
    }
   },
   "id": "cfbf285ece6849bb"
  },
  {
   "cell_type": "code",
   "execution_count": 16,
   "outputs": [],
   "source": [
    "# grid_search_iterative(configs=parameter_fista, train=(tr_x,tr_y), valid=(vl_x,vl_y), optimizer=\"FISTA\")"
   ],
   "metadata": {
    "collapsed": false,
    "ExecuteTime": {
     "end_time": "2023-12-07T15:47:09.056134100Z",
     "start_time": "2023-12-07T15:47:08.981942600Z"
    }
   },
   "id": "baf6e8e8686937ce"
  },
  {
   "cell_type": "markdown",
   "source": [
    "# GRIDSEARCH SDG"
   ],
   "metadata": {
    "collapsed": false
   },
   "id": "46fce4cd9b0de2c0"
  },
  {
   "cell_type": "code",
   "execution_count": 17,
   "outputs": [],
   "source": [
    "parameter_sgd = dict(\n",
    "    hidden=[*range(10,500,15)],\n",
    "    lambda_ =  [0.0005],\n",
    "    activation = [sigmoid],\n",
    "    max_inters=[1000],\n",
    "    eps=[0],\n",
    "    lr=[0],\n",
    "    beta=[0]\n",
    ")"
   ],
   "metadata": {
    "collapsed": false,
    "ExecuteTime": {
     "end_time": "2023-12-07T15:47:09.135910300Z",
     "start_time": "2023-12-07T15:47:09.056134100Z"
    }
   },
   "id": "fa6b933f11229836"
  },
  {
   "cell_type": "code",
   "execution_count": 18,
   "outputs": [],
   "source": [
    "# grid_search_iterative(configs=parameter_sgd, train=(tr_x,tr_y), valid=(vl_x,vl_y), optimizer=\"SGD\")"
   ],
   "metadata": {
    "collapsed": false,
    "ExecuteTime": {
     "end_time": "2023-12-07T15:47:09.230777Z",
     "start_time": "2023-12-07T15:47:09.141656100Z"
    }
   },
   "id": "f559fed44bf2bc5f"
  },
  {
   "cell_type": "markdown",
   "source": [
    "# GRIDSEARCH SGD with CLASSICAL MOMENTUM"
   ],
   "metadata": {
    "collapsed": false
   },
   "id": "a4c75f2069054c9b"
  },
  {
   "cell_type": "code",
   "execution_count": 19,
   "outputs": [],
   "source": [
    "parameter_sgd = dict(\n",
    "    hidden=[*range(10,500,15)],\n",
    "    lambda_ =  [0.0005],\n",
    "    activation = [sigmoid],\n",
    "    max_inters=[1000],\n",
    "    eps=[0],\n",
    "    lr=[0],\n",
    "    beta=[0.99]\n",
    ")"
   ],
   "metadata": {
    "collapsed": false,
    "ExecuteTime": {
     "end_time": "2023-12-07T15:47:09.318464100Z",
     "start_time": "2023-12-07T15:47:09.230777Z"
    }
   },
   "id": "d3d0bee64415c551"
  },
  {
   "cell_type": "code",
   "execution_count": 20,
   "outputs": [],
   "source": [
    "# grid_search_iterative(configs=parameter_sgd, train=(tr_x,tr_y), valid=(vl_x,vl_y), optimizer=\"SGD\")"
   ],
   "metadata": {
    "collapsed": false,
    "ExecuteTime": {
     "end_time": "2023-12-07T15:47:09.388356800Z",
     "start_time": "2023-12-07T15:47:09.315068900Z"
    }
   },
   "id": "6b8bb4392563b749"
  }
 ],
 "metadata": {
  "kernelspec": {
   "display_name": "Python 3",
   "language": "python",
   "name": "python3"
  },
  "language_info": {
   "codemirror_mode": {
    "name": "ipython",
    "version": 2
   },
   "file_extension": ".py",
   "mimetype": "text/x-python",
   "name": "python",
   "nbconvert_exporter": "python",
   "pygments_lexer": "ipython2",
   "version": "2.7.6"
  }
 },
 "nbformat": 4,
 "nbformat_minor": 5
}
