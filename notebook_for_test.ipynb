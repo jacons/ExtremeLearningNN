{
 "cells": [
  {
   "cell_type": "code",
   "execution_count": 39,
   "id": "initial_id",
   "metadata": {
    "collapsed": true,
    "ExecuteTime": {
     "end_time": "2023-12-01T16:51:23.593808400Z",
     "start_time": "2023-12-01T16:51:23.262580700Z"
    }
   },
   "outputs": [],
   "source": [
    "import matplotlib.pyplot as plt\n",
    "import pandas as pd\n",
    "import  seaborn as sns\n",
    "\n",
    "from Utils import sigmoid\n",
    "from ExperientalTools import *\n",
    "\n",
    "import warnings\n",
    "warnings.filterwarnings(\"ignore\", \"is_categorical_dtype\")\n",
    "warnings.filterwarnings(\"ignore\", \"use_inf_as_na\")\n",
    "%reload_ext autoreload\n",
    "%autoreload 2"
   ]
  },
  {
   "cell_type": "markdown",
   "source": [
    "# JUST AN EXAMPLE"
   ],
   "metadata": {
    "collapsed": false
   },
   "id": "708cd5f95860495f"
  },
  {
   "cell_type": "code",
   "execution_count": 2,
   "outputs": [],
   "source": [
    "(tr_x,tr_y), (vl_x,vl_y) = prepare_dataset(train_path=\"datasets/ML-CUP21-TR.csv\")"
   ],
   "metadata": {
    "collapsed": false,
    "ExecuteTime": {
     "end_time": "2023-12-01T16:39:35.590640100Z",
     "start_time": "2023-12-01T16:39:35.517974700Z"
    }
   },
   "id": "a34a2c487fffa112"
  },
  {
   "cell_type": "code",
   "execution_count": 3,
   "outputs": [],
   "source": [
    "instance = fit_cholesky(tr_x,tr_y, hidden=100,lambda_=0, activation=sigmoid)"
   ],
   "metadata": {
    "collapsed": false,
    "ExecuteTime": {
     "end_time": "2023-12-01T16:39:35.707393600Z",
     "start_time": "2023-12-01T16:39:35.590640100Z"
    }
   },
   "id": "99401dabe324fb18"
  },
  {
   "cell_type": "code",
   "execution_count": 4,
   "outputs": [
    {
     "data": {
      "text/plain": "2.156456580698822"
     },
     "execution_count": 4,
     "metadata": {},
     "output_type": "execute_result"
    }
   ],
   "source": [
    "get_results(instance,vl_x,vl_y)"
   ],
   "metadata": {
    "collapsed": false,
    "ExecuteTime": {
     "end_time": "2023-12-01T16:39:35.789617400Z",
     "start_time": "2023-12-01T16:39:35.707393600Z"
    }
   },
   "id": "f1ce2dc6fac0e5d4"
  },
  {
   "cell_type": "code",
   "execution_count": 30,
   "outputs": [],
   "source": [
    "instance = fit_fista(tr_x,tr_y, hidden=500, lambda_=0, max_inters=10000, activation=sigmoid)"
   ],
   "metadata": {
    "collapsed": false,
    "ExecuteTime": {
     "end_time": "2023-12-01T16:42:44.145037500Z",
     "start_time": "2023-12-01T16:42:40.781843400Z"
    }
   },
   "id": "91e6329362f2052"
  },
  {
   "cell_type": "code",
   "execution_count": 31,
   "outputs": [],
   "source": [
    "mse_errors =pd.DataFrame(instance[1],columns=[\"MSE errors\"])\n",
    "mse_errors[\"iterations\"] = mse_errors.index"
   ],
   "metadata": {
    "collapsed": false,
    "ExecuteTime": {
     "end_time": "2023-12-01T16:42:46.358891200Z",
     "start_time": "2023-12-01T16:42:46.206063600Z"
    }
   },
   "id": "85bfce2b7a07724"
  },
  {
   "cell_type": "code",
   "execution_count": 34,
   "outputs": [
    {
     "data": {
      "text/plain": "<Figure size 800x500 with 1 Axes>",
      "image/png": "[encoded data removed]"
     },
     "metadata": {},
     "output_type": "display_data"
    }
   ],
   "source": [
    "f, axs = plt.subplots(figsize=(8,5))\n",
    "sns.lineplot(data=mse_errors, x=\"iterations\", y=\"MSE errors\", ax=axs)\n",
    "axs.set_ylim([0,20])\n",
    "axs.set_title(\"MSE error in Training set\")\n",
    "plt.show()"
   ],
   "metadata": {
    "collapsed": false,
    "ExecuteTime": {
     "end_time": "2023-12-01T16:43:25.727751700Z",
     "start_time": "2023-12-01T16:43:25.403582400Z"
    }
   },
   "id": "de650320abb06bbe"
  },
  {
   "cell_type": "markdown",
   "source": [
    "# GRIDSEARCH CHOLESKY"
   ],
   "metadata": {
    "collapsed": false
   },
   "id": "1c936de9a550c87d"
  },
  {
   "cell_type": "code",
   "execution_count": 37,
   "outputs": [
    {
     "name": "stderr",
     "output_type": "stream",
     "text": [
      "100%|██████████| 245/245 [01:22<00:00,  2.97it/s, minMSE=2]   "
     ]
    },
    {
     "name": "stdout",
     "output_type": "stream",
     "text": [
      "\n",
      "The best configuration is  {'activation_fun': <function sigmoid at 0x000002C8E2692DE0>, 'hidden': 330, 'regularization': 0.01}\n",
      "Train error  1.2263077668983142  Validation error 2.0037037380874825\n"
     ]
    },
    {
     "name": "stderr",
     "output_type": "stream",
     "text": [
      "\n"
     ]
    }
   ],
   "source": [
    "parameter_grid = dict(\n",
    "    hidden=[*range(10,500,10)],\n",
    "    regularization =  [1e-01, 5e-02, 1e-02, 5e-03, 1e-03],\n",
    "    activation_fun = [sigmoid]\n",
    ")\n",
    "GridSearch_cholesky(\"datasets/ML-CUP21-TR.csv\",configs=parameter_grid)"
   ],
   "metadata": {
    "collapsed": false,
    "ExecuteTime": {
     "end_time": "2023-12-01T16:50:42.178718600Z",
     "start_time": "2023-12-01T16:49:19.584333100Z"
    }
   },
   "id": "6d1c13ce2ea9f6d0"
  },
  {
   "cell_type": "markdown",
   "source": [
    "# GRIDSEARCH FISTA"
   ],
   "metadata": {
    "collapsed": false
   },
   "id": "984dec71b808c391"
  },
  {
   "cell_type": "code",
   "execution_count": 40,
   "outputs": [
    {
     "name": "stderr",
     "output_type": "stream",
     "text": [
      "100%|██████████| 245/245 [08:00<00:00,  1.96s/it, minMSE=11.9]"
     ]
    },
    {
     "name": "stdout",
     "output_type": "stream",
     "text": [
      "\n",
      "The best configuration is  {'activation_fun': <function sigmoid at 0x000002C8E2692DE0>, 'hidden': 240, 'max_iter': 10000, 'regularization': 0.001}\n",
      "Train error  11.585680554135415  Validation error 11.909962646075746\n"
     ]
    },
    {
     "name": "stderr",
     "output_type": "stream",
     "text": [
      "\n"
     ]
    }
   ],
   "source": [
    "parameter_grid = dict(\n",
    "    hidden=[*range(10,500,10)],\n",
    "    regularization =  [1e-01, 5e-02, 1e-02, 5e-03, 1e-03],\n",
    "    activation_fun = [sigmoid],\n",
    "    max_iter=[10000]\n",
    ")\n",
    "GridSearch_fista(\"datasets/ML-CUP21-TR.csv\",configs=parameter_grid)"
   ],
   "metadata": {
    "collapsed": false,
    "ExecuteTime": {
     "end_time": "2023-12-01T16:59:25.846730900Z",
     "start_time": "2023-12-01T16:51:25.194501Z"
    }
   },
   "id": "cfbf285ece6849bb"
  }
 ],
 "metadata": {
  "kernelspec": {
   "display_name": "Python 3",
   "language": "python",
   "name": "python3"
  },
  "language_info": {
   "codemirror_mode": {
    "name": "ipython",
    "version": 2
   },
   "file_extension": ".py",
   "mimetype": "text/x-python",
   "name": "python",
   "nbconvert_exporter": "python",
   "pygments_lexer": "ipython2",
   "version": "2.7.6"
  }
 },
 "nbformat": 4,
 "nbformat_minor": 5
}
