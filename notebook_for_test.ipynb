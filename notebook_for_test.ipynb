{
 "cells": [
  {
   "cell_type": "code",
   "execution_count": 1,
   "id": "initial_id",
   "metadata": {
    "collapsed": true,
    "ExecuteTime": {
     "end_time": "2023-10-06T08:28:30.959799600Z",
     "start_time": "2023-10-06T08:28:30.286539600Z"
    }
   },
   "outputs": [],
   "source": [
    "import pandas as pd\n",
    "from Utils import sigmoid, MSE\n",
    "from ExtremeNN import ENeuralN"
   ]
  },
  {
   "cell_type": "code",
   "execution_count": 2,
   "outputs": [],
   "source": [
    "tr  = pd.read_csv(\"datasets/ML-CUP21-TR.csv\", header=None, index_col=0)\n",
    "ts  = pd.read_csv(\"datasets/ML-CUP21-TS.csv\", header=None, index_col=0)\n",
    "\n",
    "#We have training set tr_x 1182 columns and 10 rows\n",
    "tr_x,tr_y = tr.iloc[:,:10].to_numpy().T, tr.iloc[:,10:].to_numpy().T\n",
    "#We have training set tr_y 1182 columns and 2 rows\n",
    "ts_x,ts_y = ts.iloc[:,:10].to_numpy().T, ts.iloc[:,10:].to_numpy().T\n"
   ],
   "metadata": {
    "collapsed": false,
    "ExecuteTime": {
     "end_time": "2023-10-06T08:28:30.994034200Z",
     "start_time": "2023-10-06T08:28:30.965803600Z"
    }
   },
   "id": "59cd81d7b1303728"
  },
  {
   "cell_type": "code",
   "execution_count": 3,
   "outputs": [
    {
     "name": "stdout",
     "output_type": "stream",
     "text": [
      "0.3917488124182572\n",
      "1.105877159859102\n"
     ]
    }
   ],
   "source": [
    "model = ENeuralN(10, 600, 1e-02, sigmoid)\n",
    "\n",
    "model.fit_cholesky(tr_x, tr_y)\n",
    "\n",
    "out_tr = model(tr_x[:,0])\n",
    "out_ts = model(ts_x[:,0])\n",
    "\n",
    "print(MSE(tr_y[:,0], out_tr))\n",
    "print(MSE(ts_y[:,0], out_ts))"
   ],
   "metadata": {
    "collapsed": false,
    "ExecuteTime": {
     "end_time": "2023-10-06T08:28:32.471543400Z",
     "start_time": "2023-10-06T08:28:30.994034200Z"
    }
   },
   "id": "88fbdbc4a4980510"
  }
 ],
 "metadata": {
  "kernelspec": {
   "display_name": "Python 3",
   "language": "python",
   "name": "python3"
  },
  "language_info": {
   "codemirror_mode": {
    "name": "ipython",
    "version": 2
   },
   "file_extension": ".py",
   "mimetype": "text/x-python",
   "name": "python",
   "nbconvert_exporter": "python",
   "pygments_lexer": "ipython2",
   "version": "2.7.6"
  }
 },
 "nbformat": 4,
 "nbformat_minor": 5
}
