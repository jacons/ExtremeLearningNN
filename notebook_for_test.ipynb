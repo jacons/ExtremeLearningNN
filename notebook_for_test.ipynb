{
 "cells": [
  {
   "cell_type": "code",
   "execution_count": 2,
   "id": "initial_id",
   "metadata": {
    "collapsed": true,
    "ExecuteTime": {
     "end_time": "2023-12-02T16:26:11.536067600Z",
     "start_time": "2023-12-02T16:26:11.403453600Z"
    }
   },
   "outputs": [],
   "source": [
    "import matplotlib.pyplot as plt\n",
    "import pandas as pd\n",
    "import  seaborn as sns\n",
    "\n",
    "from Utils import sigmoid\n",
    "from ExperientalTools import *\n",
    "\n",
    "import warnings\n",
    "warnings.filterwarnings(\"ignore\", \"is_categorical_dtype\")\n",
    "warnings.filterwarnings(\"ignore\", \"use_inf_as_na\")\n",
    "%reload_ext autoreload\n",
    "%autoreload 2"
   ]
  },
  {
   "cell_type": "markdown",
   "source": [
    "# JUST AN EXAMPLE"
   ],
   "metadata": {
    "collapsed": false
   },
   "id": "708cd5f95860495f"
  },
  {
   "cell_type": "code",
   "execution_count": 3,
   "outputs": [],
   "source": [
    "(tr_x,tr_y), (vl_x,vl_y), (ts_x,ts_y) = prepare_dataset(train_path=\"datasets/ML-CUP21-TR.csv\")"
   ],
   "metadata": {
    "collapsed": false,
    "ExecuteTime": {
     "end_time": "2023-12-02T16:26:11.698487900Z",
     "start_time": "2023-12-02T16:26:11.526041400Z"
    }
   },
   "id": "a34a2c487fffa112"
  },
  {
   "cell_type": "code",
   "execution_count": 4,
   "outputs": [],
   "source": [
    "instance = fit_cholesky(tr_x,tr_y, hidden=100,lambda_=0, activation=sigmoid)"
   ],
   "metadata": {
    "collapsed": false,
    "ExecuteTime": {
     "end_time": "2023-12-02T16:26:11.923033900Z",
     "start_time": "2023-12-02T16:26:11.698487900Z"
    }
   },
   "id": "99401dabe324fb18"
  },
  {
   "cell_type": "code",
   "execution_count": 5,
   "outputs": [
    {
     "data": {
      "text/plain": "2.1613235500075394"
     },
     "execution_count": 5,
     "metadata": {},
     "output_type": "execute_result"
    }
   ],
   "source": [
    "get_results(instance,vl_x,vl_y)"
   ],
   "metadata": {
    "collapsed": false,
    "ExecuteTime": {
     "end_time": "2023-12-02T16:26:12.069679100Z",
     "start_time": "2023-12-02T16:26:11.923033900Z"
    }
   },
   "id": "f1ce2dc6fac0e5d4"
  },
  {
   "cell_type": "code",
   "execution_count": 6,
   "outputs": [],
   "source": [
    "instance = fit_fista(tr_x,tr_y, hidden=500, lambda_=0, max_inters=10000, activation=sigmoid)"
   ],
   "metadata": {
    "collapsed": false,
    "ExecuteTime": {
     "end_time": "2023-12-02T16:26:15.676595300Z",
     "start_time": "2023-12-02T16:26:12.061664200Z"
    }
   },
   "id": "91e6329362f2052"
  },
  {
   "cell_type": "code",
   "execution_count": 7,
   "outputs": [],
   "source": [
    "mse_errors =pd.DataFrame(instance[1],columns=[\"MSE errors\"])\n",
    "mse_errors[\"iterations\"] = mse_errors.index"
   ],
   "metadata": {
    "collapsed": false,
    "ExecuteTime": {
     "end_time": "2023-12-02T16:26:15.810632900Z",
     "start_time": "2023-12-02T16:26:15.676595300Z"
    }
   },
   "id": "85bfce2b7a07724"
  },
  {
   "cell_type": "code",
   "execution_count": 8,
   "outputs": [
    {
     "data": {
      "text/plain": "<Figure size 800x500 with 1 Axes>",
      "image/png": "[encoded data removed]"
     },
     "metadata": {},
     "output_type": "display_data"
    }
   ],
   "source": [
    "f, axs = plt.subplots(figsize=(8,5))\n",
    "sns.lineplot(data=mse_errors, x=\"iterations\", y=\"MSE errors\", ax=axs)\n",
    "axs.set_ylim([0,20])\n",
    "axs.set_title(\"MSE error in Training set\")\n",
    "plt.show()"
   ],
   "metadata": {
    "collapsed": false,
    "ExecuteTime": {
     "end_time": "2023-12-02T16:26:16.179521100Z",
     "start_time": "2023-12-02T16:26:15.810632900Z"
    }
   },
   "id": "de650320abb06bbe"
  },
  {
   "cell_type": "markdown",
   "source": [
    "# GRIDSEARCH CHOLESKY"
   ],
   "metadata": {
    "collapsed": false
   },
   "id": "1c936de9a550c87d"
  },
  {
   "cell_type": "code",
   "execution_count": 9,
   "outputs": [
    {
     "name": "stderr",
     "output_type": "stream",
     "text": [
      "100%|██████████| 245/245 [01:22<00:00,  2.98it/s, minMSE=1.83]"
     ]
    },
    {
     "name": "stdout",
     "output_type": "stream",
     "text": [
      "\n",
      "The best configuration is  {'activation_fun': <function sigmoid at 0x000001B6C805F880>, 'hidden': 340, 'regularization': 0.01}\n",
      "Train error  1.2490748388061064  Validation error 1.830013853649577\n"
     ]
    },
    {
     "name": "stderr",
     "output_type": "stream",
     "text": [
      "\n"
     ]
    }
   ],
   "source": [
    "parameter_grid = dict(\n",
    "    hidden=[*range(10,500,10)],\n",
    "    regularization =  [1e-01, 5e-02, 1e-02, 5e-03, 1e-03],\n",
    "    activation_fun = [sigmoid]\n",
    ")\n",
    "GridSearch_cholesky(\"datasets/ML-CUP21-TR.csv\",configs=parameter_grid)"
   ],
   "metadata": {
    "collapsed": false,
    "ExecuteTime": {
     "end_time": "2023-12-02T16:27:39.142178Z",
     "start_time": "2023-12-02T16:26:16.179521100Z"
    }
   },
   "id": "6d1c13ce2ea9f6d0"
  },
  {
   "cell_type": "markdown",
   "source": [
    "# GRIDSEARCH FISTA"
   ],
   "metadata": {
    "collapsed": false
   },
   "id": "984dec71b808c391"
  },
  {
   "cell_type": "code",
   "execution_count": 10,
   "outputs": [
    {
     "name": "stderr",
     "output_type": "stream",
     "text": [
      "  0%|          | 0/245 [00:00<?, ?it/s]K:\\NoSyncProject\\ExtremeLearningNN\\Utils.py:30: RuntimeWarning: overflow encountered in power\n",
      "  return np.power((y - y_pred), 2).mean()\n",
      "C:\\Users\\Andrea\\anaconda3\\envs\\GeneralPurpose\\Lib\\site-packages\\numpy\\core\\_methods.py:118: RuntimeWarning: overflow encountered in reduce\n",
      "  ret = umr_sum(arr, axis, dtype, out, keepdims, where=where)\n",
      "K:\\NoSyncProject\\ExtremeLearningNN\\ExtremeNN.py:75: RuntimeWarning: overflow encountered in matmul\n",
      "  y_pred = self.w2 @ h\n",
      "K:\\NoSyncProject\\ExtremeLearningNN\\ExtremeNN.py:67: RuntimeWarning: overflow encountered in matmul\n",
      "  grad_zk = (z_k @ h - y) @ h.T\n",
      "K:\\NoSyncProject\\ExtremeLearningNN\\ExtremeNN.py:66: RuntimeWarning: invalid value encountered in subtract\n",
      "  z_k = w2_old + c * (self.w2 - w2_old)\n",
      " 18%|█▊        | 43/245 [00:41<03:16,  1.03it/s, minMSE=9.22e+18]\n"
     ]
    },
    {
     "ename": "KeyboardInterrupt",
     "evalue": "",
     "output_type": "error",
     "traceback": [
      "\u001B[1;31m---------------------------------------------------------------------------\u001B[0m",
      "\u001B[1;31mKeyboardInterrupt\u001B[0m                         Traceback (most recent call last)",
      "Cell \u001B[1;32mIn[10], line 7\u001B[0m\n\u001B[0;32m      1\u001B[0m parameter_grid \u001B[38;5;241m=\u001B[39m \u001B[38;5;28mdict\u001B[39m(\n\u001B[0;32m      2\u001B[0m     hidden\u001B[38;5;241m=\u001B[39m[\u001B[38;5;241m*\u001B[39m\u001B[38;5;28mrange\u001B[39m(\u001B[38;5;241m10\u001B[39m,\u001B[38;5;241m500\u001B[39m,\u001B[38;5;241m10\u001B[39m)],\n\u001B[0;32m      3\u001B[0m     regularization \u001B[38;5;241m=\u001B[39m  [\u001B[38;5;241m1e-01\u001B[39m, \u001B[38;5;241m5e-02\u001B[39m, \u001B[38;5;241m1e-02\u001B[39m, \u001B[38;5;241m5e-03\u001B[39m, \u001B[38;5;241m1e-03\u001B[39m],\n\u001B[0;32m      4\u001B[0m     activation_fun \u001B[38;5;241m=\u001B[39m [sigmoid],\n\u001B[0;32m      5\u001B[0m     max_iter\u001B[38;5;241m=\u001B[39m[\u001B[38;5;241m10000\u001B[39m]\n\u001B[0;32m      6\u001B[0m )\n\u001B[1;32m----> 7\u001B[0m GridSearch_fista(\u001B[38;5;124m\"\u001B[39m\u001B[38;5;124mdatasets/ML-CUP21-TR.csv\u001B[39m\u001B[38;5;124m\"\u001B[39m,configs\u001B[38;5;241m=\u001B[39mparameter_grid)\n",
      "File \u001B[1;32mK:\\NoSyncProject\\ExtremeLearningNN\\ExperientalTools.py:93\u001B[0m, in \u001B[0;36mGridSearch_fista\u001B[1;34m(train_path, test_path, configs)\u001B[0m\n\u001B[0;32m     90\u001B[0m activation \u001B[38;5;241m=\u001B[39m single_conf[\u001B[38;5;124m\"\u001B[39m\u001B[38;5;124mactivation_fun\u001B[39m\u001B[38;5;124m\"\u001B[39m]\n\u001B[0;32m     91\u001B[0m max_iter \u001B[38;5;241m=\u001B[39m single_conf[\u001B[38;5;124m\"\u001B[39m\u001B[38;5;124mmax_iter\u001B[39m\u001B[38;5;124m\"\u001B[39m]\n\u001B[1;32m---> 93\u001B[0m model \u001B[38;5;241m=\u001B[39m fit_fista(x_train, y_train, hidden, lambda_,max_iter, activation)\n\u001B[0;32m     94\u001B[0m mse_train \u001B[38;5;241m=\u001B[39m get_results(model[\u001B[38;5;241m0\u001B[39m], x_train, y_train)\n\u001B[0;32m     95\u001B[0m mse_val \u001B[38;5;241m=\u001B[39m get_results(model[\u001B[38;5;241m0\u001B[39m], x_val, y_val)\n",
      "File \u001B[1;32mK:\\NoSyncProject\\ExtremeLearningNN\\ExperientalTools.py:40\u001B[0m, in \u001B[0;36mfit_fista\u001B[1;34m(x_train, y_train, hidden, lambda_, max_inters, activation, features_x)\u001B[0m\n\u001B[0;32m     37\u001B[0m \u001B[38;5;28;01mdef\u001B[39;00m \u001B[38;5;21mfit_fista\u001B[39m(x_train: np\u001B[38;5;241m.\u001B[39mndarray, y_train: np\u001B[38;5;241m.\u001B[39mndarray, hidden: \u001B[38;5;28mint\u001B[39m, lambda_: \u001B[38;5;28mfloat\u001B[39m,\n\u001B[0;32m     38\u001B[0m               max_inters: \u001B[38;5;28mint\u001B[39m \u001B[38;5;241m=\u001B[39m \u001B[38;5;28;01mNone\u001B[39;00m, activation\u001B[38;5;241m=\u001B[39m\u001B[38;5;28;01mNone\u001B[39;00m, features_x: \u001B[38;5;28mint\u001B[39m \u001B[38;5;241m=\u001B[39m \u001B[38;5;241m10\u001B[39m) \u001B[38;5;241m-\u001B[39m\u001B[38;5;241m>\u001B[39m Tuple[ENeuralN, \u001B[38;5;28mlist\u001B[39m[\u001B[38;5;28mfloat\u001B[39m]]:\n\u001B[0;32m     39\u001B[0m     model \u001B[38;5;241m=\u001B[39m ENeuralN(features_x, hidden, lambda_, activation)\n\u001B[1;32m---> 40\u001B[0m     mse_errors \u001B[38;5;241m=\u001B[39m model\u001B[38;5;241m.\u001B[39mfit_fista(x_train, y_train, max_inters)\n\u001B[0;32m     41\u001B[0m     \u001B[38;5;28;01mreturn\u001B[39;00m model, mse_errors\n",
      "File \u001B[1;32mK:\\NoSyncProject\\ExtremeLearningNN\\ExtremeNN.py:70\u001B[0m, in \u001B[0;36mENeuralN.fit_fista\u001B[1;34m(self, x, y, max_iter)\u001B[0m\n\u001B[0;32m     67\u001B[0m grad_zk \u001B[38;5;241m=\u001B[39m (z_k \u001B[38;5;241m@\u001B[39m h \u001B[38;5;241m-\u001B[39m y) \u001B[38;5;241m@\u001B[39m h\u001B[38;5;241m.\u001B[39mT\n\u001B[0;32m     68\u001B[0m \u001B[38;5;28mself\u001B[39m\u001B[38;5;241m.\u001B[39mw2 \u001B[38;5;241m=\u001B[39m z_k \u001B[38;5;241m-\u001B[39m step_size \u001B[38;5;241m*\u001B[39m grad_zk \u001B[38;5;241m-\u001B[39m \u001B[38;5;28mself\u001B[39m\u001B[38;5;241m.\u001B[39mregularization \u001B[38;5;241m*\u001B[39m \u001B[38;5;28mself\u001B[39m\u001B[38;5;241m.\u001B[39mw2\n\u001B[1;32m---> 70\u001B[0m lambda_k \u001B[38;5;241m=\u001B[39m \u001B[38;5;28mself\u001B[39m\u001B[38;5;241m.\u001B[39mcalc_lambda(lambda_k_1)\n\u001B[0;32m     71\u001B[0m c \u001B[38;5;241m=\u001B[39m (lambda_k_1 \u001B[38;5;241m-\u001B[39m \u001B[38;5;241m1\u001B[39m) \u001B[38;5;241m/\u001B[39m lambda_k\n\u001B[0;32m     72\u001B[0m lambda_k_1 \u001B[38;5;241m=\u001B[39m lambda_k\n",
      "File \u001B[1;32mK:\\NoSyncProject\\ExtremeLearningNN\\ExtremeNN.py:46\u001B[0m, in \u001B[0;36mENeuralN.calc_lambda\u001B[1;34m(lambda_)\u001B[0m\n\u001B[0;32m     43\u001B[0m     \u001B[38;5;28mself\u001B[39m\u001B[38;5;241m.\u001B[39mw2 \u001B[38;5;241m=\u001B[39m forwardSub(r\u001B[38;5;241m.\u001B[39mT, z)\n\u001B[0;32m     44\u001B[0m     \u001B[38;5;28;01mreturn\u001B[39;00m\n\u001B[1;32m---> 46\u001B[0m \u001B[38;5;129m@staticmethod\u001B[39m\n\u001B[0;32m     47\u001B[0m \u001B[38;5;28;01mdef\u001B[39;00m \u001B[38;5;21mcalc_lambda\u001B[39m(lambda_):\n\u001B[0;32m     48\u001B[0m     \u001B[38;5;28;01mreturn\u001B[39;00m (\u001B[38;5;241m1\u001B[39m \u001B[38;5;241m+\u001B[39m np\u001B[38;5;241m.\u001B[39msqrt(\u001B[38;5;241m1\u001B[39m \u001B[38;5;241m+\u001B[39m \u001B[38;5;241m4\u001B[39m \u001B[38;5;241m*\u001B[39m np\u001B[38;5;241m.\u001B[39mpower(lambda_, \u001B[38;5;241m2\u001B[39m))) \u001B[38;5;241m/\u001B[39m \u001B[38;5;241m2\u001B[39m\n\u001B[0;32m     50\u001B[0m \u001B[38;5;28;01mdef\u001B[39;00m \u001B[38;5;21mfit_fista\u001B[39m(\u001B[38;5;28mself\u001B[39m, x: ndarray, y: ndarray, max_iter: \u001B[38;5;28mint\u001B[39m) \u001B[38;5;241m-\u001B[39m\u001B[38;5;241m>\u001B[39m \u001B[38;5;28mlist\u001B[39m[\u001B[38;5;28mfloat\u001B[39m]:\n\u001B[0;32m     51\u001B[0m     \u001B[38;5;66;03m# Perform the first (resevoir) layer\u001B[39;00m\n",
      "\u001B[1;31mKeyboardInterrupt\u001B[0m: "
     ]
    }
   ],
   "source": [
    "parameter_grid = dict(\n",
    "    hidden=[*range(10,500,10)],\n",
    "    regularization =  [1e-01, 5e-02, 1e-02, 5e-03, 1e-03],\n",
    "    activation_fun = [sigmoid],\n",
    "    max_iter=[10000]\n",
    ")\n",
    "GridSearch_fista(\"datasets/ML-CUP21-TR.csv\",configs=parameter_grid)"
   ],
   "metadata": {
    "collapsed": false,
    "ExecuteTime": {
     "end_time": "2023-12-02T16:28:21.400228800Z",
     "start_time": "2023-12-02T16:27:38.410815100Z"
    }
   },
   "id": "cfbf285ece6849bb"
  }
 ],
 "metadata": {
  "kernelspec": {
   "display_name": "Python 3",
   "language": "python",
   "name": "python3"
  },
  "language_info": {
   "codemirror_mode": {
    "name": "ipython",
    "version": 2
   },
   "file_extension": ".py",
   "mimetype": "text/x-python",
   "name": "python",
   "nbconvert_exporter": "python",
   "pygments_lexer": "ipython2",
   "version": "2.7.6"
  }
 },
 "nbformat": 4,
 "nbformat_minor": 5
}
