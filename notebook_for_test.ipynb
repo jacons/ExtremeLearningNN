{
 "cells": [
  {
   "cell_type": "code",
   "execution_count": 4,
   "id": "initial_id",
   "metadata": {
    "collapsed": true,
    "ExecuteTime": {
     "end_time": "2023-10-25T10:12:40.430582Z",
     "start_time": "2023-10-25T10:12:40.225314400Z"
    }
   },
   "outputs": [],
   "source": [
    "from Utils import sigmoid\n",
    "from ExperientalTools import GridSearch\n",
    "\n",
    "%reload_ext autoreload\n",
    "%autoreload 2"
   ]
  },
  {
   "cell_type": "code",
   "execution_count": 5,
   "outputs": [],
   "source": [
    "parameter_grid = dict(\n",
    "    hidden=[*range(10,500,10)],\n",
    "    regularization =  [1e-01, 5e-02, 1e-02, 5e-03, 1e-03],\n",
    "                       #5e-04, 1e-04, 5e-05, 1e-05, 5e-06, 1e-06,\n",
    "    \n",
    "                       #5e-07, 1e-07, 5e-08],\n",
    "    activation_fun = [sigmoid] #,ReLU,tanH]\n",
    ")   "
   ],
   "metadata": {
    "collapsed": false,
    "ExecuteTime": {
     "end_time": "2023-10-25T10:12:40.538727300Z",
     "start_time": "2023-10-25T10:12:40.430582Z"
    }
   },
   "id": "cfbf285ece6849bb"
  },
  {
   "cell_type": "code",
   "execution_count": 6,
   "outputs": [
    {
     "name": "stderr",
     "output_type": "stream",
     "text": [
      "100%|██████████| 245/245 [01:17<00:00,  3.14it/s, minMSE=1.83]"
     ]
    },
    {
     "name": "stdout",
     "output_type": "stream",
     "text": [
      "\n",
      "The best configuration is  {'activation_fun': <function sigmoid at 0x00000250051CA2A0>, 'hidden': 340, 'regularization': 0.05}\n",
      "Train error  1.5153853664792625  Validation error 1.8283621115795243\n",
      "Test error  2.0801184938517934\n"
     ]
    },
    {
     "name": "stderr",
     "output_type": "stream",
     "text": [
      "\n"
     ]
    }
   ],
   "source": [
    "GridSearch(train_path=\"datasets/ML-CUP21-TR.csv\",\n",
    "           test_path=\"datasets/ML-CUP21-TS.csv\",\n",
    "           configs=parameter_grid)"
   ],
   "metadata": {
    "collapsed": false,
    "ExecuteTime": {
     "end_time": "2023-10-25T10:13:58.566134800Z",
     "start_time": "2023-10-25T10:12:40.538727300Z"
    }
   },
   "id": "7d96d09ae22f83c2"
  }
 ],
 "metadata": {
  "kernelspec": {
   "display_name": "Python 3",
   "language": "python",
   "name": "python3"
  },
  "language_info": {
   "codemirror_mode": {
    "name": "ipython",
    "version": 2
   },
   "file_extension": ".py",
   "mimetype": "text/x-python",
   "name": "python",
   "nbconvert_exporter": "python",
   "pygments_lexer": "ipython2",
   "version": "2.7.6"
  }
 },
 "nbformat": 4,
 "nbformat_minor": 5
}
