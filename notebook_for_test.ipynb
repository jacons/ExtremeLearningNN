{
 "cells": [
  {
   "cell_type": "code",
   "execution_count": 176,
   "id": "initial_id",
   "metadata": {
    "collapsed": true,
    "ExecuteTime": {
     "end_time": "2023-12-07T11:26:43.360570600Z",
     "start_time": "2023-12-07T11:26:41.593467100Z"
    }
   },
   "outputs": [],
   "source": [
    "import matplotlib.pyplot as plt\n",
    "import pandas as pd\n",
    "import numpy as np\n",
    "\n",
    "import  seaborn as sns\n",
    "sns.set_style(\"darkgrid\")\n",
    "\n",
    "from Utils import *\n",
    "from ExperientalTools import *\n",
    "\n",
    "import warnings\n",
    "warnings.filterwarnings(\"ignore\", \"is_categorical_dtype\")\n",
    "warnings.filterwarnings(\"ignore\", \"use_inf_as_na\")\n",
    "%reload_ext autoreload\n",
    "%autoreload 2"
   ]
  },
  {
   "cell_type": "code",
   "execution_count": 177,
   "outputs": [],
   "source": [
    "# (tr_x,tr_y), (vl_x,vl_y), (ts_x,ts_y) = prepare_dataset(train_path=\"datasets/ML-CUP21-TR.csv\")\n",
    "(tr_x,tr_y) = prepare_dataset(train_path=\"datasets/ML-CUP21-TR.csv\",unique=True)"
   ],
   "metadata": {
    "collapsed": false,
    "ExecuteTime": {
     "end_time": "2023-12-07T11:26:43.691983600Z",
     "start_time": "2023-12-07T11:26:43.365659800Z"
    }
   },
   "id": "8999d6bb57ad46b1"
  },
  {
   "cell_type": "markdown",
   "source": [
    "# JUST AN EXAMPLE"
   ],
   "metadata": {
    "collapsed": false
   },
   "id": "708cd5f95860495f"
  },
  {
   "cell_type": "code",
   "execution_count": 178,
   "outputs": [],
   "source": [
    "resevoir = np.random.uniform(-1, 1,(250,10))"
   ],
   "metadata": {
    "collapsed": false,
    "ExecuteTime": {
     "end_time": "2023-12-07T11:26:44.022556500Z",
     "start_time": "2023-12-07T11:26:43.691983600Z"
    }
   },
   "id": "f4c2b796c1f3c5e2"
  },
  {
   "cell_type": "code",
   "execution_count": 179,
   "outputs": [],
   "source": [
    "H = sigmoid(resevoir@tr_x)"
   ],
   "metadata": {
    "collapsed": false,
    "ExecuteTime": {
     "end_time": "2023-12-07T11:26:44.363138100Z",
     "start_time": "2023-12-07T11:26:44.026526100Z"
    }
   },
   "id": "531acd651dda09d6"
  },
  {
   "cell_type": "code",
   "execution_count": 180,
   "outputs": [],
   "source": [
    "w_star,_,_,_ = np.linalg.lstsq(H.T, tr_y.T,rcond=-1)"
   ],
   "metadata": {
    "collapsed": false,
    "ExecuteTime": {
     "end_time": "2023-12-07T11:26:44.714356900Z",
     "start_time": "2023-12-07T11:26:44.363138100Z"
    }
   },
   "id": "50f3ce938783414f"
  },
  {
   "cell_type": "code",
   "execution_count": 181,
   "outputs": [
    {
     "data": {
      "text/plain": "1.1924422050249401"
     },
     "execution_count": 181,
     "metadata": {},
     "output_type": "execute_result"
    }
   ],
   "source": [
    "MSE(w_star.T@H,tr_y)"
   ],
   "metadata": {
    "collapsed": false,
    "ExecuteTime": {
     "end_time": "2023-12-07T11:26:45.055005Z",
     "start_time": "2023-12-07T11:26:44.717593400Z"
    }
   },
   "id": "5b5b7523eb5b20e1"
  },
  {
   "cell_type": "markdown",
   "source": [
    "## Optimal solution"
   ],
   "metadata": {
    "collapsed": false
   },
   "id": "22abd31734962061"
  },
  {
   "cell_type": "code",
   "execution_count": 182,
   "outputs": [],
   "source": [
    "model = fit_cholesky(tr_x,tr_y, hidden=100,lambda_=1e-01, activation=sigmoid, resevoir=resevoir)"
   ],
   "metadata": {
    "collapsed": false,
    "ExecuteTime": {
     "end_time": "2023-12-07T11:26:45.629528900Z",
     "start_time": "2023-12-07T11:26:45.055005Z"
    }
   },
   "id": "99401dabe324fb18"
  },
  {
   "cell_type": "code",
   "execution_count": 183,
   "outputs": [
    {
     "data": {
      "text/plain": "1.2835947382129107"
     },
     "execution_count": 183,
     "metadata": {},
     "output_type": "execute_result"
    }
   ],
   "source": [
    "get_results(model,tr_x,tr_y)"
   ],
   "metadata": {
    "collapsed": false,
    "ExecuteTime": {
     "end_time": "2023-12-07T11:26:45.980530800Z",
     "start_time": "2023-12-07T11:26:45.632717800Z"
    }
   },
   "id": "f1ce2dc6fac0e5d4"
  },
  {
   "cell_type": "code",
   "execution_count": 197,
   "outputs": [],
   "source": [
    "instance1 = fit_sgd(tr_x, tr_y, hidden=200, lambda_=0.001, activation=sigmoid,\n",
    "                    max_inters=5500, eps=0.0001, lr=0, beta=0, resevoir=resevoir, w_star=w_star.T)\n",
    "\n",
    "instance2 = fit_sgd(tr_x, tr_y, hidden=200, lambda_=0.001, activation=sigmoid,\n",
    "                    max_inters=150, eps=0.0001, lr=0, beta=0.5, resevoir=resevoir, w_star=w_star.T)  \n",
    "\n",
    "instance3 = fit_fista(tr_x, tr_y, hidden=200, lambda_=0.001, activation=sigmoid,\n",
    "                      max_inters=5500, eps=0.0001, resevoir=resevoir, w_star=w_star.T)"
   ],
   "metadata": {
    "collapsed": false,
    "ExecuteTime": {
     "end_time": "2023-12-07T11:27:41.956176600Z",
     "start_time": "2023-12-07T11:27:38.727799100Z"
    }
   },
   "id": "91e6329362f2052"
  },
  {
   "cell_type": "code",
   "execution_count": 202,
   "outputs": [
    {
     "data": {
      "text/plain": "<Figure size 640x480 with 1 Axes>",
      "image/png": "[encoded data removed]"
     },
     "metadata": {},
     "output_type": "display_data"
    }
   ],
   "source": [
    "plt.plot(instance1[1][\"Gap\"],label=\"SGD\")\n",
    "plt.plot(instance2[1][\"Gap\"],label=\"SGD-M\")\n",
    "plt.plot(instance3[1][\"Gap\"],label=\"FISTA\")\n",
    "plt.legend()\n",
    "plt.show()"
   ],
   "metadata": {
    "collapsed": false,
    "ExecuteTime": {
     "end_time": "2023-12-07T11:28:56.147727800Z",
     "start_time": "2023-12-07T11:28:55.591472500Z"
    }
   },
   "id": "7a89ace7db08794"
  },
  {
   "cell_type": "code",
   "execution_count": 203,
   "outputs": [
    {
     "name": "stdout",
     "output_type": "stream",
     "text": [
      "MSE at the last iteration:\n",
      "SGD 2.2312\n",
      "SGD-M 2.6015\n",
      "FISTA 2.1353\n"
     ]
    }
   ],
   "source": [
    "print(f\"MSE at the last iteration:\\nSGD {instance1[2]}\\nSGD-M {instance2[2]}\\nFISTA {instance3[2]}\")"
   ],
   "metadata": {
    "collapsed": false,
    "ExecuteTime": {
     "end_time": "2023-12-07T11:29:14.516763600Z",
     "start_time": "2023-12-07T11:29:14.146113300Z"
    }
   },
   "id": "8c6507f54e639863"
  },
  {
   "cell_type": "code",
   "execution_count": 204,
   "outputs": [
    {
     "data": {
      "text/plain": "<Figure size 1000x500 with 1 Axes>",
      "image/png": "[encoded data removed]"
     },
     "metadata": {},
     "output_type": "display_data"
    }
   ],
   "source": [
    "f, axs = plt.subplots(figsize=(10,5))\n",
    "sns.lineplot(data=instance1[1], x=instance1[1].index, y=\"MSE_error\", ax=axs, label=\"SGD\")\n",
    "sns.lineplot(data=instance2[1], x=instance2[1].index, y=\"MSE_error\", ax=axs, label=\"SGD with CM\")\n",
    "sns.lineplot(data=instance3[1], x=instance3[1].index, y=\"MSE_error\", ax=axs, label=\"FISTA\")\n",
    "axs.set_ylim([0,20])\n",
    "axs.set_title(\"MSE error in Training set\",fontsize=18)\n",
    "axs.set_ylabel(\"MSE error\",fontsize=15)\n",
    "axs.set_xlabel(\"Iterations\",fontsize=15)\n",
    "axs.legend()\n",
    "plt.show()"
   ],
   "metadata": {
    "collapsed": false,
    "ExecuteTime": {
     "end_time": "2023-12-07T11:29:16.922499300Z",
     "start_time": "2023-12-07T11:29:16.279021800Z"
    }
   },
   "id": "de650320abb06bbe"
  },
  {
   "cell_type": "markdown",
   "source": [
    "# GRIDSEARCH CHOLESKY"
   ],
   "metadata": {
    "collapsed": false
   },
   "id": "1c936de9a550c87d"
  },
  {
   "cell_type": "code",
   "execution_count": 188,
   "outputs": [],
   "source": [
    "parameter_cholesky = dict(\n",
    "    hidden=[*range(10,500,10)],\n",
    "    lambda_ =  [0.001,0.0005],\n",
    "    activation = [sigmoid, ReLU, tanH]\n",
    ")"
   ],
   "metadata": {
    "collapsed": false,
    "ExecuteTime": {
     "end_time": "2023-12-07T11:26:50.784549600Z",
     "start_time": "2023-12-07T11:26:50.455415800Z"
    }
   },
   "id": "6d1c13ce2ea9f6d0"
  },
  {
   "cell_type": "code",
   "execution_count": 189,
   "outputs": [],
   "source": [
    "# grid_search_cholesky(configs=parameter_cholesky, train=(tr_x,tr_y), valid=(vl_x,vl_y))"
   ],
   "metadata": {
    "collapsed": false,
    "ExecuteTime": {
     "end_time": "2023-12-07T11:26:51.114760200Z",
     "start_time": "2023-12-07T11:26:50.788978800Z"
    }
   },
   "id": "af939c3abba2c10e"
  },
  {
   "cell_type": "markdown",
   "source": [
    "# GRIDSEARCH FISTA"
   ],
   "metadata": {
    "collapsed": false
   },
   "id": "984dec71b808c391"
  },
  {
   "cell_type": "code",
   "execution_count": 190,
   "outputs": [],
   "source": [
    "parameter_fista = dict(\n",
    "    hidden=[*range(10,500,15)],\n",
    "    lambda_ =  [0.0005],\n",
    "    activation = [sigmoid],\n",
    "    max_inters=[1000, 5000],\n",
    "    eps=[0]\n",
    ")"
   ],
   "metadata": {
    "collapsed": false,
    "ExecuteTime": {
     "end_time": "2023-12-07T11:26:51.444711600Z",
     "start_time": "2023-12-07T11:26:51.118869200Z"
    }
   },
   "id": "cfbf285ece6849bb"
  },
  {
   "cell_type": "code",
   "execution_count": 191,
   "outputs": [],
   "source": [
    "# grid_search_iterative(configs=parameter_fista, train=(tr_x,tr_y), valid=(vl_x,vl_y), optimizer=\"FISTA\")"
   ],
   "metadata": {
    "collapsed": false,
    "ExecuteTime": {
     "end_time": "2023-12-07T11:26:51.771579500Z",
     "start_time": "2023-12-07T11:26:51.449178800Z"
    }
   },
   "id": "baf6e8e8686937ce"
  },
  {
   "cell_type": "markdown",
   "source": [
    "# GRIDSEARCH SDG"
   ],
   "metadata": {
    "collapsed": false
   },
   "id": "46fce4cd9b0de2c0"
  },
  {
   "cell_type": "code",
   "execution_count": 192,
   "outputs": [],
   "source": [
    "parameter_sgd = dict(\n",
    "    hidden=[*range(10,500,15)],\n",
    "    lambda_ =  [0.0005],\n",
    "    activation = [sigmoid],\n",
    "    max_inters=[1000],\n",
    "    eps=[0],\n",
    "    lr=[0],\n",
    "    beta=[0]\n",
    ")"
   ],
   "metadata": {
    "collapsed": false,
    "ExecuteTime": {
     "end_time": "2023-12-07T11:26:52.099300400Z",
     "start_time": "2023-12-07T11:26:51.774887300Z"
    }
   },
   "id": "fa6b933f11229836"
  },
  {
   "cell_type": "code",
   "execution_count": 193,
   "outputs": [],
   "source": [
    "# grid_search_iterative(configs=parameter_sgd, train=(tr_x,tr_y), valid=(vl_x,vl_y), optimizer=\"SGD\")"
   ],
   "metadata": {
    "collapsed": false,
    "ExecuteTime": {
     "end_time": "2023-12-07T11:26:52.427391100Z",
     "start_time": "2023-12-07T11:26:52.099300400Z"
    }
   },
   "id": "f559fed44bf2bc5f"
  },
  {
   "cell_type": "markdown",
   "source": [
    "# GRIDSEARCH SGD with CLASSICAL MOMENTUM"
   ],
   "metadata": {
    "collapsed": false
   },
   "id": "a4c75f2069054c9b"
  },
  {
   "cell_type": "code",
   "execution_count": 194,
   "outputs": [],
   "source": [
    "parameter_sgd = dict(\n",
    "    hidden=[*range(10,500,15)],\n",
    "    lambda_ =  [0.0005],\n",
    "    activation = [sigmoid],\n",
    "    max_inters=[1000],\n",
    "    eps=[0],\n",
    "    lr=[0],\n",
    "    beta=[0.99]\n",
    ")"
   ],
   "metadata": {
    "collapsed": false,
    "ExecuteTime": {
     "end_time": "2023-12-07T11:26:52.766410400Z",
     "start_time": "2023-12-07T11:26:52.427391100Z"
    }
   },
   "id": "d3d0bee64415c551"
  },
  {
   "cell_type": "code",
   "execution_count": 195,
   "outputs": [],
   "source": [
    "# grid_search_iterative(configs=parameter_sgd, train=(tr_x,tr_y), valid=(vl_x,vl_y), optimizer=\"SGD\")"
   ],
   "metadata": {
    "collapsed": false,
    "ExecuteTime": {
     "end_time": "2023-12-07T11:26:53.110543Z",
     "start_time": "2023-12-07T11:26:52.766410400Z"
    }
   },
   "id": "6b8bb4392563b749"
  }
 ],
 "metadata": {
  "kernelspec": {
   "display_name": "Python 3",
   "language": "python",
   "name": "python3"
  },
  "language_info": {
   "codemirror_mode": {
    "name": "ipython",
    "version": 2
   },
   "file_extension": ".py",
   "mimetype": "text/x-python",
   "name": "python",
   "nbconvert_exporter": "python",
   "pygments_lexer": "ipython2",
   "version": "2.7.6"
  }
 },
 "nbformat": 4,
 "nbformat_minor": 5
}
