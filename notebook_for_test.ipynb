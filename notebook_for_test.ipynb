{
 "cells": [
  {
   "cell_type": "code",
   "execution_count": 2,
   "id": "initial_id",
   "metadata": {
    "collapsed": true,
    "ExecuteTime": {
     "end_time": "2024-01-12T17:14:40.199828100Z",
     "start_time": "2024-01-12T17:14:39.611302200Z"
    }
   },
   "outputs": [],
   "source": [
    "import matplotlib.pyplot as plt\n",
    "\n",
    "import  seaborn as sns\n",
    "sns.set_style(\"darkgrid\")\n",
    "\n",
    "from ExperientalTools import *\n",
    "\n",
    "import warnings\n",
    "warnings.filterwarnings(\"ignore\", \"is_categorical_dtype\")\n",
    "warnings.filterwarnings(\"ignore\", \"use_inf_as_na\")\n",
    "%reload_ext autoreload\n",
    "%autoreload 2"
   ]
  },
  {
   "cell_type": "markdown",
   "source": [
    "## get the dataset"
   ],
   "metadata": {
    "collapsed": false
   },
   "id": "4f6d16377011a4eb"
  },
  {
   "cell_type": "code",
   "execution_count": 3,
   "outputs": [],
   "source": [
    "(tr_x,tr_y) = prepare_dataset(train_path=\"datasets/ML-CUP21-TR.csv\",unique=True)"
   ],
   "metadata": {
    "collapsed": false,
    "ExecuteTime": {
     "end_time": "2024-01-12T17:14:43.158570600Z",
     "start_time": "2024-01-12T17:14:43.080618500Z"
    }
   },
   "id": "8999d6bb57ad46b1"
  },
  {
   "cell_type": "code",
   "outputs": [],
   "source": [
    "# dictionary to save the results\n",
    "results={}"
   ],
   "metadata": {
    "collapsed": false,
    "ExecuteTime": {
     "end_time": "2024-01-12T17:14:43.827774400Z",
     "start_time": "2024-01-12T17:14:43.762242400Z"
    }
   },
   "id": "5d46fc77b51a9a44",
   "execution_count": 4
  },
  {
   "cell_type": "markdown",
   "source": [
    "## Constants"
   ],
   "metadata": {
    "collapsed": false
   },
   "id": "f687cd02fb6b92d3"
  },
  {
   "cell_type": "code",
   "outputs": [],
   "source": [
    "SIZE_RESERVOIR = 200\n",
    "LAMBDA_REG = 0.5\n",
    "MAX_ITER = 30000\n",
    "PRECISION = 1e-1"
   ],
   "metadata": {
    "collapsed": false,
    "ExecuteTime": {
     "end_time": "2024-01-12T17:14:46.048806400Z",
     "start_time": "2024-01-12T17:14:45.995790600Z"
    }
   },
   "id": "614939f754e2ef3a",
   "execution_count": 5
  },
  {
   "cell_type": "markdown",
   "source": [
    "## fix the resevoir"
   ],
   "metadata": {
    "collapsed": false
   },
   "id": "34704a87dc769ba0"
  },
  {
   "cell_type": "code",
   "execution_count": 6,
   "outputs": [],
   "source": [
    "resevoir = np.random.uniform(-1, 1, (SIZE_RESERVOIR, 10))\n",
    "H = sigmoid(resevoir @ tr_x)\n",
    "E = H @ H.T + np.power(LAMBDA_REG, 2) * np.eye(H.shape[0])"
   ],
   "metadata": {
    "collapsed": false,
    "ExecuteTime": {
     "end_time": "2024-01-12T17:14:51.058928500Z",
     "start_time": "2024-01-12T17:14:50.969923300Z"
    }
   },
   "id": "f4c2b796c1f3c5e2"
  },
  {
   "cell_type": "code",
   "execution_count": 7,
   "outputs": [
    {
     "name": "stdout",
     "output_type": "stream",
     "text": [
      "Condition number of E: 291393.67566234944\n"
     ]
    }
   ],
   "source": [
    "condition_number = np.linalg.cond(E)\n",
    "print(f\"Condition number of E: {condition_number}\")"
   ],
   "metadata": {
    "collapsed": false,
    "ExecuteTime": {
     "end_time": "2024-01-12T17:14:52.866942500Z",
     "start_time": "2024-01-12T17:14:52.755747Z"
    }
   },
   "id": "20a84ca6cb005b8c"
  },
  {
   "cell_type": "markdown",
   "source": [
    "# OPTIMAL SOLUTION"
   ],
   "metadata": {
    "collapsed": false
   },
   "id": "708cd5f95860495f"
  },
  {
   "cell_type": "code",
   "execution_count": 8,
   "outputs": [],
   "source": [
    "# Calculate the optimal solution\n",
    "start_optimal = datetime.datetime.now()\n",
    "w_star, _, _, _ = np.linalg.lstsq(E, H @ tr_y.T, rcond=-1)\n",
    "end_optimal = (datetime.datetime.now() - start_optimal).microseconds"
   ],
   "metadata": {
    "collapsed": false,
    "ExecuteTime": {
     "end_time": "2024-01-12T17:14:59.096914400Z",
     "start_time": "2024-01-12T17:14:58.976930500Z"
    }
   },
   "id": "59a939b1e39c14d"
  },
  {
   "cell_type": "code",
   "execution_count": 9,
   "outputs": [],
   "source": [
    "results[\"Optimal\"] = mse(w_star.T@H, tr_y), \"-\", end_optimal"
   ],
   "metadata": {
    "collapsed": false,
    "ExecuteTime": {
     "end_time": "2024-01-12T17:15:00.621997200Z",
     "start_time": "2024-01-12T17:15:00.555985Z"
    }
   },
   "id": "50f3ce938783414f"
  },
  {
   "cell_type": "code",
   "execution_count": 10,
   "outputs": [
    {
     "name": "stdout",
     "output_type": "stream",
     "text": [
      "Mean square error:  1.4569445567235657\n",
      "Time:  55599\n"
     ]
    }
   ],
   "source": [
    "print(\"Mean square error: \", results[\"Optimal\"][0])\n",
    "print(\"Time: \", results[\"Optimal\"][2])"
   ],
   "metadata": {
    "collapsed": false,
    "ExecuteTime": {
     "end_time": "2024-01-12T17:15:02.253656400Z",
     "start_time": "2024-01-12T17:15:02.167118Z"
    }
   },
   "id": "5b5b7523eb5b20e1"
  },
  {
   "cell_type": "markdown",
   "source": [
    "## Cholesky solution"
   ],
   "metadata": {
    "collapsed": false
   },
   "id": "22abd31734962061"
  },
  {
   "cell_type": "code",
   "execution_count": 11,
   "outputs": [],
   "source": [
    "output = fit_cholesky(tr_x, tr_y, lambda_=LAMBDA_REG, resevoir=resevoir, verbose=True)\n",
    "cholesky = output[\"model\"]\n",
    "time = output[\"elapsed_time\"]"
   ],
   "metadata": {
    "collapsed": false,
    "ExecuteTime": {
     "end_time": "2024-01-12T17:15:08.058576900Z",
     "start_time": "2024-01-12T17:15:07.859194Z"
    }
   },
   "id": "cd94dc2c29237fe2"
  },
  {
   "cell_type": "code",
   "execution_count": 12,
   "outputs": [],
   "source": [
    "cholesky_rel_gap_sol = np.linalg.norm(cholesky.w2 - w_star.T, ord=\"fro\")/np.linalg.norm(w_star, ord=\"fro\")\n",
    "results[\"Cholesky\"] = (get_results(cholesky, tr_x, tr_y), cholesky_rel_gap_sol, time)"
   ],
   "metadata": {
    "collapsed": false,
    "ExecuteTime": {
     "end_time": "2024-01-12T17:15:09.552448800Z",
     "start_time": "2024-01-12T17:15:09.485069300Z"
    }
   },
   "id": "99401dabe324fb18"
  },
  {
   "cell_type": "code",
   "execution_count": 13,
   "outputs": [
    {
     "name": "stdout",
     "output_type": "stream",
     "text": [
      "Cholesky Mean square error:  1.4569445567238877\n",
      "Cholesky Relative Gap Sol:  6.935646362867939e-11\n"
     ]
    }
   ],
   "source": [
    "print(\"Cholesky Mean square error: \", results[\"Cholesky\"][0])\n",
    "print(\"Cholesky Relative Gap Sol: \", results[\"Cholesky\"][1])"
   ],
   "metadata": {
    "collapsed": false,
    "ExecuteTime": {
     "end_time": "2024-01-12T17:15:12.089294400Z",
     "start_time": "2024-01-12T17:15:12.012476200Z"
    }
   },
   "id": "f1ce2dc6fac0e5d4"
  },
  {
   "cell_type": "markdown",
   "source": [
    "## Iterative methods"
   ],
   "metadata": {
    "collapsed": false
   },
   "id": "fa7368144f1c0e69"
  },
  {
   "cell_type": "code",
   "execution_count": 21,
   "outputs": [
    {
     "name": "stdout",
     "output_type": "stream",
     "text": [
      "ci sono\n"
     ]
    }
   ],
   "source": [
    "output_sgd = fit_sgd(x_train=tr_x, y_train=tr_y, lambda_=LAMBDA_REG, max_inters=MAX_ITER,\n",
    "                        eps=PRECISION, resevoir=resevoir, w_star=w_star.T, verbose=True)\n",
    "classical_sgd = output_sgd[\"model\"]\n",
    "time = output_sgd[\"elapsed_time\"]"
   ],
   "metadata": {
    "collapsed": false,
    "ExecuteTime": {
     "end_time": "2024-01-12T17:20:48.843291600Z",
     "start_time": "2024-01-12T17:19:59.798620500Z"
    }
   },
   "id": "1b61cfa27295d68e"
  },
  {
   "cell_type": "code",
   "execution_count": 22,
   "outputs": [],
   "source": [
    "sgd_gap_sol = output_sgd[\"results\"][\"Rel_Gap_Sol\"].tail(1).values[0]\n",
    "results[\"classical-SGD\"] = get_results(classical_sgd, tr_x, tr_y), sgd_gap_sol, time"
   ],
   "metadata": {
    "collapsed": false,
    "ExecuteTime": {
     "end_time": "2024-01-12T17:21:17.145088100Z",
     "start_time": "2024-01-12T17:21:17.048509500Z"
    }
   },
   "id": "a9a0e385dadbce3e"
  },
  {
   "cell_type": "code",
   "execution_count": 23,
   "outputs": [
    {
     "name": "stdout",
     "output_type": "stream",
     "text": [
      "Mean square error:  1.6893393663590026\n",
      "Relative Gap Sol:  0.725683990917869\n"
     ]
    }
   ],
   "source": [
    "print(\"Mean square error: \", results[\"classical-SGD\"][0])\n",
    "print(\"Relative Gap Sol: \", results[\"classical-SGD\"][1])"
   ],
   "metadata": {
    "collapsed": false,
    "ExecuteTime": {
     "end_time": "2024-01-12T17:21:17.683323200Z",
     "start_time": "2024-01-12T17:21:17.600683Z"
    }
   },
   "id": "896301e27a6aaa68"
  },
  {
   "cell_type": "code",
   "execution_count": 24,
   "outputs": [
    {
     "name": "stdout",
     "output_type": "stream",
     "text": [
      "Converged in 21023 iterations. Norm grad: 0.09996939999908419\n"
     ]
    }
   ],
   "source": [
    "output_fista = fit_fista(x_train=tr_x, y_train=tr_y, lambda_=LAMBDA_REG, max_inters=MAX_ITER,\n",
    "                  eps=PRECISION, resevoir=resevoir, w_star=w_star.T, verbose=True)\n",
    "fista = output_fista[\"model\"]\n",
    "time = output_fista[\"elapsed_time\"]"
   ],
   "metadata": {
    "collapsed": false,
    "ExecuteTime": {
     "end_time": "2024-01-12T17:21:58.283670300Z",
     "start_time": "2024-01-12T17:21:19.729196500Z"
    }
   },
   "id": "1154da3f17d00f98"
  },
  {
   "cell_type": "code",
   "execution_count": 25,
   "outputs": [],
   "source": [
    "fista_gap_sol = output_fista[\"results\"][\"Rel_Gap_Sol\"].tail(1).values[0]\n",
    "results[\"Fista\"] = get_results(fista, tr_x, tr_y), fista_gap_sol, time"
   ],
   "metadata": {
    "collapsed": false,
    "ExecuteTime": {
     "end_time": "2024-01-12T17:21:58.347552400Z",
     "start_time": "2024-01-12T17:21:58.285181100Z"
    }
   },
   "id": "91e6329362f2052"
  },
  {
   "cell_type": "code",
   "execution_count": 26,
   "outputs": [
    {
     "name": "stdout",
     "output_type": "stream",
     "text": [
      "Mean square error:  1.4569456805192673\n",
      "Relative Gap Sol:  0.002380591800574923\n"
     ]
    }
   ],
   "source": [
    "print(\"Mean square error: \", results[\"Fista\"][0])\n",
    "print(\"Relative Gap Sol: \", results[\"Fista\"][1])"
   ],
   "metadata": {
    "collapsed": false,
    "ExecuteTime": {
     "end_time": "2024-01-12T17:21:58.421656900Z",
     "start_time": "2024-01-12T17:21:58.348734600Z"
    }
   },
   "id": "d8d4893b3ddd6cde"
  },
  {
   "cell_type": "code",
   "outputs": [
    {
     "data": {
      "text/plain": "             MSE  Rel_Gap_Sol\niters                        \n0      53.096217     1.060616\n1      53.096217     1.060616\n2      37.391686     1.059188\n3      24.672098     1.057938\n4      15.896510     1.056951\n...          ...          ...\n21018   1.456945     0.002382\n21019   1.456945     0.002382\n21020   1.456946     0.002382\n21021   1.456946     0.002381\n21022   1.456946     0.002381\n\n[21023 rows x 2 columns]",
      "text/html": "<div>\n<style scoped>\n    .dataframe tbody tr th:only-of-type {\n        vertical-align: middle;\n    }\n\n    .dataframe tbody tr th {\n        vertical-align: top;\n    }\n\n    .dataframe thead th {\n        text-align: right;\n    }\n</style>\n<table border=\"1\" class=\"dataframe\">\n  <thead>\n    <tr style=\"text-align: right;\">\n      <th></th>\n      <th>MSE</th>\n      <th>Rel_Gap_Sol</th>\n    </tr>\n    <tr>\n      <th>iters</th>\n      <th></th>\n      <th></th>\n    </tr>\n  </thead>\n  <tbody>\n    <tr>\n      <th>0</th>\n      <td>53.096217</td>\n      <td>1.060616</td>\n    </tr>\n    <tr>\n      <th>1</th>\n      <td>53.096217</td>\n      <td>1.060616</td>\n    </tr>\n    <tr>\n      <th>2</th>\n      <td>37.391686</td>\n      <td>1.059188</td>\n    </tr>\n    <tr>\n      <th>3</th>\n      <td>24.672098</td>\n      <td>1.057938</td>\n    </tr>\n    <tr>\n      <th>4</th>\n      <td>15.896510</td>\n      <td>1.056951</td>\n    </tr>\n    <tr>\n      <th>...</th>\n      <td>...</td>\n      <td>...</td>\n    </tr>\n    <tr>\n      <th>21018</th>\n      <td>1.456945</td>\n      <td>0.002382</td>\n    </tr>\n    <tr>\n      <th>21019</th>\n      <td>1.456945</td>\n      <td>0.002382</td>\n    </tr>\n    <tr>\n      <th>21020</th>\n      <td>1.456946</td>\n      <td>0.002382</td>\n    </tr>\n    <tr>\n      <th>21021</th>\n      <td>1.456946</td>\n      <td>0.002381</td>\n    </tr>\n    <tr>\n      <th>21022</th>\n      <td>1.456946</td>\n      <td>0.002381</td>\n    </tr>\n  </tbody>\n</table>\n<p>21023 rows × 2 columns</p>\n</div>"
     },
     "execution_count": 27,
     "metadata": {},
     "output_type": "execute_result"
    }
   ],
   "source": [
    "output_fista[\"results\"]"
   ],
   "metadata": {
    "collapsed": false,
    "ExecuteTime": {
     "end_time": "2024-01-12T17:21:58.501901100Z",
     "start_time": "2024-01-12T17:21:58.416058900Z"
    }
   },
   "id": "bbc23938734ab21e",
   "execution_count": 27
  },
  {
   "cell_type": "code",
   "execution_count": 28,
   "outputs": [
    {
     "data": {
      "text/plain": "<Figure size 1500x600 with 2 Axes>",
      "image/png": "[encoded data removed]"
     },
     "metadata": {},
     "output_type": "display_data"
    }
   ],
   "source": [
    "_, axs = plt.subplots(ncols=2,figsize=(15,6))\n",
    "\n",
    "sns.lineplot(data=output_sgd[\"results\"], x=output_sgd[\"results\"].index, y=\"Rel_Gap_Sol\", ax=axs[0], label=\"SGD\")\n",
    "sns.lineplot(data=output_fista[\"results\"], x=output_fista[\"results\"].index, y=\"Rel_Gap_Sol\", ax=axs[0], label=\"Fista\")\n",
    "axs[0].axhline(y=cholesky_rel_gap_sol, label=\"Rel. Gap Solution Cholesky\", color=\"red\", linestyle=\"--\")\n",
    "axs[0].set_title(\"Relative Gap solution\",fontsize=18)\n",
    "axs[0].set_ylabel(\"Relative Gap solution\",fontsize=15)\n",
    "axs[0].set_xlabel(\"Iterations\",fontsize=15)\n",
    "axs[0].set_ylim([-0.05,1.2])\n",
    "axs[0].set_xscale(\"log\")\n",
    "axs[0].legend()\n",
    "\n",
    "\n",
    "sns.lineplot(data=output_sgd[\"results\"], x=output_sgd[\"results\"].index, y=\"MSE\", ax=axs[1], label=\"SGD\")\n",
    "sns.lineplot(data=output_fista[\"results\"], x=output_fista[\"results\"].index, y=\"MSE\", ax=axs[1], label=\"Fista\")\n",
    "axs[1].axhline(y=results[\"Cholesky\"][0], label=\"MSE cholesky\", color=\"red\", linestyle=\"--\")\n",
    "axs[1].axhline(y=results[\"Optimal\"][0], label=\"MSE Optimal\", color=\"black\", linestyle=\"--\")\n",
    "axs[1].set_title(\"Mean square errors\",fontsize=18)\n",
    "axs[1].set_ylabel(\"MSE\",fontsize=15)\n",
    "axs[1].set_xlabel(\"Iterations\",fontsize=15)\n",
    "axs[1].set_ylim([0, 3])\n",
    "axs[1].legend()\n",
    "\n",
    "plt.show()\n"
   ],
   "metadata": {
    "collapsed": false,
    "ExecuteTime": {
     "end_time": "2024-01-12T17:22:31.897797100Z",
     "start_time": "2024-01-12T17:21:58.501901100Z"
    }
   },
   "id": "5e86ac1b51cb7d2a"
  },
  {
   "cell_type": "code",
   "execution_count": 29,
   "outputs": [
    {
     "name": "stdout",
     "output_type": "stream",
     "text": [
      "       Method                    MSE                       Rel. gap sol               Time(microseconds)      \n",
      "      Optimal             1.4569445567235657                    -                           55599             \n",
      "      Cholesky            1.4569445567238877          6.935646362867939e-11                 138951            \n",
      "       Fista              1.4569456805192673           0.002380591800574923                 373755            \n",
      "   classical-SGD          1.6893393663590026            0.725683990917869                   919854            \n"
     ]
    }
   ],
   "source": [
    "print(f\"{'Method' : ^20}{'MSE' : ^30}{'Rel. gap sol' : ^30}{'Time(microseconds)' : ^30}\")\n",
    "\n",
    "for k,v in results.items():\n",
    "    print(f\"{k : ^20}{v[0]:^30}{v[1] : ^30}{v[2] : ^30}\")"
   ],
   "metadata": {
    "collapsed": false,
    "ExecuteTime": {
     "end_time": "2024-01-12T17:22:32.044854300Z",
     "start_time": "2024-01-12T17:22:31.889865400Z"
    }
   },
   "id": "a410ef6781ea8f4c"
  },
  {
   "cell_type": "markdown",
   "source": [
    "## SGD Experiment increasing number of iterations"
   ],
   "metadata": {
    "collapsed": false
   },
   "id": "ba6319e457122d14"
  },
  {
   "cell_type": "code",
   "outputs": [
    {
     "name": "stdout",
     "output_type": "stream",
     "text": [
      "step: 0 norm_grad: 371414.6315212696 time: 0.72 (seconds)\n",
      "step: 1000 norm_grad: 236.06134135006704 time: 1.950 (seconds)\n",
      "Time:  373755\n"
     ]
    }
   ],
   "source": [
    "output_sgd = fit_sgd(x_train=tr_x, y_train=tr_y, lambda_=LAMBDA_REG, max_inters=1000000,\n",
    "                     eps=PRECISION, resevoir=resevoir, w_star=w_star.T, verbose=False, testing=True)\n",
    "print(\"Time: \", time)"
   ],
   "metadata": {
    "collapsed": false,
    "ExecuteTime": {
     "end_time": "2024-01-12T17:55:52.445071900Z",
     "start_time": "2024-01-12T17:55:50.425957300Z"
    }
   },
   "id": "173bf9fefbc714e2",
   "execution_count": 32
  },
  {
   "cell_type": "code",
   "outputs": [],
   "source": [],
   "metadata": {
    "collapsed": false
   },
   "id": "87d31dceb84109e7"
  }
 ],
 "metadata": {
  "kernelspec": {
   "display_name": "Python 3",
   "language": "python",
   "name": "python3"
  },
  "language_info": {
   "codemirror_mode": {
    "name": "ipython",
    "version": 2
   },
   "file_extension": ".py",
   "mimetype": "text/x-python",
   "name": "python",
   "nbconvert_exporter": "python",
   "pygments_lexer": "ipython2",
   "version": "2.7.6"
  }
 },
 "nbformat": 4,
 "nbformat_minor": 5
}
