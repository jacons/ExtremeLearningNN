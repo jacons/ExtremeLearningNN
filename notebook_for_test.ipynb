{
 "cells": [
  {
   "cell_type": "code",
   "execution_count": 220,
   "id": "initial_id",
   "metadata": {
    "collapsed": true,
    "ExecuteTime": {
     "end_time": "2023-09-19T14:09:39.623327400Z",
     "start_time": "2023-09-19T14:09:39.602675200Z"
    }
   },
   "outputs": [],
   "source": [
    "import pandas as pd\n",
    "import numpy as np\n",
    "\n",
    "from numpy import ndarray"
   ]
  },
  {
   "cell_type": "code",
   "execution_count": null,
   "outputs": [],
   "source": [
    "def sigmoid(m):\n",
    "    return 1/(1+np.exp(-m))\n",
    "\n",
    "def MSE(y: ndarray, y_pred: ndarray) -> float:\n",
    "    return np.power((y - y_pred), 2).mean()\n",
    "\n",
    "def norm(a, b):\n",
    "    return np.linalg.norm((a-b))"
   ],
   "metadata": {
    "collapsed": false
   },
   "id": "82986be0cf96410e"
  },
  {
   "cell_type": "code",
   "execution_count": 221,
   "outputs": [],
   "source": [
    "tr  = pd.read_csv(\"datasets/ML-CUP21-TR.csv\", header=None, index_col=0)\n",
    "tr_x,tr_y = tr.iloc[:,:10].to_numpy(), tr.iloc[:,10:].to_numpy()"
   ],
   "metadata": {
    "collapsed": false,
    "ExecuteTime": {
     "end_time": "2023-09-19T14:09:39.668049800Z",
     "start_time": "2023-09-19T14:09:39.623327400Z"
    }
   },
   "id": "59cd81d7b1303728"
  },
  {
   "cell_type": "code",
   "execution_count": 261,
   "outputs": [],
   "source": [
    "class ENeuralN:\n",
    "    \n",
    "    def __init__(self,features:int, hidden:int, alfa_reg:float):\n",
    "        \n",
    "        self.W1 = np.random.rand(hidden, features)\n",
    "        self.alfa_reg = alfa_reg\n",
    "        self.W2 = None\n",
    "        \n",
    "    def fit(self, x:ndarray, y:ndarray):\n",
    "        h =  sigmoid(self.W1 @ x.T).T\n",
    "        dim = h.shape[1]\n",
    "        self.W2 =  np.linalg.inv(h.T @ h + self.alfa_reg * np.eye(dim)) @ h.T @ y \n",
    "        return \n",
    "            \n",
    "    def __call__(self, x:ndarray):\n",
    "        h =  sigmoid(self.W1 @ x.T).T\n",
    "        o = (self.W2.T @ h.T).T\n",
    "        return o"
   ],
   "metadata": {
    "collapsed": false,
    "ExecuteTime": {
     "end_time": "2023-09-19T14:24:43.423100400Z",
     "start_time": "2023-09-19T14:24:43.407436400Z"
    }
   },
   "id": "8887aa9003108558"
  },
  {
   "cell_type": "code",
   "execution_count": 285,
   "outputs": [
    {
     "name": "stdout",
     "output_type": "stream",
     "text": [
      "58.152674279189654\n",
      "1.430513335795908\n"
     ]
    }
   ],
   "source": [
    "model = ENeuralN(10, 200, 1e-04)\n",
    "\n",
    "model.fit(tr_x, tr_y)\n",
    "out = model(tr_x)\n",
    "\n",
    "print(norm(out, tr_y))\n",
    "print(MSE(tr_y,out))"
   ],
   "metadata": {
    "collapsed": false,
    "ExecuteTime": {
     "end_time": "2023-09-19T14:26:36.644758100Z",
     "start_time": "2023-09-19T14:26:36.613511100Z"
    }
   },
   "id": "88fbdbc4a4980510"
  }
 ],
 "metadata": {
  "kernelspec": {
   "display_name": "Python 3",
   "language": "python",
   "name": "python3"
  },
  "language_info": {
   "codemirror_mode": {
    "name": "ipython",
    "version": 2
   },
   "file_extension": ".py",
   "mimetype": "text/x-python",
   "name": "python",
   "nbconvert_exporter": "python",
   "pygments_lexer": "ipython2",
   "version": "2.7.6"
  }
 },
 "nbformat": 4,
 "nbformat_minor": 5
}
