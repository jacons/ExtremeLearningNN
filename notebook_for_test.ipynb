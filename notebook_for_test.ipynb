{
 "cells": [
  {
   "cell_type": "code",
   "execution_count": 72,
   "id": "initial_id",
   "metadata": {
    "collapsed": true,
    "ExecuteTime": {
     "end_time": "2023-09-20T18:59:21.383248400Z",
     "start_time": "2023-09-20T18:59:21.138671900Z"
    }
   },
   "outputs": [],
   "source": [
    "import pandas as pd\n",
    "import numpy as np\n",
    "\n",
    "from numpy import ndarray"
   ]
  },
  {
   "cell_type": "code",
   "execution_count": 73,
   "outputs": [],
   "source": [
    "def sigmoid(m):\n",
    "    return 1/(1+np.exp(-m))\n",
    "\n",
    "def MSE(y: ndarray, y_pred: ndarray) -> float:\n",
    "    return np.power((y - y_pred), 2).mean()\n",
    "\n",
    "def norm(a, b):\n",
    "    return np.linalg.norm((a-b))\n",
    "\n",
    "def cholesky(matrix:ndarray):\n",
    "    R = np.zeros_like(matrix)\n",
    "    n = matrix.shape[0]\n",
    "    for j in range(n):\n",
    "        for i in range(j,n):\n",
    "            if i == j:\n",
    "                R[i,j] = np.sqrt(matrix[i,j] - np.sum(R[i,:]**2))\n",
    "            else:\n",
    "                R[i,j] = (matrix[i,j] - np.sum( R[i,:] * R[j,:] )) / R[j,j]\n",
    "    return R\n",
    "\n",
    "def backwardSub_upper(U, b):\n",
    "    out = np.zeros((b.shape[0],U.shape[0]))\n",
    "\n",
    "    for c in range(b.shape[0]):\n",
    "        out[c,0] = b[c,0] / U[0,0]\n",
    "        for i in range(1, U.shape[0]):\n",
    "            acc = 0\n",
    "            for j in range(i):\n",
    "                acc += U[j,i] * out[c,j]\n",
    "            out[c,i] = (b[c,i] - acc) / U[i,i]\n",
    "    return out\n",
    "\n",
    "def backwardSub_lower(L, b):\n",
    "    out = np.zeros((b.shape[0],L.shape[0]))\n",
    "\n",
    "    for c in range(b.shape[0]):\n",
    "        out[c,-1] = b[c,-1] / L[-1,-1]\n",
    "        \n",
    "        for i in range(L.shape[0] - 1, -1, -1):\n",
    "            acc = 0\n",
    "            for j in range(i+1, L.shape[0]):\n",
    "                acc += L[j,i] * out[c,j]\n",
    "                \n",
    "            out[c,i] = (b[c,i] - acc) / L[i,i]\n",
    "    return out"
   ],
   "metadata": {
    "collapsed": false,
    "ExecuteTime": {
     "end_time": "2023-09-20T18:59:21.403356600Z",
     "start_time": "2023-09-20T18:59:21.182376400Z"
    }
   },
   "id": "82986be0cf96410e"
  },
  {
   "cell_type": "code",
   "execution_count": 74,
   "outputs": [],
   "source": [
    "tr  = pd.read_csv(\"datasets/ML-CUP21-TR.csv\", header=None, index_col=0)\n",
    "ts  = pd.read_csv(\"datasets/ML-CUP21-TS.csv\", header=None, index_col=0)\n",
    "tr_x,tr_y = tr.iloc[:,:10].to_numpy(), tr.iloc[:,10:].to_numpy()\n",
    "# ts_x,ts_y = ts.iloc[:,:10].to_numpy().T, ts.iloc[:,10:].to_numpy()\n",
    "\n",
    "#We have training set tr_x 1182 rows and 10 columns\n",
    "#We have training set tr_y 1182 rows and 2 columns\n"
   ],
   "metadata": {
    "collapsed": false,
    "ExecuteTime": {
     "end_time": "2023-09-20T18:59:21.405540800Z",
     "start_time": "2023-09-20T18:59:21.218028200Z"
    }
   },
   "id": "59cd81d7b1303728"
  },
  {
   "cell_type": "code",
   "execution_count": 75,
   "outputs": [],
   "source": [
    "# R = np.linalg.cholesky(tr_x.T @ tr_x).T\n",
    "# b = tr_y.T @ tr_x\n",
    "# z = backwardSub_upper(R,b)\n",
    "# w = backwardSub_lower(R.T,z)\n",
    "# MSE(w @ tr_x.T, tr_y.T)"
   ],
   "metadata": {
    "collapsed": false,
    "ExecuteTime": {
     "end_time": "2023-09-20T18:59:21.405540800Z",
     "start_time": "2023-09-20T18:59:21.282628600Z"
    }
   },
   "id": "12bf798baf250cda"
  },
  {
   "cell_type": "code",
   "execution_count": 117,
   "outputs": [],
   "source": [
    "class ENeuralN:\n",
    "    \n",
    "    def __init__(self,features:int, hidden:int, alfa_reg:float):\n",
    "        \n",
    "        self.W1 = np.random.rand(hidden, features)\n",
    "        self.alfa_reg = alfa_reg\n",
    "        self.W2 = None\n",
    "        \n",
    "    def fit_NE(self, x:ndarray, y:ndarray):\n",
    "        h =  sigmoid(self.W1 @ x.T).T\n",
    "        dim = h.shape[1]\n",
    "        self.W2 =  np.linalg.inv(h.T @ h + self.alfa_reg * np.eye(dim)) @ h.T @ y \n",
    "        return\n",
    "\n",
    "    def fit_chol(self, x:ndarray, y:ndarray):\n",
    "        h =  sigmoid(self.W1 @ x.T).T\n",
    "        dim = h.shape[1]        \n",
    "        R = np.linalg.cholesky(h.T @ h  + self.alfa_reg * np.eye(dim)).T\n",
    "        z = backwardSub_upper(R, y.T @ h)\n",
    "        self.W2 = backwardSub_lower(R.T,z)\n",
    "        return\n",
    "    \n",
    "    def __call__(self, x:ndarray):\n",
    "        h =  sigmoid(self.W1 @ x.T).T\n",
    "        o = (self.W2 @ h.T).T\n",
    "        return o"
   ],
   "metadata": {
    "collapsed": false,
    "ExecuteTime": {
     "end_time": "2023-09-20T19:13:29.744337900Z",
     "start_time": "2023-09-20T19:13:29.703444600Z"
    }
   },
   "id": "8887aa9003108558"
  },
  {
   "cell_type": "code",
   "execution_count": 123,
   "outputs": [
    {
     "name": "stdout",
     "output_type": "stream",
     "text": [
      "1.853343567406436\n"
     ]
    }
   ],
   "source": [
    "model = ENeuralN(10, 100, 1e-05)\n",
    "\n",
    "model.fit_chol(tr_x, tr_y)\n",
    "out = model(tr_x)\n",
    "\n",
    "# print(norm(out, tr_y))\n",
    "print(MSE(tr_y, out))"
   ],
   "metadata": {
    "collapsed": false,
    "ExecuteTime": {
     "end_time": "2023-09-20T19:13:46.536148400Z",
     "start_time": "2023-09-20T19:13:46.475396800Z"
    }
   },
   "id": "88fbdbc4a4980510"
  }
 ],
 "metadata": {
  "kernelspec": {
   "display_name": "Python 3",
   "language": "python",
   "name": "python3"
  },
  "language_info": {
   "codemirror_mode": {
    "name": "ipython",
    "version": 2
   },
   "file_extension": ".py",
   "mimetype": "text/x-python",
   "name": "python",
   "nbconvert_exporter": "python",
   "pygments_lexer": "ipython2",
   "version": "2.7.6"
  }
 },
 "nbformat": 4,
 "nbformat_minor": 5
}
