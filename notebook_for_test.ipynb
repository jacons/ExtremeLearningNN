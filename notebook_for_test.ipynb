{
 "cells": [
  {
   "cell_type": "code",
   "execution_count": 6,
   "id": "initial_id",
   "metadata": {
    "collapsed": true,
    "ExecuteTime": {
     "end_time": "2023-09-21T14:22:07.539086800Z",
     "start_time": "2023-09-21T14:22:07.516419700Z"
    }
   },
   "outputs": [],
   "source": [
    "import pandas as pd\n",
    "from Utils import sigmoid, MSE\n",
    "from ExtremeNN import ENeuralN\n",
    "import numpy as np\n"
   ]
  },
  {
   "cell_type": "code",
   "execution_count": 7,
   "outputs": [],
   "source": [
    "tr  = pd.read_csv(\"datasets/ML-CUP21-TR.csv\", header=None, index_col=0)\n",
    "ts  = pd.read_csv(\"datasets/ML-CUP21-TS.csv\", header=None, index_col=0)\n",
    "\n",
    "#We have training set tr_x 1182 rows and 10 columns\n",
    "tr_x,tr_y = tr.iloc[:,:10].to_numpy(), tr.iloc[:,10:].to_numpy()\n",
    "#We have training set tr_y 1182 rows and 2 columns\n",
    "ts_x,ts_y = ts.iloc[:,:10].to_numpy(), ts.iloc[:,10:].to_numpy()\n"
   ],
   "metadata": {
    "collapsed": false,
    "ExecuteTime": {
     "end_time": "2023-09-21T14:22:08.202425400Z",
     "start_time": "2023-09-21T14:22:08.186774700Z"
    }
   },
   "id": "59cd81d7b1303728"
  },
  {
   "cell_type": "code",
   "execution_count": 14,
   "outputs": [
    {
     "name": "stdout",
     "output_type": "stream",
     "text": [
      "1.236603430671854\n",
      "1.8061280452393622\n"
     ]
    }
   ],
   "source": [
    "model = ENeuralN(10, 600, 1e-02, sigmoid)\n",
    "\n",
    "model.fit_cholesky(tr_x, tr_y)\n",
    "out_tr = model(tr_x)\n",
    "out_ts = model(ts_x)\n",
    "\n",
    "print(MSE(tr_y, out_tr))\n",
    "print(MSE(ts_y, out_ts))"
   ],
   "metadata": {
    "collapsed": false,
    "ExecuteTime": {
     "end_time": "2023-09-21T14:22:54.248413Z",
     "start_time": "2023-09-21T14:22:52.823855500Z"
    }
   },
   "id": "88fbdbc4a4980510"
  }
 ],
 "metadata": {
  "kernelspec": {
   "display_name": "Python 3",
   "language": "python",
   "name": "python3"
  },
  "language_info": {
   "codemirror_mode": {
    "name": "ipython",
    "version": 2
   },
   "file_extension": ".py",
   "mimetype": "text/x-python",
   "name": "python",
   "nbconvert_exporter": "python",
   "pygments_lexer": "ipython2",
   "version": "2.7.6"
  }
 },
 "nbformat": 4,
 "nbformat_minor": 5
}
