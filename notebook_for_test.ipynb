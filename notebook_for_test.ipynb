{
 "cells": [
  {
   "cell_type": "code",
   "execution_count": 192,
   "id": "initial_id",
   "metadata": {
    "collapsed": true,
    "ExecuteTime": {
     "end_time": "2023-12-07T10:21:44.690277Z",
     "start_time": "2023-12-07T10:21:43.109602400Z"
    }
   },
   "outputs": [],
   "source": [
    "import matplotlib.pyplot as plt\n",
    "import pandas as pd\n",
    "import numpy as np\n",
    "\n",
    "import  seaborn as sns\n",
    "sns.set_style(\"darkgrid\")\n",
    "\n",
    "from Utils import *\n",
    "from ExperientalTools import *\n",
    "\n",
    "import warnings\n",
    "warnings.filterwarnings(\"ignore\", \"is_categorical_dtype\")\n",
    "warnings.filterwarnings(\"ignore\", \"use_inf_as_na\")\n",
    "%reload_ext autoreload\n",
    "%autoreload 2"
   ]
  },
  {
   "cell_type": "code",
   "execution_count": 193,
   "outputs": [],
   "source": [
    "# (tr_x,tr_y), (vl_x,vl_y), (ts_x,ts_y) = prepare_dataset(train_path=\"datasets/ML-CUP21-TR.csv\")\n",
    "(tr_x,tr_y) = prepare_dataset(train_path=\"datasets/ML-CUP21-TR.csv\",unique=True)"
   ],
   "metadata": {
    "collapsed": false,
    "ExecuteTime": {
     "end_time": "2023-12-07T10:21:45.176932500Z",
     "start_time": "2023-12-07T10:21:44.694013100Z"
    }
   },
   "id": "8999d6bb57ad46b1"
  },
  {
   "cell_type": "code",
   "execution_count": 194,
   "outputs": [],
   "source": [
    "# m = ENeuralN(10,100,0,sigmoid)"
   ],
   "metadata": {
    "collapsed": false,
    "ExecuteTime": {
     "end_time": "2023-12-07T10:21:45.660703Z",
     "start_time": "2023-12-07T10:21:45.176932500Z"
    }
   },
   "id": "bbdb0af9611fa28c"
  },
  {
   "cell_type": "code",
   "execution_count": 195,
   "outputs": [],
   "source": [
    "# m.resevoir(tr_x)"
   ],
   "metadata": {
    "collapsed": false,
    "ExecuteTime": {
     "end_time": "2023-12-07T10:21:46.157213200Z",
     "start_time": "2023-12-07T10:21:45.660703Z"
    }
   },
   "id": "f09c595e0f554bec"
  },
  {
   "cell_type": "code",
   "execution_count": 196,
   "outputs": [],
   "source": [],
   "metadata": {
    "collapsed": false,
    "ExecuteTime": {
     "end_time": "2023-12-07T10:21:46.640553500Z",
     "start_time": "2023-12-07T10:21:46.157213200Z"
    }
   },
   "id": "836bc9d08e57e0f7"
  },
  {
   "cell_type": "code",
   "execution_count": 197,
   "outputs": [],
   "source": [
    "# MSE(w_star[0].T@m.resevoir(tr_x), tr_y)"
   ],
   "metadata": {
    "collapsed": false,
    "ExecuteTime": {
     "end_time": "2023-12-07T10:21:47.144198400Z",
     "start_time": "2023-12-07T10:21:46.640553500Z"
    }
   },
   "id": "3b370d13a8c859bb"
  },
  {
   "cell_type": "code",
   "execution_count": 197,
   "outputs": [],
   "source": [],
   "metadata": {
    "collapsed": false,
    "ExecuteTime": {
     "end_time": "2023-12-07T10:21:47.149332900Z",
     "start_time": "2023-12-07T10:21:47.144198400Z"
    }
   },
   "id": "e47020069ba55cce"
  },
  {
   "cell_type": "markdown",
   "source": [
    "# JUST AN EXAMPLE"
   ],
   "metadata": {
    "collapsed": false
   },
   "id": "708cd5f95860495f"
  },
  {
   "cell_type": "code",
   "execution_count": 277,
   "outputs": [],
   "source": [
    "resevoir = np.random.uniform(0, 1,(150,10))"
   ],
   "metadata": {
    "collapsed": false,
    "ExecuteTime": {
     "end_time": "2023-12-07T10:36:11.231969200Z",
     "start_time": "2023-12-07T10:36:10.662434600Z"
    }
   },
   "id": "f4c2b796c1f3c5e2"
  },
  {
   "cell_type": "markdown",
   "source": [
    "## Optimal solution"
   ],
   "metadata": {
    "collapsed": false
   },
   "id": "22abd31734962061"
  },
  {
   "cell_type": "code",
   "execution_count": 278,
   "outputs": [
    {
     "data": {
      "text/plain": "((10, 1182), (150, 10))"
     },
     "execution_count": 278,
     "metadata": {},
     "output_type": "execute_result"
    }
   ],
   "source": [
    "tr_x.shape, resevoir.shape"
   ],
   "metadata": {
    "collapsed": false,
    "ExecuteTime": {
     "end_time": "2023-12-07T10:36:14.675459300Z",
     "start_time": "2023-12-07T10:36:14.110237100Z"
    }
   },
   "id": "a2323b2a7702cfa1"
  },
  {
   "cell_type": "code",
   "execution_count": 279,
   "outputs": [
    {
     "data": {
      "text/plain": "((150, 1182), (2, 1182))"
     },
     "execution_count": 279,
     "metadata": {},
     "output_type": "execute_result"
    }
   ],
   "source": [
    "(resevoir@tr_x).shape, tr_y.shape"
   ],
   "metadata": {
    "collapsed": false,
    "ExecuteTime": {
     "end_time": "2023-12-07T10:36:15.350765400Z",
     "start_time": "2023-12-07T10:36:14.778376100Z"
    }
   },
   "id": "ac86e07299c8f744"
  },
  {
   "cell_type": "code",
   "execution_count": 281,
   "outputs": [
    {
     "data": {
      "text/plain": "(2, 1182)"
     },
     "execution_count": 281,
     "metadata": {},
     "output_type": "execute_result"
    }
   ],
   "source": [
    "(np.random.random((2,150))@(resevoir@tr_x)).shape"
   ],
   "metadata": {
    "collapsed": false,
    "ExecuteTime": {
     "end_time": "2023-12-07T10:36:21.801235500Z",
     "start_time": "2023-12-07T10:36:21.247458300Z"
    }
   },
   "id": "9edaf618542a48da"
  },
  {
   "cell_type": "code",
   "execution_count": 282,
   "outputs": [
    {
     "name": "stderr",
     "output_type": "stream",
     "text": [
      "C:\\Users\\Andrea\\AppData\\Local\\Temp\\ipykernel_21172\\1676766576.py:1: FutureWarning: `rcond` parameter will change to the default of machine precision times ``max(M, N)`` where M and N are the input matrix dimensions.\n",
      "To use the future default and silence this warning we advise to pass `rcond=None`, to keep using the old, explicitly pass `rcond=-1`.\n",
      "  w_star,_,_,_ = np.linalg.lstsq((resevoir@tr_x).T, tr_y.T)\n"
     ]
    }
   ],
   "source": [
    "w_star,_,_,_ = np.linalg.lstsq((resevoir@tr_x).T, tr_y.T)"
   ],
   "metadata": {
    "collapsed": false,
    "ExecuteTime": {
     "end_time": "2023-12-07T10:36:22.470463700Z",
     "start_time": "2023-12-07T10:36:21.903125600Z"
    }
   },
   "id": "d61896e74f9126de"
  },
  {
   "cell_type": "code",
   "execution_count": 283,
   "outputs": [
    {
     "data": {
      "text/plain": "((2, 150), (2, 1182))"
     },
     "execution_count": 283,
     "metadata": {},
     "output_type": "execute_result"
    }
   ],
   "source": [
    "w_star.T.shape,(w_star.T@(resevoir@tr_x)).shape"
   ],
   "metadata": {
    "collapsed": false,
    "ExecuteTime": {
     "end_time": "2023-12-07T10:36:24.216138100Z",
     "start_time": "2023-12-07T10:36:23.647071100Z"
    }
   },
   "id": "b769dcd9009b9071"
  },
  {
   "cell_type": "code",
   "execution_count": 284,
   "outputs": [
    {
     "data": {
      "text/plain": "169.56424665960026"
     },
     "execution_count": 284,
     "metadata": {},
     "output_type": "execute_result"
    }
   ],
   "source": [
    "MSE(w_star.T@(resevoir@tr_x),tr_y)"
   ],
   "metadata": {
    "collapsed": false,
    "ExecuteTime": {
     "end_time": "2023-12-07T10:36:25.041736100Z",
     "start_time": "2023-12-07T10:36:24.464552900Z"
    }
   },
   "id": "dc0108fa1ee63236"
  },
  {
   "cell_type": "code",
   "execution_count": 256,
   "outputs": [],
   "source": [
    "model = fit_cholesky(tr_x,tr_y, hidden=100,lambda_=1e-01, activation=sigmoid, resevoir=resevoir)"
   ],
   "metadata": {
    "collapsed": false,
    "ExecuteTime": {
     "end_time": "2023-12-07T10:29:34.038007300Z",
     "start_time": "2023-12-07T10:29:33.443471Z"
    }
   },
   "id": "99401dabe324fb18"
  },
  {
   "cell_type": "code",
   "execution_count": 257,
   "outputs": [
    {
     "data": {
      "text/plain": "1.6347480770431768"
     },
     "execution_count": 257,
     "metadata": {},
     "output_type": "execute_result"
    }
   ],
   "source": [
    "get_results(model,tr_x,tr_y)"
   ],
   "metadata": {
    "collapsed": false,
    "ExecuteTime": {
     "end_time": "2023-12-07T10:29:35.047934600Z",
     "start_time": "2023-12-07T10:29:34.492434500Z"
    }
   },
   "id": "f1ce2dc6fac0e5d4"
  },
  {
   "cell_type": "code",
   "execution_count": 212,
   "outputs": [],
   "source": [
    "instance1 = fit_sgd(tr_x, tr_y, hidden=200, lambda_=0.001, activation=sigmoid,\n",
    "                    max_inters=150, eps=0.0001, lr=0, beta=0, resevoir=resevoir)\n",
    "\n",
    "instance2 = fit_sgd(tr_x, tr_y, hidden=200, lambda_=0.001, activation=sigmoid,\n",
    "                    max_inters=150, eps=0.0001, lr=0, beta=0.5, resevoir=resevoir)  \n",
    "\n",
    "instance3 = fit_fista(tr_x, tr_y, hidden=200, lambda_=0.001, activation=sigmoid,\n",
    "                      max_inters=150, eps=0.0001, resevoir=resevoir)"
   ],
   "metadata": {
    "collapsed": false,
    "ExecuteTime": {
     "end_time": "2023-12-07T10:22:05.597946900Z",
     "start_time": "2023-12-07T10:22:04.952637800Z"
    }
   },
   "id": "91e6329362f2052"
  },
  {
   "cell_type": "code",
   "execution_count": 213,
   "outputs": [
    {
     "name": "stdout",
     "output_type": "stream",
     "text": [
      "MSE at the last iteration:\n",
      "SGD 2.8127\n",
      "SGD-M 2.4047\n",
      "FISTA 2.3754\n"
     ]
    }
   ],
   "source": [
    "print(f\"MSE at the last iteration:\\nSGD {instance1[2]}\\nSGD-M {instance2[2]}\\nFISTA {instance3[2]}\")"
   ],
   "metadata": {
    "collapsed": false,
    "ExecuteTime": {
     "end_time": "2023-12-07T10:22:08.422072Z",
     "start_time": "2023-12-07T10:22:07.882222900Z"
    }
   },
   "id": "8c6507f54e639863"
  },
  {
   "cell_type": "code",
   "execution_count": 214,
   "outputs": [
    {
     "data": {
      "text/plain": "<Figure size 1000x500 with 1 Axes>",
      "image/png": "[encoded data removed]"
     },
     "metadata": {},
     "output_type": "display_data"
    }
   ],
   "source": [
    "f, axs = plt.subplots(figsize=(10,5))\n",
    "sns.lineplot(data=instance1[1], x=instance1[1].index, y=\"MSE_error\", ax=axs, label=\"SGD\")\n",
    "sns.lineplot(data=instance2[1], x=instance2[1].index, y=\"MSE_error\", ax=axs, label=\"SGD with CM\")\n",
    "sns.lineplot(data=instance3[1], x=instance3[1].index, y=\"MSE_error\", ax=axs, label=\"FISTA\")\n",
    "axs.set_ylim([0,20])\n",
    "axs.set_title(\"MSE error in Training set\",fontsize=18)\n",
    "axs.set_ylabel(\"MSE error\",fontsize=15)\n",
    "axs.set_xlabel(\"Iterations\",fontsize=15)\n",
    "axs.legend()\n",
    "plt.show()"
   ],
   "metadata": {
    "collapsed": false,
    "ExecuteTime": {
     "end_time": "2023-12-07T10:22:09.318300200Z",
     "start_time": "2023-12-07T10:22:08.534495Z"
    }
   },
   "id": "de650320abb06bbe"
  },
  {
   "cell_type": "markdown",
   "source": [
    "# GRIDSEARCH CHOLESKY"
   ],
   "metadata": {
    "collapsed": false
   },
   "id": "1c936de9a550c87d"
  },
  {
   "cell_type": "code",
   "execution_count": 204,
   "outputs": [],
   "source": [
    "parameter_cholesky = dict(\n",
    "    hidden=[*range(10,500,10)],\n",
    "    lambda_ =  [0.001,0.0005],\n",
    "    activation = [sigmoid, ReLU, tanH]\n",
    ")"
   ],
   "metadata": {
    "collapsed": false,
    "ExecuteTime": {
     "end_time": "2023-12-07T10:21:51.071788Z",
     "start_time": "2023-12-07T10:21:50.562232Z"
    }
   },
   "id": "6d1c13ce2ea9f6d0"
  },
  {
   "cell_type": "code",
   "execution_count": 205,
   "outputs": [],
   "source": [
    "# grid_search_cholesky(configs=parameter_cholesky, train=(tr_x,tr_y), valid=(vl_x,vl_y))"
   ],
   "metadata": {
    "collapsed": false,
    "ExecuteTime": {
     "end_time": "2023-12-07T10:21:51.580169100Z",
     "start_time": "2023-12-07T10:21:51.075053200Z"
    }
   },
   "id": "af939c3abba2c10e"
  },
  {
   "cell_type": "markdown",
   "source": [
    "# GRIDSEARCH FISTA"
   ],
   "metadata": {
    "collapsed": false
   },
   "id": "984dec71b808c391"
  },
  {
   "cell_type": "code",
   "execution_count": 206,
   "outputs": [],
   "source": [
    "parameter_fista = dict(\n",
    "    hidden=[*range(10,500,15)],\n",
    "    lambda_ =  [0.0005],\n",
    "    activation = [sigmoid],\n",
    "    max_inters=[1000, 5000],\n",
    "    eps=[0]\n",
    ")"
   ],
   "metadata": {
    "collapsed": false,
    "ExecuteTime": {
     "end_time": "2023-12-07T10:21:52.071715Z",
     "start_time": "2023-12-07T10:21:51.580169100Z"
    }
   },
   "id": "cfbf285ece6849bb"
  },
  {
   "cell_type": "code",
   "execution_count": 207,
   "outputs": [],
   "source": [
    "# grid_search_iterative(configs=parameter_fista, train=(tr_x,tr_y), valid=(vl_x,vl_y), optimizer=\"FISTA\")"
   ],
   "metadata": {
    "collapsed": false,
    "ExecuteTime": {
     "end_time": "2023-12-07T10:21:52.557603800Z",
     "start_time": "2023-12-07T10:21:52.071715Z"
    }
   },
   "id": "baf6e8e8686937ce"
  },
  {
   "cell_type": "markdown",
   "source": [
    "# GRIDSEARCH SDG"
   ],
   "metadata": {
    "collapsed": false
   },
   "id": "46fce4cd9b0de2c0"
  },
  {
   "cell_type": "code",
   "execution_count": 208,
   "outputs": [],
   "source": [
    "parameter_sgd = dict(\n",
    "    hidden=[*range(10,500,15)],\n",
    "    lambda_ =  [0.0005],\n",
    "    activation = [sigmoid],\n",
    "    max_inters=[1000],\n",
    "    eps=[0],\n",
    "    lr=[0],\n",
    "    beta=[0]\n",
    ")"
   ],
   "metadata": {
    "collapsed": false,
    "ExecuteTime": {
     "end_time": "2023-12-07T10:21:53.044860600Z",
     "start_time": "2023-12-07T10:21:52.557603800Z"
    }
   },
   "id": "fa6b933f11229836"
  },
  {
   "cell_type": "code",
   "execution_count": 209,
   "outputs": [],
   "source": [
    "# grid_search_iterative(configs=parameter_sgd, train=(tr_x,tr_y), valid=(vl_x,vl_y), optimizer=\"SGD\")"
   ],
   "metadata": {
    "collapsed": false,
    "ExecuteTime": {
     "end_time": "2023-12-07T10:21:53.526808700Z",
     "start_time": "2023-12-07T10:21:53.048687500Z"
    }
   },
   "id": "f559fed44bf2bc5f"
  },
  {
   "cell_type": "markdown",
   "source": [
    "# GRIDSEARCH SGD with CLASSICAL MOMENTUM"
   ],
   "metadata": {
    "collapsed": false
   },
   "id": "a4c75f2069054c9b"
  },
  {
   "cell_type": "code",
   "execution_count": 210,
   "outputs": [],
   "source": [
    "parameter_sgd = dict(\n",
    "    hidden=[*range(10,500,15)],\n",
    "    lambda_ =  [0.0005],\n",
    "    activation = [sigmoid],\n",
    "    max_inters=[1000],\n",
    "    eps=[0],\n",
    "    lr=[0],\n",
    "    beta=[0.99]\n",
    ")"
   ],
   "metadata": {
    "collapsed": false,
    "ExecuteTime": {
     "end_time": "2023-12-07T10:21:54.019085200Z",
     "start_time": "2023-12-07T10:21:53.531343900Z"
    }
   },
   "id": "d3d0bee64415c551"
  },
  {
   "cell_type": "code",
   "execution_count": 211,
   "outputs": [],
   "source": [
    "# grid_search_iterative(configs=parameter_sgd, train=(tr_x,tr_y), valid=(vl_x,vl_y), optimizer=\"SGD\")"
   ],
   "metadata": {
    "collapsed": false,
    "ExecuteTime": {
     "end_time": "2023-12-07T10:21:54.500853300Z",
     "start_time": "2023-12-07T10:21:54.022622Z"
    }
   },
   "id": "6b8bb4392563b749"
  }
 ],
 "metadata": {
  "kernelspec": {
   "display_name": "Python 3",
   "language": "python",
   "name": "python3"
  },
  "language_info": {
   "codemirror_mode": {
    "name": "ipython",
    "version": 2
   },
   "file_extension": ".py",
   "mimetype": "text/x-python",
   "name": "python",
   "nbconvert_exporter": "python",
   "pygments_lexer": "ipython2",
   "version": "2.7.6"
  }
 },
 "nbformat": 4,
 "nbformat_minor": 5
}
