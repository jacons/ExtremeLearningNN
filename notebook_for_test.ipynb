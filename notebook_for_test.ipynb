{
 "cells": [
  {
   "cell_type": "code",
   "execution_count": 22,
   "id": "initial_id",
   "metadata": {
    "collapsed": true,
    "ExecuteTime": {
     "end_time": "2024-01-09T15:06:53.594902200Z",
     "start_time": "2024-01-09T15:06:52.472783400Z"
    }
   },
   "outputs": [],
   "source": [
    "import matplotlib.pyplot as plt\n",
    "\n",
    "import  seaborn as sns\n",
    "sns.set_style(\"darkgrid\")\n",
    "\n",
    "from ExperientalTools import *\n",
    "\n",
    "import warnings\n",
    "warnings.filterwarnings(\"ignore\", \"is_categorical_dtype\")\n",
    "warnings.filterwarnings(\"ignore\", \"use_inf_as_na\")\n",
    "%reload_ext autoreload\n",
    "%autoreload 2"
   ]
  },
  {
   "cell_type": "markdown",
   "source": [
    "## get the dataset"
   ],
   "metadata": {
    "collapsed": false
   },
   "id": "4f6d16377011a4eb"
  },
  {
   "cell_type": "code",
   "execution_count": 23,
   "outputs": [],
   "source": [
    "(tr_x,tr_y) = prepare_dataset(train_path=\"datasets/ML-CUP21-TR.csv\",unique=True)"
   ],
   "metadata": {
    "collapsed": false,
    "ExecuteTime": {
     "end_time": "2024-01-09T15:06:53.725596Z",
     "start_time": "2024-01-09T15:06:53.595998200Z"
    }
   },
   "id": "8999d6bb57ad46b1"
  },
  {
   "cell_type": "code",
   "outputs": [],
   "source": [
    "# dictionary to save the results\n",
    "results={}"
   ],
   "metadata": {
    "collapsed": false,
    "ExecuteTime": {
     "end_time": "2024-01-09T15:06:53.832163900Z",
     "start_time": "2024-01-09T15:06:53.726726800Z"
    }
   },
   "id": "5d46fc77b51a9a44",
   "execution_count": 24
  },
  {
   "cell_type": "markdown",
   "source": [
    "## Constants"
   ],
   "metadata": {
    "collapsed": false
   },
   "id": "f687cd02fb6b92d3"
  },
  {
   "cell_type": "code",
   "outputs": [],
   "source": [
    "SIZE_RESERVOIR = 200\n",
    "LAMBDA_REG = 0.5\n",
    "MAX_ITER = 30000\n",
    "PRECISION = 1e-1"
   ],
   "metadata": {
    "collapsed": false,
    "ExecuteTime": {
     "end_time": "2024-01-09T15:06:53.938893700Z",
     "start_time": "2024-01-09T15:06:53.833672900Z"
    }
   },
   "id": "614939f754e2ef3a",
   "execution_count": 25
  },
  {
   "cell_type": "markdown",
   "source": [
    "## fix the resevoir"
   ],
   "metadata": {
    "collapsed": false
   },
   "id": "34704a87dc769ba0"
  },
  {
   "cell_type": "code",
   "execution_count": 26,
   "outputs": [],
   "source": [
    "resevoir = np.random.uniform(-1, 1, (SIZE_RESERVOIR, 10))\n",
    "H = sigmoid(resevoir @ tr_x)\n",
    "E = H @ H.T + np.power(LAMBDA_REG, 2) * np.eye(H.shape[0])"
   ],
   "metadata": {
    "collapsed": false,
    "ExecuteTime": {
     "end_time": "2024-01-09T15:06:54.048125Z",
     "start_time": "2024-01-09T15:06:53.940098100Z"
    }
   },
   "id": "f4c2b796c1f3c5e2"
  },
  {
   "cell_type": "code",
   "execution_count": 27,
   "outputs": [
    {
     "name": "stdout",
     "output_type": "stream",
     "text": [
      "Condition number of E: 294132.0743766833\n"
     ]
    }
   ],
   "source": [
    "condition_number = np.linalg.cond(E)\n",
    "print(f\"Condition number of E: {condition_number}\")"
   ],
   "metadata": {
    "collapsed": false,
    "ExecuteTime": {
     "end_time": "2024-01-09T15:06:54.205366700Z",
     "start_time": "2024-01-09T15:06:54.052255Z"
    }
   },
   "id": "20a84ca6cb005b8c"
  },
  {
   "cell_type": "markdown",
   "source": [
    "# OPTIMAL SOLUTION"
   ],
   "metadata": {
    "collapsed": false
   },
   "id": "708cd5f95860495f"
  },
  {
   "cell_type": "code",
   "execution_count": 28,
   "outputs": [],
   "source": [
    "# Calculate the optimal solution\n",
    "start_optimal = datetime.datetime.now()\n",
    "w_star, _, _, _ = np.linalg.lstsq(E, H @ tr_y.T, rcond=-1)\n",
    "end_optimal = (datetime.datetime.now() - start_optimal).microseconds"
   ],
   "metadata": {
    "collapsed": false,
    "ExecuteTime": {
     "end_time": "2024-01-09T15:06:54.364994700Z",
     "start_time": "2024-01-09T15:06:54.207559200Z"
    }
   },
   "id": "59a939b1e39c14d"
  },
  {
   "cell_type": "code",
   "execution_count": 29,
   "outputs": [],
   "source": [
    "results[\"Optimal\"] = mse(w_star.T@H, tr_y), \"-\", end_optimal"
   ],
   "metadata": {
    "collapsed": false,
    "ExecuteTime": {
     "end_time": "2024-01-09T15:06:54.467229700Z",
     "start_time": "2024-01-09T15:06:54.361834200Z"
    }
   },
   "id": "50f3ce938783414f"
  },
  {
   "cell_type": "code",
   "execution_count": 30,
   "outputs": [
    {
     "name": "stdout",
     "output_type": "stream",
     "text": [
      "Mean square error:  1.487460605200784\n",
      "Time:  48576\n"
     ]
    }
   ],
   "source": [
    "print(\"Mean square error: \", results[\"Optimal\"][0])\n",
    "print(\"Time: \", results[\"Optimal\"][2])"
   ],
   "metadata": {
    "collapsed": false,
    "ExecuteTime": {
     "end_time": "2024-01-09T15:06:54.576960400Z",
     "start_time": "2024-01-09T15:06:54.471670400Z"
    }
   },
   "id": "5b5b7523eb5b20e1"
  },
  {
   "cell_type": "markdown",
   "source": [
    "## Cholesky solution"
   ],
   "metadata": {
    "collapsed": false
   },
   "id": "22abd31734962061"
  },
  {
   "cell_type": "code",
   "execution_count": 31,
   "outputs": [],
   "source": [
    "output = fit_cholesky(tr_x, tr_y, lambda_=LAMBDA_REG, resevoir=resevoir, verbose=True)\n",
    "cholesky = output[\"model\"]\n",
    "time = output[\"elapsed_time\"]"
   ],
   "metadata": {
    "collapsed": false,
    "ExecuteTime": {
     "end_time": "2024-01-09T15:06:54.828281Z",
     "start_time": "2024-01-09T15:06:54.581392400Z"
    }
   },
   "id": "cd94dc2c29237fe2"
  },
  {
   "cell_type": "code",
   "execution_count": 32,
   "outputs": [],
   "source": [
    "cholesky_rel_gap_sol = np.linalg.norm(cholesky.w2 - w_star.T, ord=\"fro\")/np.linalg.norm(w_star, ord=\"fro\")\n",
    "results[\"Cholesky\"] = (get_results(cholesky, tr_x, tr_y), cholesky_rel_gap_sol, time)"
   ],
   "metadata": {
    "collapsed": false,
    "ExecuteTime": {
     "end_time": "2024-01-09T15:06:54.937995500Z",
     "start_time": "2024-01-09T15:06:54.830470300Z"
    }
   },
   "id": "99401dabe324fb18"
  },
  {
   "cell_type": "code",
   "execution_count": 33,
   "outputs": [
    {
     "name": "stdout",
     "output_type": "stream",
     "text": [
      "Cholesky Mean square error:  1.4874606052001174\n",
      "Cholesky Relative Gap Sol:  3.742972400444771e-11\n"
     ]
    }
   ],
   "source": [
    "print(\"Cholesky Mean square error: \", results[\"Cholesky\"][0])\n",
    "print(\"Cholesky Relative Gap Sol: \", results[\"Cholesky\"][1])"
   ],
   "metadata": {
    "collapsed": false,
    "ExecuteTime": {
     "end_time": "2024-01-09T15:06:55.048729500Z",
     "start_time": "2024-01-09T15:06:54.940203700Z"
    }
   },
   "id": "f1ce2dc6fac0e5d4"
  },
  {
   "cell_type": "markdown",
   "source": [
    "## Iterative methods"
   ],
   "metadata": {
    "collapsed": false
   },
   "id": "fa7368144f1c0e69"
  },
  {
   "cell_type": "code",
   "execution_count": 34,
   "outputs": [],
   "source": [
    "output_sgd = fit_sgd(x_train=tr_x, y_train=tr_y, lambda_=LAMBDA_REG, max_inters=MAX_ITER,\n",
    "                        eps=PRECISION, resevoir=resevoir, w_star=w_star.T, verbose=True)\n",
    "classical_sgd = output_sgd[\"model\"]\n",
    "time = output_sgd[\"elapsed_time\"]"
   ],
   "metadata": {
    "collapsed": false,
    "ExecuteTime": {
     "end_time": "2024-01-09T15:07:50.219870700Z",
     "start_time": "2024-01-09T15:06:55.050971100Z"
    }
   },
   "id": "1b61cfa27295d68e"
  },
  {
   "cell_type": "code",
   "execution_count": 35,
   "outputs": [],
   "source": [
    "sgd_gap_sol = output_sgd[\"results\"][\"Rel_Gap_Sol\"].tail(1).values[0]\n",
    "results[\"classical-SGD\"] = get_results(classical_sgd, tr_x, tr_y), sgd_gap_sol, time"
   ],
   "metadata": {
    "collapsed": false,
    "ExecuteTime": {
     "end_time": "2024-01-09T15:07:50.482400600Z",
     "start_time": "2024-01-09T15:07:50.209981900Z"
    }
   },
   "id": "a9a0e385dadbce3e"
  },
  {
   "cell_type": "code",
   "execution_count": 36,
   "outputs": [
    {
     "name": "stdout",
     "output_type": "stream",
     "text": [
      "Mean square error:  1.7019335560720297\n",
      "Relative Gap Sol:  0.7301906503555243\n"
     ]
    }
   ],
   "source": [
    "print(\"Mean square error: \", results[\"classical-SGD\"][0])\n",
    "print(\"Relative Gap Sol: \", results[\"classical-SGD\"][1])"
   ],
   "metadata": {
    "collapsed": false,
    "ExecuteTime": {
     "end_time": "2024-01-09T15:07:50.559995500Z",
     "start_time": "2024-01-09T15:07:50.380050500Z"
    }
   },
   "id": "896301e27a6aaa68"
  },
  {
   "cell_type": "code",
   "execution_count": 37,
   "outputs": [
    {
     "name": "stdout",
     "output_type": "stream",
     "text": [
      "Converged in 20143 iterations. Norm grad: 0.09999408146561713\n"
     ]
    }
   ],
   "source": [
    "output_fista = fit_fista(x_train=tr_x, y_train=tr_y, lambda_=LAMBDA_REG, max_inters=MAX_ITER,\n",
    "                  eps=PRECISION, resevoir=resevoir, w_star=w_star.T, verbose=True)\n",
    "fista = output_fista[\"model\"]\n",
    "time = output_fista[\"elapsed_time\"]"
   ],
   "metadata": {
    "collapsed": false,
    "ExecuteTime": {
     "end_time": "2024-01-09T15:08:25.706737500Z",
     "start_time": "2024-01-09T15:07:50.519409600Z"
    }
   },
   "id": "1154da3f17d00f98"
  },
  {
   "cell_type": "code",
   "execution_count": 38,
   "outputs": [],
   "source": [
    "fista_gap_sol = output_fista[\"results\"][\"Rel_Gap_Sol\"].tail(1).values[0]\n",
    "results[\"Fista\"] = get_results(fista, tr_x, tr_y), fista_gap_sol, time"
   ],
   "metadata": {
    "collapsed": false,
    "ExecuteTime": {
     "end_time": "2024-01-09T15:08:25.870963600Z",
     "start_time": "2024-01-09T15:08:25.710123200Z"
    }
   },
   "id": "91e6329362f2052"
  },
  {
   "cell_type": "code",
   "execution_count": 39,
   "outputs": [
    {
     "name": "stdout",
     "output_type": "stream",
     "text": [
      "Mean square error:  1.4875302133783948\n",
      "Relative Gap Sol:  0.002767427692345764\n"
     ]
    }
   ],
   "source": [
    "print(\"Mean square error: \", results[\"Fista\"][0])\n",
    "print(\"Relative Gap Sol: \", results[\"Fista\"][1])"
   ],
   "metadata": {
    "collapsed": false,
    "ExecuteTime": {
     "end_time": "2024-01-09T15:08:25.996959400Z",
     "start_time": "2024-01-09T15:08:25.866846500Z"
    }
   },
   "id": "d8d4893b3ddd6cde"
  },
  {
   "cell_type": "code",
   "outputs": [
    {
     "data": {
      "text/plain": "             MSE  Rel_Gap_Sol\niters                        \n0      36.253100     1.059966\n1      36.253100     1.059966\n2      24.405070     1.058963\n3      15.329494     1.058134\n4       9.523361     1.057523\n...          ...          ...\n20138   1.487530     0.002768\n20139   1.487530     0.002768\n20140   1.487530     0.002768\n20141   1.487530     0.002768\n20142   1.487530     0.002767\n\n[20143 rows x 2 columns]",
      "text/html": "<div>\n<style scoped>\n    .dataframe tbody tr th:only-of-type {\n        vertical-align: middle;\n    }\n\n    .dataframe tbody tr th {\n        vertical-align: top;\n    }\n\n    .dataframe thead th {\n        text-align: right;\n    }\n</style>\n<table border=\"1\" class=\"dataframe\">\n  <thead>\n    <tr style=\"text-align: right;\">\n      <th></th>\n      <th>MSE</th>\n      <th>Rel_Gap_Sol</th>\n    </tr>\n    <tr>\n      <th>iters</th>\n      <th></th>\n      <th></th>\n    </tr>\n  </thead>\n  <tbody>\n    <tr>\n      <th>0</th>\n      <td>36.253100</td>\n      <td>1.059966</td>\n    </tr>\n    <tr>\n      <th>1</th>\n      <td>36.253100</td>\n      <td>1.059966</td>\n    </tr>\n    <tr>\n      <th>2</th>\n      <td>24.405070</td>\n      <td>1.058963</td>\n    </tr>\n    <tr>\n      <th>3</th>\n      <td>15.329494</td>\n      <td>1.058134</td>\n    </tr>\n    <tr>\n      <th>4</th>\n      <td>9.523361</td>\n      <td>1.057523</td>\n    </tr>\n    <tr>\n      <th>...</th>\n      <td>...</td>\n      <td>...</td>\n    </tr>\n    <tr>\n      <th>20138</th>\n      <td>1.487530</td>\n      <td>0.002768</td>\n    </tr>\n    <tr>\n      <th>20139</th>\n      <td>1.487530</td>\n      <td>0.002768</td>\n    </tr>\n    <tr>\n      <th>20140</th>\n      <td>1.487530</td>\n      <td>0.002768</td>\n    </tr>\n    <tr>\n      <th>20141</th>\n      <td>1.487530</td>\n      <td>0.002768</td>\n    </tr>\n    <tr>\n      <th>20142</th>\n      <td>1.487530</td>\n      <td>0.002767</td>\n    </tr>\n  </tbody>\n</table>\n<p>20143 rows × 2 columns</p>\n</div>"
     },
     "execution_count": 40,
     "metadata": {},
     "output_type": "execute_result"
    }
   ],
   "source": [
    "output_fista[\"results\"]"
   ],
   "metadata": {
    "collapsed": false,
    "ExecuteTime": {
     "end_time": "2024-01-09T15:08:26.158042Z",
     "start_time": "2024-01-09T15:08:25.999710300Z"
    }
   },
   "id": "bbc23938734ab21e",
   "execution_count": 40
  },
  {
   "cell_type": "code",
   "execution_count": 41,
   "outputs": [
    {
     "data": {
      "text/plain": "<Figure size 1500x600 with 2 Axes>",
      "image/png": "[encoded data removed]"
     },
     "metadata": {},
     "output_type": "display_data"
    }
   ],
   "source": [
    "_, axs = plt.subplots(ncols=2,figsize=(15,6))\n",
    "\n",
    "sns.lineplot(data=output_sgd[\"results\"], x=output_sgd[\"results\"].index, y=\"Rel_Gap_Sol\", ax=axs[0], label=\"SGD\")\n",
    "sns.lineplot(data=output_fista[\"results\"], x=output_fista[\"results\"].index, y=\"Rel_Gap_Sol\", ax=axs[0], label=\"Fista\")\n",
    "axs[0].axhline(y=cholesky_rel_gap_sol, label=\"Rel. Gap Solution Cholesky\", color=\"red\", linestyle=\"--\")\n",
    "axs[0].set_title(\"Relative Gap solution\",fontsize=18)\n",
    "axs[0].set_ylabel(\"Relative Gap solution\",fontsize=15)\n",
    "axs[0].set_xlabel(\"Iterations\",fontsize=15)\n",
    "axs[0].set_ylim([-0.05,1.2])\n",
    "axs[0].set_xscale(\"log\")\n",
    "axs[0].legend()\n",
    "\n",
    "\n",
    "sns.lineplot(data=output_sgd[\"results\"], x=output_sgd[\"results\"].index, y=\"MSE\", ax=axs[1], label=\"SGD\")\n",
    "sns.lineplot(data=output_fista[\"results\"], x=output_fista[\"results\"].index, y=\"MSE\", ax=axs[1], label=\"Fista\")\n",
    "axs[1].axhline(y=results[\"Cholesky\"][0], label=\"MSE cholesky\", color=\"red\", linestyle=\"--\")\n",
    "axs[1].axhline(y=results[\"Optimal\"][0], label=\"MSE Optimal\", color=\"black\", linestyle=\"--\")\n",
    "axs[1].set_title(\"Mean square errors\",fontsize=18)\n",
    "axs[1].set_ylabel(\"MSE\",fontsize=15)\n",
    "axs[1].set_xlabel(\"Iterations\",fontsize=15)\n",
    "axs[1].set_ylim([0, 2.3])\n",
    "axs[1].legend()\n",
    "\n",
    "plt.show()\n"
   ],
   "metadata": {
    "collapsed": false,
    "ExecuteTime": {
     "end_time": "2024-01-09T15:09:07.181308Z",
     "start_time": "2024-01-09T15:08:26.164771600Z"
    }
   },
   "id": "5e86ac1b51cb7d2a"
  },
  {
   "cell_type": "code",
   "execution_count": 42,
   "outputs": [
    {
     "name": "stdout",
     "output_type": "stream",
     "text": [
      "       Method                    MSE                       Rel. gap sol               Time(microseconds)      \n",
      "      Optimal             1.487460605200784                     -                           48576             \n",
      "      Cholesky            1.4874606052001174          3.742972400444771e-11                 143161            \n",
      "   classical-SGD          1.7019335560720297            0.7301906503555243                  612408            \n",
      "       Fista              1.4875302133783948           0.002767427692345764                 661889            \n"
     ]
    }
   ],
   "source": [
    "print(f\"{'Method' : ^20}{'MSE' : ^30}{'Rel. gap sol' : ^30}{'Time(microseconds)' : ^30}\")\n",
    "\n",
    "for k,v in results.items():\n",
    "    print(f\"{k : ^20}{v[0]:^30}{v[1] : ^30}{v[2] : ^30}\")"
   ],
   "metadata": {
    "collapsed": false,
    "ExecuteTime": {
     "end_time": "2024-01-09T15:09:07.420769200Z",
     "start_time": "2024-01-09T15:09:07.170015500Z"
    }
   },
   "id": "a410ef6781ea8f4c"
  },
  {
   "cell_type": "code",
   "outputs": [],
   "source": [],
   "metadata": {
    "collapsed": false,
    "ExecuteTime": {
     "end_time": "2024-01-09T15:09:07.421845300Z",
     "start_time": "2024-01-09T15:09:07.279940400Z"
    }
   },
   "id": "c726cf5a8667ca10",
   "execution_count": 42
  }
 ],
 "metadata": {
  "kernelspec": {
   "display_name": "Python 3",
   "language": "python",
   "name": "python3"
  },
  "language_info": {
   "codemirror_mode": {
    "name": "ipython",
    "version": 2
   },
   "file_extension": ".py",
   "mimetype": "text/x-python",
   "name": "python",
   "nbconvert_exporter": "python",
   "pygments_lexer": "ipython2",
   "version": "2.7.6"
  }
 },
 "nbformat": 4,
 "nbformat_minor": 5
}
