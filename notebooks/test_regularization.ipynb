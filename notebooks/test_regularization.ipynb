{
 "cells": [
  {
   "cell_type": "code",
   "outputs": [],
   "source": [
    "import pandas as pd\n",
    "\n",
    "from ExperientalTools import prepare_dataset\n",
    "from ExperientalTools import test_over_regularization\n",
    "%reload_ext autoreload\n",
    "%autoreload 2"
   ],
   "metadata": {
    "collapsed": false,
    "ExecuteTime": {
     "end_time": "2024-02-05T10:26:57.802950100Z",
     "start_time": "2024-02-05T10:26:57.457391500Z"
    }
   },
   "id": "f1ce69d9f913bb37",
   "execution_count": 22
  },
  {
   "cell_type": "markdown",
   "source": [
    "## Disclaimer\n",
    "### The results may be different respect to the reports because at each execution there is a stochastic component"
   ],
   "metadata": {
    "collapsed": false
   },
   "id": "c705358cd753cc82"
  },
  {
   "cell_type": "markdown",
   "source": [
    "## Phase 1 - Get the dataset"
   ],
   "metadata": {
    "collapsed": false
   },
   "id": "7155e277a14e333b"
  },
  {
   "cell_type": "code",
   "execution_count": 23,
   "id": "initial_id",
   "metadata": {
    "collapsed": true,
    "ExecuteTime": {
     "end_time": "2024-02-05T10:26:58.005901900Z",
     "start_time": "2024-02-05T10:26:57.808727700Z"
    }
   },
   "outputs": [],
   "source": [
    "(tr_x,tr_y) = prepare_dataset(train_path=\"../datasets/ML-CUP21-TR.csv\",unique=True)"
   ]
  },
  {
   "cell_type": "markdown",
   "source": [
    "## Phase 2 - Define constants"
   ],
   "metadata": {
    "collapsed": false
   },
   "id": "4e9c661eb1cef92a"
  },
  {
   "cell_type": "code",
   "outputs": [],
   "source": [
    "parameters = dict(\n",
    "    MAX_ITER = 40000,\n",
    "    PRECISION = 1e-3,\n",
    ")"
   ],
   "metadata": {
    "collapsed": false,
    "ExecuteTime": {
     "end_time": "2024-02-05T10:26:58.208815700Z",
     "start_time": "2024-02-05T10:26:58.008381600Z"
    }
   },
   "id": "c72a65c2f020a66b",
   "execution_count": 24
  },
  {
   "cell_type": "markdown",
   "source": [
    "## Phase 3 - Tests over the regularization"
   ],
   "metadata": {
    "collapsed": false
   },
   "id": "4d2d2334fce1657d"
  },
  {
   "cell_type": "code",
   "outputs": [
    {
     "name": "stdout",
     "output_type": "stream",
     "text": [
      "Converged in 37934 iterations. Norm grad: 0.0009994718356755132\n",
      "Converged in 8960 iterations. Norm grad: 0.0009989040549303586\n",
      "Converged in 6255 iterations. Norm grad: 0.0009975249146388294\n",
      "Converged in 2584 iterations. Norm grad: 0.0009993360143135317\n",
      "Converged in 2285 iterations. Norm grad: 0.0009884229562400466\n",
      "Converged in 732 iterations. Norm grad: 0.00099548739912113\n",
      "Converged in 725 iterations. Norm grad: 0.0009791592281977795\n",
      "Converged in 18571 iterations. Norm grad: 0.0009996852065753937\n",
      "Converged in 12202 iterations. Norm grad: 0.0009966574086909103\n",
      "Converged in 5225 iterations. Norm grad: 0.0009978718876358119\n",
      "Converged in 4422 iterations. Norm grad: 0.000999842219070873\n",
      "Converged in 1465 iterations. Norm grad: 0.000989387282619066\n",
      "Converged in 1407 iterations. Norm grad: 0.0009368777248985941\n",
      "Converged in 39144 iterations. Norm grad: 0.0009999660711178656\n",
      "Converged in 23965 iterations. Norm grad: 0.0009993197694550344\n",
      "Converged in 10936 iterations. Norm grad: 0.000998755884640782\n",
      "Converged in 8546 iterations. Norm grad: 0.0009925284062602122\n",
      "Converged in 3022 iterations. Norm grad: 0.0009990522587855243\n",
      "Converged in 2776 iterations. Norm grad: 0.0009524571167600028\n"
     ]
    }
   ],
   "source": [
    "results = test_over_regularization(tr_x,tr_y,parameters, regs=[0.1, 0.5, 1, 5, 10, 20], resevoir_=[50, 100, 200]).T"
   ],
   "metadata": {
    "collapsed": false,
    "ExecuteTime": {
     "end_time": "2024-02-05T10:37:01.490660500Z",
     "start_time": "2024-02-05T10:26:58.211260900Z"
    }
   },
   "id": "688748df76ccc153",
   "execution_count": 25
  },
  {
   "cell_type": "code",
   "outputs": [],
   "source": [
    "results.to_csv(\"../cache/grid.csv\",index=False)"
   ],
   "metadata": {
    "collapsed": false,
    "ExecuteTime": {
     "end_time": "2024-02-05T10:37:01.852624300Z",
     "start_time": "2024-02-05T10:37:01.506190100Z"
    }
   },
   "id": "deb9a88f439925d4",
   "execution_count": 26
  },
  {
   "cell_type": "markdown",
   "source": [
    "### Phase 4 - Processing results (just formatting the values, it's not so relevant)"
   ],
   "metadata": {
    "collapsed": false
   },
   "id": "a3f98002f60a94b3"
  },
  {
   "cell_type": "code",
   "outputs": [],
   "source": [
    "results = pd.read_csv(\"../cache/grid.csv\")"
   ],
   "metadata": {
    "collapsed": false,
    "ExecuteTime": {
     "end_time": "2024-02-05T10:37:02.052157700Z",
     "start_time": "2024-02-05T10:37:01.854914200Z"
    }
   },
   "id": "53f198f896320032",
   "execution_count": 27
  },
  {
   "cell_type": "code",
   "outputs": [],
   "source": [
    "df1 = results[[\"Size\", \"Lambda\", \"Conditional number\", \"Cholesky Gap_sol\", \"GD Gap_sol\", \"Fista Gap_sol\"]].copy()\n",
    "df2 = results[[\"Size\", \"Lambda\", \"GD Gap_pred\", \"Fista Gap_pred\", \"GD MSE\", \"Fista MSE\"]].copy()"
   ],
   "metadata": {
    "collapsed": false,
    "ExecuteTime": {
     "end_time": "2024-02-05T10:37:02.239175100Z",
     "start_time": "2024-02-05T10:37:02.059104300Z"
    }
   },
   "id": "c76769dbbac3301c",
   "execution_count": 28
  },
  {
   "cell_type": "code",
   "outputs": [],
   "source": [
    "df1[['Conditional number', 'Cholesky Gap_sol', 'GD Gap_sol', 'Fista Gap_sol']] = df1[['Conditional number', 'Cholesky Gap_sol', 'GD Gap_sol', 'Fista Gap_sol']].apply(lambda x: [\"{:.5e}\".format(i) for i in x])"
   ],
   "metadata": {
    "collapsed": false,
    "ExecuteTime": {
     "end_time": "2024-02-05T10:37:02.441288500Z",
     "start_time": "2024-02-05T10:37:02.242649Z"
    }
   },
   "id": "75c3ea63533b02e1",
   "execution_count": 29
  },
  {
   "cell_type": "code",
   "outputs": [],
   "source": [
    "df2[['GD Gap_pred', 'Fista Gap_pred']] = df2[['GD Gap_pred', 'Fista Gap_pred']].apply(lambda x: [\"{:.5e}\".format(i) for i in x])\n",
    "df2['GD MSE'] = df2['GD MSE'].round(5)\n",
    "df2['Fista MSE'] = df2['Fista MSE'].round(5)"
   ],
   "metadata": {
    "collapsed": false,
    "ExecuteTime": {
     "end_time": "2024-02-05T10:37:02.642823800Z",
     "start_time": "2024-02-05T10:37:02.444766Z"
    }
   },
   "id": "14fda47e7f5d7407",
   "execution_count": 30
  },
  {
   "cell_type": "code",
   "outputs": [],
   "source": [
    "df1.to_csv(\"../cache/grid_edited1.csv\",index=False)\n",
    "df2.to_csv(\"../cache/grid_edited2.csv\",index=False)       "
   ],
   "metadata": {
    "collapsed": false,
    "ExecuteTime": {
     "end_time": "2024-02-05T10:37:02.859108300Z",
     "start_time": "2024-02-05T10:37:02.647373800Z"
    }
   },
   "id": "7c57969b744b9ff5",
   "execution_count": 31
  }
 ],
 "metadata": {
  "kernelspec": {
   "display_name": "Python 3",
   "language": "python",
   "name": "python3"
  },
  "language_info": {
   "codemirror_mode": {
    "name": "ipython",
    "version": 2
   },
   "file_extension": ".py",
   "mimetype": "text/x-python",
   "name": "python",
   "nbconvert_exporter": "python",
   "pygments_lexer": "ipython2",
   "version": "2.7.6"
  }
 },
 "nbformat": 4,
 "nbformat_minor": 5
}
