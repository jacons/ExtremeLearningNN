{
 "cells": [
  {
   "cell_type": "code",
   "outputs": [],
   "source": [
    "import pandas as pd\n",
    "\n",
    "from ExperientalTools import prepare_dataset\n",
    "from ExperientalTools import test_over_regularization\n",
    "%reload_ext autoreload\n",
    "%autoreload 2"
   ],
   "metadata": {
    "collapsed": false,
    "ExecuteTime": {
     "end_time": "2024-01-16T16:02:57.248556500Z",
     "start_time": "2024-01-16T16:02:57.016605400Z"
    }
   },
   "id": "f1ce69d9f913bb37",
   "execution_count": 32
  },
  {
   "cell_type": "markdown",
   "source": [
    "## get the dataset"
   ],
   "metadata": {
    "collapsed": false
   },
   "id": "7155e277a14e333b"
  },
  {
   "cell_type": "code",
   "execution_count": 33,
   "id": "initial_id",
   "metadata": {
    "collapsed": true,
    "ExecuteTime": {
     "end_time": "2024-01-16T16:02:57.486572900Z",
     "start_time": "2024-01-16T16:02:57.227233900Z"
    }
   },
   "outputs": [],
   "source": [
    "(tr_x,tr_y) = prepare_dataset(train_path=\"datasets/ML-CUP21-TR.csv\",unique=True)"
   ]
  },
  {
   "cell_type": "code",
   "outputs": [],
   "source": [
    "parameters = dict(\n",
    "    MAX_ITER = 40000,\n",
    "    PRECISION = 1e-3,\n",
    ")"
   ],
   "metadata": {
    "collapsed": false,
    "ExecuteTime": {
     "end_time": "2024-01-16T16:02:57.679435300Z",
     "start_time": "2024-01-16T16:02:57.488881200Z"
    }
   },
   "id": "c72a65c2f020a66b",
   "execution_count": 34
  },
  {
   "cell_type": "code",
   "outputs": [
    {
     "name": "stdout",
     "output_type": "stream",
     "text": [
      "Converged in 9657 iterations. Norm grad: 0.0009998731711174998\n",
      "Converged in 6568 iterations. Norm grad: 0.0009951362725873637\n",
      "Converged in 2759 iterations. Norm grad: 0.0009972799652520478\n",
      "Converged in 2450 iterations. Norm grad: 0.0009824882660823867\n",
      "Converged in 783 iterations. Norm grad: 0.000997943175554018\n",
      "Converged in 771 iterations. Norm grad: 0.0008749193981573052\n",
      "Converged in 18359 iterations. Norm grad: 0.0009995424912845007\n",
      "Converged in 11921 iterations. Norm grad: 0.0009980504233120127\n",
      "Converged in 5196 iterations. Norm grad: 0.0009993548460419987\n",
      "Converged in 4169 iterations. Norm grad: 0.000985498603333496\n",
      "Converged in 1453 iterations. Norm grad: 0.0009945436783386336\n",
      "Converged in 1402 iterations. Norm grad: 0.0008987014163432261\n",
      "Converged in 38321 iterations. Norm grad: 0.0009997089953403238\n",
      "Converged in 23372 iterations. Norm grad: 0.000999153048669245\n",
      "Converged in 10692 iterations. Norm grad: 0.0009994883325885398\n",
      "Converged in 8458 iterations. Norm grad: 0.0009905932085378503\n",
      "Converged in 2963 iterations. Norm grad: 0.0009966272891143314\n",
      "Converged in 2790 iterations. Norm grad: 0.0009326971294670807\n"
     ]
    }
   ],
   "source": [
    "results = test_over_regularization(tr_x,tr_y,parameters,regs=[0.1, 0.5, 1, 5, 10, 20], resevoir_=[50, 100, 200]).T"
   ],
   "metadata": {
    "collapsed": false,
    "ExecuteTime": {
     "end_time": "2024-01-16T16:12:06.520691700Z",
     "start_time": "2024-01-16T16:02:57.680426900Z"
    }
   },
   "id": "688748df76ccc153",
   "execution_count": 35
  },
  {
   "cell_type": "code",
   "outputs": [],
   "source": [
    "results.to_csv(\"grid.csv\",index=False)"
   ],
   "metadata": {
    "collapsed": false,
    "ExecuteTime": {
     "end_time": "2024-01-16T16:12:06.722053Z",
     "start_time": "2024-01-16T16:12:06.524143700Z"
    }
   },
   "id": "deb9a88f439925d4",
   "execution_count": 36
  },
  {
   "cell_type": "code",
   "outputs": [],
   "source": [
    "results = pd.read_csv(\"grid.csv\")"
   ],
   "metadata": {
    "collapsed": false,
    "ExecuteTime": {
     "end_time": "2024-01-16T17:02:57.660589700Z",
     "start_time": "2024-01-16T17:02:57.452374600Z"
    }
   },
   "id": "53f198f896320032",
   "execution_count": 72
  },
  {
   "cell_type": "code",
   "outputs": [
    {
     "data": {
      "text/plain": "Index(['Size', 'Lambda', 'Conditional number', 'Optimal MSE', 'Optimal Time',\n       'Cholesky MSE', 'Cholesky Time', 'Cholesky Gap_sol', 'SGD MSE',\n       'SGD Time', 'SGD Iterations', 'SGD Gap_sol', 'SGD Gap_pred',\n       'Fista MSE', 'Fista Time', 'Fista Iterations', 'Fista Gap_sol',\n       'Fista Gap_pred'],\n      dtype='object')"
     },
     "execution_count": 63,
     "metadata": {},
     "output_type": "execute_result"
    }
   ],
   "source": [
    "results.columns"
   ],
   "metadata": {
    "collapsed": false,
    "ExecuteTime": {
     "end_time": "2024-01-16T16:50:56.267571300Z",
     "start_time": "2024-01-16T16:50:56.044875200Z"
    }
   },
   "id": "1b56237032ba3eee",
   "execution_count": 63
  },
  {
   "cell_type": "code",
   "outputs": [],
   "source": [
    "df1 = results[[\"Size\", \"Lambda\", \"Conditional number\", \"Cholesky Gap_sol\", \"SGD Gap_sol\", \"Fista Gap_sol\"]].copy()\n",
    "df2 = results[[\"Size\", \"Lambda\", \"SGD Gap_pred\", \"Fista Gap_pred\", \"SGD MSE\", \"Fista MSE\"]].copy()"
   ],
   "metadata": {
    "collapsed": false,
    "ExecuteTime": {
     "end_time": "2024-01-16T17:02:59.907307300Z",
     "start_time": "2024-01-16T17:02:59.709149700Z"
    }
   },
   "id": "c76769dbbac3301c",
   "execution_count": 73
  },
  {
   "cell_type": "code",
   "outputs": [],
   "source": [
    "df1[['Conditional number', 'Cholesky Gap_sol', 'SGD Gap_sol', 'Fista Gap_sol']] = df1[['Conditional number', 'Cholesky Gap_sol', 'SGD Gap_sol', 'Fista Gap_sol']].apply(lambda x: [\"{:.5e}\".format(i) for i in x])"
   ],
   "metadata": {
    "collapsed": false,
    "ExecuteTime": {
     "end_time": "2024-01-16T17:03:00.757923700Z",
     "start_time": "2024-01-16T17:03:00.532341200Z"
    }
   },
   "id": "75c3ea63533b02e1",
   "execution_count": 74
  },
  {
   "cell_type": "code",
   "outputs": [],
   "source": [
    "df2[['SGD Gap_pred', 'Fista Gap_pred']] = df2[['SGD Gap_pred', 'Fista Gap_pred']].apply(lambda x: [\"{:.5e}\".format(i) for i in x])\n",
    "df2['SGD MSE'] = df2['SGD MSE'].round(5)\n",
    "df2['Fista MSE'] = df2['Fista MSE'].round(5)"
   ],
   "metadata": {
    "collapsed": false,
    "ExecuteTime": {
     "end_time": "2024-01-16T17:03:01.840162800Z",
     "start_time": "2024-01-16T17:03:01.631795700Z"
    }
   },
   "id": "14fda47e7f5d7407",
   "execution_count": 75
  },
  {
   "cell_type": "code",
   "outputs": [],
   "source": [
    "df1.to_csv(\"grid_edited1.csv\",index=False)\n",
    "df2.to_csv(\"grid_edited2.csv\",index=False)       "
   ],
   "metadata": {
    "collapsed": false,
    "ExecuteTime": {
     "end_time": "2024-01-16T17:03:03.759589500Z",
     "start_time": "2024-01-16T17:03:03.547494800Z"
    }
   },
   "id": "7c57969b744b9ff5",
   "execution_count": 76
  }
 ],
 "metadata": {
  "kernelspec": {
   "display_name": "Python 3",
   "language": "python",
   "name": "python3"
  },
  "language_info": {
   "codemirror_mode": {
    "name": "ipython",
    "version": 2
   },
   "file_extension": ".py",
   "mimetype": "text/x-python",
   "name": "python",
   "nbconvert_exporter": "python",
   "pygments_lexer": "ipython2",
   "version": "2.7.6"
  }
 },
 "nbformat": 4,
 "nbformat_minor": 5
}
