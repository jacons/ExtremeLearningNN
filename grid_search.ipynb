{
 "cells": [
  {
   "cell_type": "code",
   "execution_count": null,
   "id": "initial_id",
   "metadata": {
    "collapsed": true
   },
   "outputs": [],
   "source": [
    "from Utils import *\n",
    "from ExperientalTools import *\n",
    "\n",
    "%reload_ext autoreload\n",
    "%autoreload 2"
   ]
  },
  {
   "cell_type": "markdown",
   "source": [
    "## get the dataset"
   ],
   "metadata": {
    "collapsed": false
   },
   "id": "4f6d16377011a4eb"
  },
  {
   "cell_type": "code",
   "execution_count": null,
   "outputs": [],
   "source": [
    "(tr_x,tr_y), (vl_x,vl_y), (ts_x,ts_y) = prepare_dataset(train_path=\"datasets/ML-CUP21-TR.csv\")"
   ],
   "metadata": {
    "collapsed": false
   },
   "id": "8999d6bb57ad46b1"
  },
  {
   "cell_type": "markdown",
   "source": [],
   "metadata": {
    "collapsed": false
   },
   "id": "5fdfa4cbe0c4ad18"
  },
  {
   "cell_type": "markdown",
   "source": [
    "# GRIDSEARCH CHOLESKY"
   ],
   "metadata": {
    "collapsed": false
   },
   "id": "1c936de9a550c87d"
  },
  {
   "cell_type": "code",
   "execution_count": null,
   "outputs": [],
   "source": [
    "parameter_cholesky = dict(\n",
    "    hidden=[*range(10,500,10)],\n",
    "    lambda_ =  [0.001,0.0005],\n",
    "    activation = [\"sig\", \"relu\", \"tanH\"]\n",
    ")"
   ],
   "metadata": {
    "collapsed": false
   },
   "id": "6d1c13ce2ea9f6d0"
  },
  {
   "cell_type": "code",
   "execution_count": null,
   "outputs": [],
   "source": [
    "grid_search_cholesky(configs=parameter_cholesky, train=(tr_x,tr_y), valid=(vl_x,vl_y))"
   ],
   "metadata": {
    "collapsed": false
   },
   "id": "af939c3abba2c10e"
  },
  {
   "cell_type": "markdown",
   "source": [
    "# GRIDSEARCH FISTA"
   ],
   "metadata": {
    "collapsed": false
   },
   "id": "984dec71b808c391"
  },
  {
   "cell_type": "code",
   "execution_count": null,
   "outputs": [],
   "source": [
    "parameter_fista = dict(\n",
    "    hidden=[*range(10,500,15)],\n",
    "    lambda_ =  [0.0005],\n",
    "    activation = [\"sig\"],\n",
    "    max_inters=[1000, 5000],\n",
    "    eps=[0]\n",
    ")"
   ],
   "metadata": {
    "collapsed": false
   },
   "id": "cfbf285ece6849bb"
  },
  {
   "cell_type": "code",
   "execution_count": null,
   "outputs": [],
   "source": [
    "# grid_search_iterative(configs=parameter_fista, train=(tr_x,tr_y), valid=(vl_x,vl_y), optimizer=\"FISTA\")"
   ],
   "metadata": {
    "collapsed": false
   },
   "id": "baf6e8e8686937ce"
  },
  {
   "cell_type": "markdown",
   "source": [
    "# GRIDSEARCH SDG"
   ],
   "metadata": {
    "collapsed": false
   },
   "id": "46fce4cd9b0de2c0"
  },
  {
   "cell_type": "code",
   "execution_count": null,
   "outputs": [],
   "source": [
    "parameter_sgd = dict(\n",
    "    hidden=[*range(10,500,15)],\n",
    "    lambda_ =  [0.0005],\n",
    "    activation = [sigmoid],\n",
    "    max_inters=[1000],\n",
    "    eps=[0],\n",
    "    lr=[0],\n",
    "    beta=[0]\n",
    ")"
   ],
   "metadata": {
    "collapsed": false
   },
   "id": "fa6b933f11229836"
  },
  {
   "cell_type": "code",
   "execution_count": null,
   "outputs": [],
   "source": [
    "# grid_search_iterative(configs=parameter_sgd, train=(tr_x,tr_y), valid=(vl_x,vl_y), optimizer=\"SGD\")"
   ],
   "metadata": {
    "collapsed": false
   },
   "id": "f559fed44bf2bc5f"
  },
  {
   "cell_type": "markdown",
   "source": [
    "# GRIDSEARCH SGD with CLASSICAL MOMENTUM"
   ],
   "metadata": {
    "collapsed": false
   },
   "id": "a4c75f2069054c9b"
  },
  {
   "cell_type": "code",
   "execution_count": null,
   "outputs": [],
   "source": [
    "parameter_sgd = dict(\n",
    "    hidden=[*range(10,500,15)],\n",
    "    lambda_ =  [0.0005],\n",
    "    activation = [sigmoid],\n",
    "    max_inters=[1000],\n",
    "    eps=[0],\n",
    "    lr=[0],\n",
    "    beta=[0.99]\n",
    ")"
   ],
   "metadata": {
    "collapsed": false
   },
   "id": "d3d0bee64415c551"
  },
  {
   "cell_type": "code",
   "execution_count": null,
   "outputs": [],
   "source": [
    "# grid_search_iterative(configs=parameter_sgd, train=(tr_x,tr_y), valid=(vl_x,vl_y), optimizer=\"SGD\")"
   ],
   "metadata": {
    "collapsed": false
   },
   "id": "6b8bb4392563b749"
  }
 ],
 "metadata": {
  "kernelspec": {
   "display_name": "Python 3",
   "language": "python",
   "name": "python3"
  },
  "language_info": {
   "codemirror_mode": {
    "name": "ipython",
    "version": 2
   },
   "file_extension": ".py",
   "mimetype": "text/x-python",
   "name": "python",
   "nbconvert_exporter": "python",
   "pygments_lexer": "ipython2",
   "version": "2.7.6"
  }
 },
 "nbformat": 4,
 "nbformat_minor": 5
}
