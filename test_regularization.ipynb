{
 "cells": [
  {
   "cell_type": "code",
   "outputs": [],
   "source": [
    "import pandas as pd\n",
    "\n",
    "from ExperientalTools import prepare_dataset\n",
    "from ExperientalTools import test_over_regularization\n",
    "%reload_ext autoreload\n",
    "%autoreload 2"
   ],
   "metadata": {
    "collapsed": false,
    "ExecuteTime": {
     "end_time": "2024-01-16T14:49:16.565508600Z",
     "start_time": "2024-01-16T14:49:16.166914100Z"
    }
   },
   "id": "f1ce69d9f913bb37",
   "execution_count": 1
  },
  {
   "cell_type": "markdown",
   "source": [
    "## get the dataset"
   ],
   "metadata": {
    "collapsed": false
   },
   "id": "7155e277a14e333b"
  },
  {
   "cell_type": "code",
   "execution_count": 2,
   "id": "initial_id",
   "metadata": {
    "collapsed": true,
    "ExecuteTime": {
     "end_time": "2024-01-16T14:49:16.640108Z",
     "start_time": "2024-01-16T14:49:16.566618400Z"
    }
   },
   "outputs": [],
   "source": [
    "(tr_x,tr_y) = prepare_dataset(train_path=\"datasets/ML-CUP21-TR.csv\",unique=True)"
   ]
  },
  {
   "cell_type": "code",
   "outputs": [],
   "source": [
    "parameters = dict(\n",
    "    MAX_ITER = 40000,\n",
    "    PRECISION = 1e-3,\n",
    ")"
   ],
   "metadata": {
    "collapsed": false,
    "ExecuteTime": {
     "end_time": "2024-01-16T14:49:16.724776600Z",
     "start_time": "2024-01-16T14:49:16.644492400Z"
    }
   },
   "id": "c72a65c2f020a66b",
   "execution_count": 3
  },
  {
   "cell_type": "code",
   "outputs": [
    {
     "name": "stdout",
     "output_type": "stream",
     "text": [
      "Converged in 36731 iterations. Norm grad: 0.0009986990342078813\n",
      "Converged in 9382 iterations. Norm grad: 0.000999577443287616\n",
      "Converged in 6570 iterations. Norm grad: 0.0009974530469913756\n",
      "Converged in 2688 iterations. Norm grad: 0.0009994133276416115\n",
      "Converged in 2297 iterations. Norm grad: 0.0009641005553066893\n",
      "Converged in 768 iterations. Norm grad: 0.0009906654048257183\n",
      "Converged in 785 iterations. Norm grad: 0.0008709780538753136\n",
      "Converged in 18613 iterations. Norm grad: 0.0009996018739219094\n",
      "Converged in 12333 iterations. Norm grad: 0.0009981520186944967\n",
      "Converged in 5244 iterations. Norm grad: 0.000998426861370678\n",
      "Converged in 4374 iterations. Norm grad: 0.0009881469053126862\n",
      "Converged in 1473 iterations. Norm grad: 0.0009928345367272678\n",
      "Converged in 1440 iterations. Norm grad: 0.0009663787641073606\n",
      "Converged in 39108 iterations. Norm grad: 0.0009998309485218211\n",
      "Converged in 23629 iterations. Norm grad: 0.0009987779732784582\n",
      "Converged in 10958 iterations. Norm grad: 0.0009997366965944646\n",
      "Converged in 8549 iterations. Norm grad: 0.0009839315186369235\n",
      "Converged in 3024 iterations. Norm grad: 0.0009973258895159894\n",
      "Converged in 2820 iterations. Norm grad: 0.0009489510026298643\n"
     ]
    }
   ],
   "source": [
    "results = test_over_regularization(tr_x,tr_y,parameters,regs=[0.1, 0.5, 1, 5, 10, 20], resevoir_=[50, 100, 200]).T"
   ],
   "metadata": {
    "collapsed": false,
    "ExecuteTime": {
     "end_time": "2024-01-16T14:59:20.125056200Z",
     "start_time": "2024-01-16T14:49:16.723631Z"
    }
   },
   "id": "688748df76ccc153",
   "execution_count": 4
  },
  {
   "cell_type": "code",
   "outputs": [],
   "source": [
    "results.to_csv(\"grid.csv\",index=False)"
   ],
   "metadata": {
    "collapsed": false,
    "ExecuteTime": {
     "end_time": "2024-01-16T15:15:33.145433900Z",
     "start_time": "2024-01-16T15:15:33.018103900Z"
    }
   },
   "id": "deb9a88f439925d4",
   "execution_count": 20
  },
  {
   "cell_type": "code",
   "outputs": [
    {
     "data": {
      "text/plain": "Index(['Size', 'Lambda', 'Conditional number', 'Optimal MSE', 'Optimal Time',\n       'Cholesky MSE', 'Cholesky Time', 'Cholesky Reg_gap_sol', 'C-SGD MSE',\n       'C-SGD Time', 'C-SGD Iterations', 'C-SGD Reg_gap_sol', 'Fista MSE',\n       'Fista Time', 'Fista Iterations', 'Fista Reg_gap_sol'],\n      dtype='object')"
     },
     "execution_count": 22,
     "metadata": {},
     "output_type": "execute_result"
    }
   ],
   "source": [
    "results.columns"
   ],
   "metadata": {
    "collapsed": false,
    "ExecuteTime": {
     "end_time": "2024-01-16T15:15:59.100355500Z",
     "start_time": "2024-01-16T15:15:59.012894800Z"
    }
   },
   "id": "1b56237032ba3eee",
   "execution_count": 22
  },
  {
   "cell_type": "markdown",
   "source": [
    "# A lot iterations"
   ],
   "metadata": {
    "collapsed": false
   },
   "id": "8ebb6e6b1cce6fbc"
  },
  {
   "cell_type": "code",
   "outputs": [],
   "source": [
    "# df = pd.DataFrame(results)"
   ],
   "metadata": {
    "collapsed": false,
    "ExecuteTime": {
     "end_time": "2024-01-16T14:59:20.379849900Z",
     "start_time": "2024-01-16T14:59:20.295926500Z"
    }
   },
   "id": "40375ca5bb62ae55",
   "execution_count": 6
  },
  {
   "cell_type": "code",
   "outputs": [],
   "source": [
    "# df['Optimal MSE'] = df['Optimal MSE'].round(3)\n",
    "# df['Cholesky MSE'] = df['Cholesky MSE'].round(3)\n",
    "# df['C-SGD MSE'] = df['C-SGD MSE'].round(3)\n",
    "# df['Fista MSE'] = df['Fista MSE'].round(3)\n",
    "# \n",
    "# df[['Conditional number', 'Cholesky Reg_gap_sol', 'C-SGD Reg_gap_sol', 'Fista Reg_gap_sol']] = df[['Conditional number', 'Cholesky Reg_gap_sol', 'C-SGD Reg_gap_sol', 'Fista Reg_gap_sol']].apply(lambda x: [\"{:.3e}\".format(i) for i in x])"
   ],
   "metadata": {
    "collapsed": false,
    "ExecuteTime": {
     "end_time": "2024-01-16T14:59:20.643480300Z",
     "start_time": "2024-01-16T14:59:20.374255900Z"
    }
   },
   "id": "30dc9f4fe74a360e",
   "execution_count": 7
  },
  {
   "cell_type": "code",
   "outputs": [],
   "source": [
    "# df"
   ],
   "metadata": {
    "collapsed": false,
    "ExecuteTime": {
     "end_time": "2024-01-16T14:59:20.679062300Z",
     "start_time": "2024-01-16T14:59:20.448422400Z"
    }
   },
   "id": "95de59025d797f1c",
   "execution_count": 8
  },
  {
   "cell_type": "code",
   "outputs": [],
   "source": [],
   "metadata": {
    "collapsed": false,
    "ExecuteTime": {
     "end_time": "2024-01-16T14:59:20.881780300Z",
     "start_time": "2024-01-16T14:59:20.525220300Z"
    }
   },
   "id": "86041ecf61edd574",
   "execution_count": 9
  },
  {
   "cell_type": "code",
   "outputs": [],
   "source": [
    "# df.drop([\"Optimal Time\",\"C-SGD Time\", \"Fista Time\", \"Cholesky Time\", 'Optimal MSE', 'C-SGD MSE','Fista MSE', 'Cholesky MSE'],axis=1,inplace=True)"
   ],
   "metadata": {
    "collapsed": false,
    "ExecuteTime": {
     "end_time": "2024-01-16T14:59:21.145296800Z",
     "start_time": "2024-01-16T14:59:20.604131Z"
    }
   },
   "id": "e57445386a4418dd",
   "execution_count": 10
  },
  {
   "cell_type": "code",
   "outputs": [],
   "source": [
    "# table_ = pd.read_csv(\"file2.csv\")"
   ],
   "metadata": {
    "collapsed": false,
    "ExecuteTime": {
     "end_time": "2024-01-16T14:59:21.147301100Z",
     "start_time": "2024-01-16T14:59:20.681659800Z"
    }
   },
   "id": "671f372ed0f9b87f",
   "execution_count": 11
  },
  {
   "cell_type": "code",
   "outputs": [],
   "source": [
    "# table_['Cholesky MSE'] = table_['Cholesky MSE'].round(4)\n",
    "# table_['C-SGD MSE'] = table_['C-SGD MSE'].round(4)\n",
    "# table_['Fista MSE'] = table_['Fista MSE'].round(4)"
   ],
   "metadata": {
    "collapsed": false,
    "ExecuteTime": {
     "end_time": "2024-01-16T14:59:21.148514100Z",
     "start_time": "2024-01-16T14:59:20.761262Z"
    }
   },
   "id": "c28e5b2b64f6d775",
   "execution_count": 12
  },
  {
   "cell_type": "code",
   "outputs": [],
   "source": [
    "# table_[[\"Lambda\",\"Resevoir\",\"Cholesky MSE\",\"C-SGD MSE\",\"Fista MSE\"]].to_csv(\"file3.csv\",index=False)"
   ],
   "metadata": {
    "collapsed": false,
    "ExecuteTime": {
     "end_time": "2024-01-16T14:59:21.202849500Z",
     "start_time": "2024-01-16T14:59:20.836593300Z"
    }
   },
   "id": "d206f5148b8a5252",
   "execution_count": 13
  }
 ],
 "metadata": {
  "kernelspec": {
   "display_name": "Python 3",
   "language": "python",
   "name": "python3"
  },
  "language_info": {
   "codemirror_mode": {
    "name": "ipython",
    "version": 2
   },
   "file_extension": ".py",
   "mimetype": "text/x-python",
   "name": "python",
   "nbconvert_exporter": "python",
   "pygments_lexer": "ipython2",
   "version": "2.7.6"
  }
 },
 "nbformat": 4,
 "nbformat_minor": 5
}
