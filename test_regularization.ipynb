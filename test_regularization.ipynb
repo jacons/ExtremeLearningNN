{
 "cells": [
  {
   "cell_type": "code",
   "outputs": [],
   "source": [
    "from ExperientalTools import prepare_dataset\n",
    "from ExperientalTools import test_over_regularization\n"
   ],
   "metadata": {
    "collapsed": false,
    "ExecuteTime": {
     "end_time": "2024-01-09T08:53:45.298658700Z",
     "start_time": "2024-01-09T08:53:45.268381600Z"
    }
   },
   "id": "f1ce69d9f913bb37",
   "execution_count": 16
  },
  {
   "cell_type": "markdown",
   "source": [
    "## get the dataset"
   ],
   "metadata": {
    "collapsed": false
   },
   "id": "7155e277a14e333b"
  },
  {
   "cell_type": "code",
   "execution_count": 17,
   "id": "initial_id",
   "metadata": {
    "collapsed": true,
    "ExecuteTime": {
     "end_time": "2024-01-09T08:53:45.328395Z",
     "start_time": "2024-01-09T08:53:45.306738500Z"
    }
   },
   "outputs": [],
   "source": [
    "(tr_x,tr_y) = prepare_dataset(train_path=\"datasets/ML-CUP21-TR.csv\",unique=True)"
   ]
  },
  {
   "cell_type": "code",
   "outputs": [],
   "source": [
    "parameters = dict(\n",
    "    SIZE_RESERVOIR = 200,\n",
    "    MAX_ITER = 15000,\n",
    "    PRECISION = 1e-2,\n",
    ")"
   ],
   "metadata": {
    "collapsed": false,
    "ExecuteTime": {
     "end_time": "2024-01-09T08:53:45.359379500Z",
     "start_time": "2024-01-09T08:53:45.328395Z"
    }
   },
   "id": "c72a65c2f020a66b",
   "execution_count": 18
  },
  {
   "cell_type": "code",
   "outputs": [],
   "source": [
    "results = test_over_regularization(tr_x,tr_y,parameters,[0.1, 0.5, 1, 5, 10, 20])"
   ],
   "metadata": {
    "collapsed": false,
    "ExecuteTime": {
     "end_time": "2024-01-09T08:56:05.869104100Z",
     "start_time": "2024-01-09T08:53:45.345346Z"
    }
   },
   "id": "688748df76ccc153",
   "execution_count": 19
  },
  {
   "cell_type": "code",
   "outputs": [
    {
     "data": {
      "text/plain": "[{'Lambda': 0.1,\n  'Conditional number': 4548632.923546265,\n  'Optimal MSE': 1.3076148339427902,\n  'Cholesky MSE': 1.3076148339432736,\n  'Cholesky Time': 180981,\n  'Cholesky Reg_gap_sol': 1.1835397498783017e-10,\n  'C-SGD MSE': 1.7196796509168149,\n  'C-SGD Time': 97777,\n  'C-SGD Iterations': 15000,\n  'C-SGD Reg_gap_sol': 0.9508250550030708,\n  'Fista MSE': 1.3080735974546347,\n  'Fista Time': 679028,\n  'Fista Iterations': 15000,\n  'Fista Reg_gap_sol': 0.02805921270556057},\n {'Lambda': 0.5,\n  'Conditional number': 292700.75329849013,\n  'Optimal MSE': 1.4239782891776536,\n  'Cholesky MSE': 1.4239782891775563,\n  'Cholesky Time': 161285,\n  'Cholesky Reg_gap_sol': 2.6141561312856855e-11,\n  'C-SGD MSE': 1.7329449116712434,\n  'C-SGD Time': 723442,\n  'C-SGD Iterations': 15000,\n  'C-SGD Reg_gap_sol': 0.8303173178388471,\n  'Fista MSE': 1.4239419458442948,\n  'Fista Time': 77111,\n  'Fista Iterations': 15000,\n  'Fista Reg_gap_sol': 0.004053241518615632},\n {'Lambda': 1,\n  'Conditional number': 74594.91056355066,\n  'Optimal MSE': 1.5470248593558293,\n  'Cholesky MSE': 1.5470248593555171,\n  'Cholesky Time': 148470,\n  'Cholesky Reg_gap_sol': 8.546215626570286e-11,\n  'C-SGD MSE': 1.744356039566348,\n  'C-SGD Time': 697629,\n  'C-SGD Iterations': 15000,\n  'C-SGD Reg_gap_sol': 0.6761894339844311,\n  'Fista MSE': 1.5470714121905698,\n  'Fista Time': 704003,\n  'Fista Iterations': 15000,\n  'Fista Reg_gap_sol': 0.0016697928743211704},\n {'Lambda': 5,\n  'Conditional number': 3003.387080592439,\n  'Optimal MSE': 2.0123235423325134,\n  'Cholesky MSE': 2.0123235423325316,\n  'Cholesky Time': 150603,\n  'Cholesky Reg_gap_sol': 1.4362255988009063e-12,\n  'C-SGD MSE': 2.012547968297859,\n  'C-SGD Time': 575882,\n  'C-SGD Iterations': 15000,\n  'C-SGD Reg_gap_sol': 0.011500025582509347,\n  'Fista MSE': 2.0123230780502626,\n  'Fista Time': 482833,\n  'Fista Iterations': 15000,\n  'Fista Reg_gap_sol': 3.455532580904953e-05},\n {'Lambda': 10,\n  'Conditional number': 751.7432595788441,\n  'Optimal MSE': 2.1834721502099526,\n  'Cholesky MSE': 2.1834721502099517,\n  'Cholesky Time': 152936,\n  'Cholesky Reg_gap_sol': 6.651704064429442e-13,\n  'C-SGD MSE': 2.183472183716212,\n  'C-SGD Time': 873898,\n  'C-SGD Iterations': 9190,\n  'C-SGD Reg_gap_sol': 1.1141921693196709e-05,\n  'Fista MSE': 2.183472171974848,\n  'Fista Time': 996074,\n  'Fista Iterations': 9190,\n  'Fista Reg_gap_sol': 1.0844193804011976e-05},\n {'Lambda': 20,\n  'Conditional number': 188.69497271779238,\n  'Optimal MSE': 2.4275289749063194,\n  'Cholesky MSE': 2.42752897490631,\n  'Cholesky Time': 154657,\n  'Cholesky Reg_gap_sol': 1.2434596292308222e-13,\n  'C-SGD MSE': 2.427528969540375,\n  'C-SGD Time': 400235,\n  'C-SGD Iterations': 2585,\n  'C-SGD Reg_gap_sol': 3.066444177365545e-06,\n  'Fista MSE': 2.4275289427749644,\n  'Fista Time': 841898,\n  'Fista Iterations': 2585,\n  'Fista Reg_gap_sol': 2.8538585839895307e-06}]"
     },
     "execution_count": 20,
     "metadata": {},
     "output_type": "execute_result"
    }
   ],
   "source": [
    "results"
   ],
   "metadata": {
    "collapsed": false,
    "ExecuteTime": {
     "end_time": "2024-01-09T08:56:05.885325800Z",
     "start_time": "2024-01-09T08:56:05.871233700Z"
    }
   },
   "id": "1b56237032ba3eee",
   "execution_count": 20
  },
  {
   "cell_type": "code",
   "outputs": [],
   "source": [
    "results = test_over_regularization(tr_x,tr_y,parameters,[0])"
   ],
   "metadata": {
    "collapsed": false,
    "ExecuteTime": {
     "end_time": "2024-01-09T08:59:29.799965400Z",
     "start_time": "2024-01-09T08:58:59.182914800Z"
    }
   },
   "id": "efc5ea0c6fa99f57",
   "execution_count": 31
  },
  {
   "cell_type": "code",
   "outputs": [
    {
     "data": {
      "text/plain": "[{'Lambda': 0,\n  'Conditional number': 8664961.459730046,\n  'Optimal MSE': 1.3686124779706108,\n  'Cholesky MSE': 1.368612477970611,\n  'Cholesky Time': 171222,\n  'Cholesky Reg_gap_sol': 1.8436078449223725e-10,\n  'C-SGD MSE': 1.8032353742314866,\n  'C-SGD Time': 356364,\n  'C-SGD Iterations': 15000,\n  'C-SGD Reg_gap_sol': 0.9770486149913661,\n  'Fista MSE': 1.3688007259246846,\n  'Fista Time': 637323,\n  'Fista Iterations': 15000,\n  'Fista Reg_gap_sol': 0.05246008439438131}]"
     },
     "execution_count": 32,
     "metadata": {},
     "output_type": "execute_result"
    }
   ],
   "source": [
    "results"
   ],
   "metadata": {
    "collapsed": false,
    "ExecuteTime": {
     "end_time": "2024-01-09T08:59:29.828086800Z",
     "start_time": "2024-01-09T08:59:29.804475800Z"
    }
   },
   "id": "7d2b636162f6a3f",
   "execution_count": 32
  }
 ],
 "metadata": {
  "kernelspec": {
   "display_name": "Python 3",
   "language": "python",
   "name": "python3"
  },
  "language_info": {
   "codemirror_mode": {
    "name": "ipython",
    "version": 2
   },
   "file_extension": ".py",
   "mimetype": "text/x-python",
   "name": "python",
   "nbconvert_exporter": "python",
   "pygments_lexer": "ipython2",
   "version": "2.7.6"
  }
 },
 "nbformat": 4,
 "nbformat_minor": 5
}
