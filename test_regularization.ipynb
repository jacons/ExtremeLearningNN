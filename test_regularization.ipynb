{
 "cells": [
  {
   "cell_type": "code",
   "outputs": [],
   "source": [
    "import pandas as pd\n",
    "\n",
    "from ExperientalTools import prepare_dataset\n",
    "from ExperientalTools import test_over_regularization\n",
    "%reload_ext autoreload\n",
    "%autoreload 2"
   ],
   "metadata": {
    "collapsed": false,
    "ExecuteTime": {
     "end_time": "2024-01-16T14:49:16.565508600Z",
     "start_time": "2024-01-16T14:49:16.166914100Z"
    }
   },
   "id": "f1ce69d9f913bb37",
   "execution_count": 1
  },
  {
   "cell_type": "markdown",
   "source": [
    "## get the dataset"
   ],
   "metadata": {
    "collapsed": false
   },
   "id": "7155e277a14e333b"
  },
  {
   "cell_type": "code",
   "execution_count": 2,
   "id": "initial_id",
   "metadata": {
    "collapsed": true,
    "ExecuteTime": {
     "end_time": "2024-01-16T14:49:16.640108Z",
     "start_time": "2024-01-16T14:49:16.566618400Z"
    }
   },
   "outputs": [],
   "source": [
    "(tr_x,tr_y) = prepare_dataset(train_path=\"datasets/ML-CUP21-TR.csv\",unique=True)"
   ]
  },
  {
   "cell_type": "code",
   "outputs": [],
   "source": [
    "parameters = dict(\n",
    "    MAX_ITER = 40000,\n",
    "    PRECISION = 1e-3,\n",
    ")"
   ],
   "metadata": {
    "collapsed": false,
    "ExecuteTime": {
     "end_time": "2024-01-16T14:49:16.724776600Z",
     "start_time": "2024-01-16T14:49:16.644492400Z"
    }
   },
   "id": "c72a65c2f020a66b",
   "execution_count": 3
  },
  {
   "cell_type": "code",
   "outputs": [
    {
     "name": "stdout",
     "output_type": "stream",
     "text": [
      "Converged in 36731 iterations. Norm grad: 0.0009986990342078813\n",
      "Converged in 9382 iterations. Norm grad: 0.000999577443287616\n",
      "Converged in 6570 iterations. Norm grad: 0.0009974530469913756\n",
      "Converged in 2688 iterations. Norm grad: 0.0009994133276416115\n",
      "Converged in 2297 iterations. Norm grad: 0.0009641005553066893\n",
      "Converged in 768 iterations. Norm grad: 0.0009906654048257183\n",
      "Converged in 785 iterations. Norm grad: 0.0008709780538753136\n",
      "Converged in 18613 iterations. Norm grad: 0.0009996018739219094\n",
      "Converged in 12333 iterations. Norm grad: 0.0009981520186944967\n",
      "Converged in 5244 iterations. Norm grad: 0.000998426861370678\n",
      "Converged in 4374 iterations. Norm grad: 0.0009881469053126862\n",
      "Converged in 1473 iterations. Norm grad: 0.0009928345367272678\n",
      "Converged in 1440 iterations. Norm grad: 0.0009663787641073606\n",
      "Converged in 39108 iterations. Norm grad: 0.0009998309485218211\n",
      "Converged in 23629 iterations. Norm grad: 0.0009987779732784582\n",
      "Converged in 10958 iterations. Norm grad: 0.0009997366965944646\n",
      "Converged in 8549 iterations. Norm grad: 0.0009839315186369235\n",
      "Converged in 3024 iterations. Norm grad: 0.0009973258895159894\n",
      "Converged in 2820 iterations. Norm grad: 0.0009489510026298643\n"
     ]
    }
   ],
   "source": [
    "results = test_over_regularization(tr_x,tr_y,parameters,regs=[0.1, 0.5, 1, 5, 10, 20], resevoir_=[50, 100, 200]) "
   ],
   "metadata": {
    "collapsed": false,
    "ExecuteTime": {
     "end_time": "2024-01-16T14:59:20.125056200Z",
     "start_time": "2024-01-16T14:49:16.723631Z"
    }
   },
   "id": "688748df76ccc153",
   "execution_count": 4
  },
  {
   "cell_type": "code",
   "outputs": [
    {
     "data": {
      "text/plain": "                                                                     0   \\\nSize                                                                 50   \nLambda                                                              0.1   \nConditional number                                         161371.15687   \nOptimal MSE                                                    1.879239   \nOptimal Time                                                       1078   \nCholesky MSE                                                   1.879239   \nCholesky Time                                                     10427   \nCholesky Reg_gap_sol                                                0.0   \nC-SGD MSE                                                       1.90462   \nC-SGD Time                                                       919020   \nC-SGD Iterations                                                  40000   \nC-SGD Reg_gap_sol     iters\n0        1.021770\n1        1.020656\n2   ...   \nFista MSE                                                      1.879237   \nFista Time                                                       118328   \nFista Iterations                                                  40000   \nFista Reg_gap_sol     iters\n0        1.001273\n1        1.001273\n2   ...   \n\n                                                                     1   \\\nSize                                                                 50   \nLambda                                                              0.5   \nConditional number                                         54165.715137   \nOptimal MSE                                                    1.900967   \nOptimal Time                                                          0   \nCholesky MSE                                                   1.900967   \nCholesky Time                                                      9540   \nCholesky Reg_gap_sol                                                0.0   \nC-SGD MSE                                                        1.9176   \nC-SGD Time                                                       954397   \nC-SGD Iterations                                                  40000   \nC-SGD Reg_gap_sol     iters\n0        1.008532\n1        1.006527\n2   ...   \nFista MSE                                                      1.900969   \nFista Time                                                        67958   \nFista Iterations                                                  40000   \nFista Reg_gap_sol     iters\n0        0.962826\n1        0.962826\n2   ...   \n\n                                                                     2   \\\nSize                                                                 50   \nLambda                                                              1.0   \nConditional number                                          17609.36952   \nOptimal MSE                                                    1.966197   \nOptimal Time                                                       1056   \nCholesky MSE                                                   1.966197   \nCholesky Time                                                      9647   \nCholesky Reg_gap_sol                                                0.0   \nC-SGD MSE                                                      1.969365   \nC-SGD Time                                                       948694   \nC-SGD Iterations                                                  40000   \nC-SGD Reg_gap_sol     iters\n0        1.000893\n1        0.997611\n2   ...   \nFista MSE                                                      1.966195   \nFista Time                                                       702843   \nFista Iterations                                                  36731   \nFista Reg_gap_sol     iters\n0        1.017921\n1        1.017921\n2   ...   \n\n                                                                     3   \\\nSize                                                                 50   \nLambda                                                              5.0   \nConditional number                                           780.229926   \nOptimal MSE                                                    2.335972   \nOptimal Time                                                         30   \nCholesky MSE                                                   2.335972   \nCholesky Time                                                      9606   \nCholesky Reg_gap_sol                                                0.0   \nC-SGD MSE                                                      2.335972   \nC-SGD Time                                                       132360   \nC-SGD Iterations                                                   9382   \nC-SGD Reg_gap_sol     iters\n0       1.051368\n1       1.032117\n2     ...   \nFista MSE                                                      2.335972   \nFista Time                                                       858066   \nFista Iterations                                                   6570   \nFista Reg_gap_sol     iters\n0       0.964401\n1       0.964401\n2     ...   \n\n                                                                     4   \\\nSize                                                                 50   \nLambda                                                             10.0   \nConditional number                                           196.456976   \nOptimal MSE                                                    2.601941   \nOptimal Time                                                       1008   \nCholesky MSE                                                   2.601941   \nCholesky Time                                                      9911   \nCholesky Reg_gap_sol                                                0.0   \nC-SGD MSE                                                      2.601941   \nC-SGD Time                                                       332278   \nC-SGD Iterations                                                   2688   \nC-SGD Reg_gap_sol     iters\n0       9.602881e-01\n1       9.345220e-0...   \nFista MSE                                                      2.601941   \nFista Time                                                       313193   \nFista Iterations                                                   2297   \nFista Reg_gap_sol     iters\n0       9.857526e-01\n1       9.857526e-0...   \n\n                                                                     5   \\\nSize                                                                 50   \nLambda                                                             20.0   \nConditional number                                            49.905007   \nOptimal MSE                                                    3.271008   \nOptimal Time                                                          0   \nCholesky MSE                                                   3.271008   \nCholesky Time                                                      9857   \nCholesky Reg_gap_sol                                                0.0   \nC-SGD MSE                                                      3.271008   \nC-SGD Time                                                       103768   \nC-SGD Iterations                                                    768   \nC-SGD Reg_gap_sol     iters\n0      9.557839e-01\n1      9.234311e-01\n...   \nFista MSE                                                      3.271008   \nFista Time                                                        96166   \nFista Iterations                                                    785   \nFista Reg_gap_sol     iters\n0      9.652097e-01\n1      9.652097e-01\n...   \n\n                                                                     6   \\\nSize                                                                100   \nLambda                                                              0.1   \nConditional number                                        629630.165488   \nOptimal MSE                                                    1.603459   \nOptimal Time                                                       2107   \nCholesky MSE                                                   1.603459   \nCholesky Time                                                     41578   \nCholesky Reg_gap_sol                                                0.0   \nC-SGD MSE                                                      1.727284   \nC-SGD Time                                                       860873   \nC-SGD Iterations                                                  40000   \nC-SGD Reg_gap_sol     iters\n0        1.009951\n1        1.009695\n2   ...   \nFista MSE                                                      1.603461   \nFista Time                                                       282707   \nFista Iterations                                                  40000   \nFista Reg_gap_sol     iters\n0        1.020281\n1        1.020281\n2   ...   \n\n                                                                     7   \\\nSize                                                                100   \nLambda                                                              0.5   \nConditional number                                        124244.465522   \nOptimal MSE                                                    1.662132   \nOptimal Time                                                       1067   \nCholesky MSE                                                   1.662132   \nCholesky Time                                                     38360   \nCholesky Reg_gap_sol                                                0.0   \nC-SGD MSE                                                      1.743751   \nC-SGD Time                                                       940795   \nC-SGD Iterations                                                  40000   \nC-SGD Reg_gap_sol     iters\n0        1.031542\n1        1.030151\n2   ...   \nFista MSE                                                      1.662134   \nFista Time                                                       141198   \nFista Iterations                                                  40000   \nFista Reg_gap_sol     iters\n0        1.023687\n1        1.023687\n2   ...   \n\n                                                                     8   \\\nSize                                                                100   \nLambda                                                              1.0   \nConditional number                                         35414.646243   \nOptimal MSE                                                    1.767717   \nOptimal Time                                                       1043   \nCholesky MSE                                                   1.767717   \nCholesky Time                                                     42291   \nCholesky Reg_gap_sol                                                0.0   \nC-SGD MSE                                                      1.792055   \nC-SGD Time                                                        38302   \nC-SGD Iterations                                                  40000   \nC-SGD Reg_gap_sol     iters\n0        1.082393\n1        1.079783\n2   ...   \nFista MSE                                                      1.767717   \nFista Time                                                       475648   \nFista Iterations                                                  40000   \nFista Reg_gap_sol     iters\n0        1.029862\n1        1.029862\n2   ...   \n\n                                                                     9   \\\nSize                                                                100   \nLambda                                                              5.0   \nConditional number                                          1484.051629   \nOptimal MSE                                                     2.15877   \nOptimal Time                                                       1070   \nCholesky MSE                                                    2.15877   \nCholesky Time                                                     37886   \nCholesky Reg_gap_sol                                                0.0   \nC-SGD MSE                                                       2.15877   \nC-SGD Time                                                       674724   \nC-SGD Iterations                                                  18613   \nC-SGD Reg_gap_sol     iters\n0        1.464751\n1        1.448253\n2   ...   \nFista MSE                                                       2.15877   \nFista Time                                                       684803   \nFista Iterations                                                  12333   \nFista Reg_gap_sol     iters\n0        1.474533\n1        1.474533\n2   ...   \n\n                                                                     10  \\\nSize                                                                100   \nLambda                                                             10.0   \nConditional number                                           372.307677   \nOptimal MSE                                                     2.33428   \nOptimal Time                                                       2249   \nCholesky MSE                                                    2.33428   \nCholesky Time                                                     38698   \nCholesky Reg_gap_sol                                                0.0   \nC-SGD MSE                                                       2.33428   \nC-SGD Time                                                       620441   \nC-SGD Iterations                                                   5244   \nC-SGD Reg_gap_sol     iters\n0       1.590702e+00\n1       1.561291e+0...   \nFista MSE                                                       2.33428   \nFista Time                                                       373856   \nFista Iterations                                                   4374   \nFista Reg_gap_sol     iters\n0       1.556710e+00\n1       1.556710e+0...   \n\n                                                                     11  \\\nSize                                                                100   \nLambda                                                             20.0   \nConditional number                                             93.86103   \nOptimal MSE                                                    2.659041   \nOptimal Time                                                       1046   \nCholesky MSE                                                   2.659041   \nCholesky Time                                                     42401   \nCholesky Reg_gap_sol                                                0.0   \nC-SGD MSE                                                      2.659041   \nC-SGD Time                                                       480780   \nC-SGD Iterations                                                   1473   \nC-SGD Reg_gap_sol     iters\n0       1.693215e+00\n1       1.653725e+0...   \nFista MSE                                                      2.659041   \nFista Time                                                       499577   \nFista Iterations                                                   1440   \nFista Reg_gap_sol     iters\n0       1.637590e+00\n1       1.637590e+0...   \n\n                                                                     12  \\\nSize                                                                200   \nLambda                                                              0.1   \nConditional number                                       3905245.025173   \nOptimal MSE                                                    1.348578   \nOptimal Time                                                       5454   \nCholesky MSE                                                   1.348578   \nCholesky Time                                                    161471   \nCholesky Reg_gap_sol                                                0.0   \nC-SGD MSE                                                      1.610216   \nC-SGD Time                                                       227469   \nC-SGD Iterations                                                  40000   \nC-SGD Reg_gap_sol     iters\n0        1.007518\n1        1.007391\n2   ...   \nFista MSE                                                      1.348629   \nFista Time                                                       357283   \nFista Iterations                                                  40000   \nFista Reg_gap_sol     iters\n0        1.008214\n1        1.008214\n2   ...   \n\n                                                                     13  \\\nSize                                                                200   \nLambda                                                              0.5   \nConditional number                                        290254.676435   \nOptimal MSE                                                    1.460188   \nOptimal Time                                                       5329   \nCholesky MSE                                                   1.460188   \nCholesky Time                                                    159997   \nCholesky Reg_gap_sol                                                0.0   \nC-SGD MSE                                                      1.622445   \nC-SGD Time                                                       493241   \nC-SGD Iterations                                                  40000   \nC-SGD Reg_gap_sol     iters\n0        1.037997\n1        1.037535\n2   ...   \nFista MSE                                                      1.460206   \nFista Time                                                       355479   \nFista Iterations                                                  40000   \nFista Reg_gap_sol     iters\n0        1.063814\n1        1.063814\n2   ...   \n\n                                                                     14  \\\nSize                                                                200   \nLambda                                                              1.0   \nConditional number                                         74563.873941   \nOptimal MSE                                                    1.577798   \nOptimal Time                                                       5383   \nCholesky MSE                                                   1.577798   \nCholesky Time                                                    148678   \nCholesky Reg_gap_sol                                                0.0   \nC-SGD MSE                                                      1.657251   \nC-SGD Time                                                       333629   \nC-SGD Iterations                                                  40000   \nC-SGD Reg_gap_sol     iters\n0        1.179196\n1        1.177176\n2   ...   \nFista MSE                                                      1.577799   \nFista Time                                                       921383   \nFista Iterations                                                  40000   \nFista Reg_gap_sol     iters\n0        1.120488\n1        1.120488\n2   ...   \n\n                                                                     15  \\\nSize                                                                200   \nLambda                                                              5.0   \nConditional number                                          3010.047131   \nOptimal MSE                                                    2.036369   \nOptimal Time                                                       4184   \nCholesky MSE                                                   2.036369   \nCholesky Time                                                    156386   \nCholesky Reg_gap_sol                                                0.0   \nC-SGD MSE                                                      2.036369   \nC-SGD Time                                                       792757   \nC-SGD Iterations                                                  39108   \nC-SGD Reg_gap_sol     iters\n0        2.185177\n1        2.171332\n2   ...   \nFista MSE                                                      2.036369   \nFista Time                                                       695182   \nFista Iterations                                                  23629   \nFista Reg_gap_sol     iters\n0        2.232422\n1        2.232422\n2   ...   \n\n                                                                     16  \\\nSize                                                                200   \nLambda                                                             10.0   \nConditional number                                           753.470968   \nOptimal MSE                                                    2.220769   \nOptimal Time                                                       5830   \nCholesky MSE                                                   2.220769   \nCholesky Time                                                    171084   \nCholesky Reg_gap_sol                                                0.0   \nC-SGD MSE                                                      2.220769   \nC-SGD Time                                                        59635   \nC-SGD Iterations                                                  10958   \nC-SGD Reg_gap_sol     iters\n0        2.629906\n1        2.618599\n2   ...   \nFista MSE                                                      2.220769   \nFista Time                                                       796475   \nFista Iterations                                                   8549   \nFista Reg_gap_sol     iters\n0       2.556686\n1       2.556686\n2     ...   \n\n                                                                     17  \nSize                                                                200  \nLambda                                                             20.0  \nConditional number                                            189.13082  \nOptimal MSE                                                    2.463998  \nOptimal Time                                                       4450  \nCholesky MSE                                                   2.463998  \nCholesky Time                                                    153033  \nCholesky Reg_gap_sol                                                0.0  \nC-SGD MSE                                                      2.463998  \nC-SGD Time                                                       772511  \nC-SGD Iterations                                                   3024  \nC-SGD Reg_gap_sol     iters\n0       2.784694e+00\n1       2.750276e+0...  \nFista MSE                                                      2.463998  \nFista Time                                                       533774  \nFista Iterations                                                   2820  \nFista Reg_gap_sol     iters\n0       2.906959e+00\n1       2.906959e+0...  ",
      "text/html": "<div>\n<style scoped>\n    .dataframe tbody tr th:only-of-type {\n        vertical-align: middle;\n    }\n\n    .dataframe tbody tr th {\n        vertical-align: top;\n    }\n\n    .dataframe thead th {\n        text-align: right;\n    }\n</style>\n<table border=\"1\" class=\"dataframe\">\n  <thead>\n    <tr style=\"text-align: right;\">\n      <th></th>\n      <th>0</th>\n      <th>1</th>\n      <th>2</th>\n      <th>3</th>\n      <th>4</th>\n      <th>5</th>\n      <th>6</th>\n      <th>7</th>\n      <th>8</th>\n      <th>9</th>\n      <th>10</th>\n      <th>11</th>\n      <th>12</th>\n      <th>13</th>\n      <th>14</th>\n      <th>15</th>\n      <th>16</th>\n      <th>17</th>\n    </tr>\n  </thead>\n  <tbody>\n    <tr>\n      <th>Size</th>\n      <td>50</td>\n      <td>50</td>\n      <td>50</td>\n      <td>50</td>\n      <td>50</td>\n      <td>50</td>\n      <td>100</td>\n      <td>100</td>\n      <td>100</td>\n      <td>100</td>\n      <td>100</td>\n      <td>100</td>\n      <td>200</td>\n      <td>200</td>\n      <td>200</td>\n      <td>200</td>\n      <td>200</td>\n      <td>200</td>\n    </tr>\n    <tr>\n      <th>Lambda</th>\n      <td>0.1</td>\n      <td>0.5</td>\n      <td>1.0</td>\n      <td>5.0</td>\n      <td>10.0</td>\n      <td>20.0</td>\n      <td>0.1</td>\n      <td>0.5</td>\n      <td>1.0</td>\n      <td>5.0</td>\n      <td>10.0</td>\n      <td>20.0</td>\n      <td>0.1</td>\n      <td>0.5</td>\n      <td>1.0</td>\n      <td>5.0</td>\n      <td>10.0</td>\n      <td>20.0</td>\n    </tr>\n    <tr>\n      <th>Conditional number</th>\n      <td>161371.15687</td>\n      <td>54165.715137</td>\n      <td>17609.36952</td>\n      <td>780.229926</td>\n      <td>196.456976</td>\n      <td>49.905007</td>\n      <td>629630.165488</td>\n      <td>124244.465522</td>\n      <td>35414.646243</td>\n      <td>1484.051629</td>\n      <td>372.307677</td>\n      <td>93.86103</td>\n      <td>3905245.025173</td>\n      <td>290254.676435</td>\n      <td>74563.873941</td>\n      <td>3010.047131</td>\n      <td>753.470968</td>\n      <td>189.13082</td>\n    </tr>\n    <tr>\n      <th>Optimal MSE</th>\n      <td>1.879239</td>\n      <td>1.900967</td>\n      <td>1.966197</td>\n      <td>2.335972</td>\n      <td>2.601941</td>\n      <td>3.271008</td>\n      <td>1.603459</td>\n      <td>1.662132</td>\n      <td>1.767717</td>\n      <td>2.15877</td>\n      <td>2.33428</td>\n      <td>2.659041</td>\n      <td>1.348578</td>\n      <td>1.460188</td>\n      <td>1.577798</td>\n      <td>2.036369</td>\n      <td>2.220769</td>\n      <td>2.463998</td>\n    </tr>\n    <tr>\n      <th>Optimal Time</th>\n      <td>1078</td>\n      <td>0</td>\n      <td>1056</td>\n      <td>30</td>\n      <td>1008</td>\n      <td>0</td>\n      <td>2107</td>\n      <td>1067</td>\n      <td>1043</td>\n      <td>1070</td>\n      <td>2249</td>\n      <td>1046</td>\n      <td>5454</td>\n      <td>5329</td>\n      <td>5383</td>\n      <td>4184</td>\n      <td>5830</td>\n      <td>4450</td>\n    </tr>\n    <tr>\n      <th>Cholesky MSE</th>\n      <td>1.879239</td>\n      <td>1.900967</td>\n      <td>1.966197</td>\n      <td>2.335972</td>\n      <td>2.601941</td>\n      <td>3.271008</td>\n      <td>1.603459</td>\n      <td>1.662132</td>\n      <td>1.767717</td>\n      <td>2.15877</td>\n      <td>2.33428</td>\n      <td>2.659041</td>\n      <td>1.348578</td>\n      <td>1.460188</td>\n      <td>1.577798</td>\n      <td>2.036369</td>\n      <td>2.220769</td>\n      <td>2.463998</td>\n    </tr>\n    <tr>\n      <th>Cholesky Time</th>\n      <td>10427</td>\n      <td>9540</td>\n      <td>9647</td>\n      <td>9606</td>\n      <td>9911</td>\n      <td>9857</td>\n      <td>41578</td>\n      <td>38360</td>\n      <td>42291</td>\n      <td>37886</td>\n      <td>38698</td>\n      <td>42401</td>\n      <td>161471</td>\n      <td>159997</td>\n      <td>148678</td>\n      <td>156386</td>\n      <td>171084</td>\n      <td>153033</td>\n    </tr>\n    <tr>\n      <th>Cholesky Reg_gap_sol</th>\n      <td>0.0</td>\n      <td>0.0</td>\n      <td>0.0</td>\n      <td>0.0</td>\n      <td>0.0</td>\n      <td>0.0</td>\n      <td>0.0</td>\n      <td>0.0</td>\n      <td>0.0</td>\n      <td>0.0</td>\n      <td>0.0</td>\n      <td>0.0</td>\n      <td>0.0</td>\n      <td>0.0</td>\n      <td>0.0</td>\n      <td>0.0</td>\n      <td>0.0</td>\n      <td>0.0</td>\n    </tr>\n    <tr>\n      <th>C-SGD MSE</th>\n      <td>1.90462</td>\n      <td>1.9176</td>\n      <td>1.969365</td>\n      <td>2.335972</td>\n      <td>2.601941</td>\n      <td>3.271008</td>\n      <td>1.727284</td>\n      <td>1.743751</td>\n      <td>1.792055</td>\n      <td>2.15877</td>\n      <td>2.33428</td>\n      <td>2.659041</td>\n      <td>1.610216</td>\n      <td>1.622445</td>\n      <td>1.657251</td>\n      <td>2.036369</td>\n      <td>2.220769</td>\n      <td>2.463998</td>\n    </tr>\n    <tr>\n      <th>C-SGD Time</th>\n      <td>919020</td>\n      <td>954397</td>\n      <td>948694</td>\n      <td>132360</td>\n      <td>332278</td>\n      <td>103768</td>\n      <td>860873</td>\n      <td>940795</td>\n      <td>38302</td>\n      <td>674724</td>\n      <td>620441</td>\n      <td>480780</td>\n      <td>227469</td>\n      <td>493241</td>\n      <td>333629</td>\n      <td>792757</td>\n      <td>59635</td>\n      <td>772511</td>\n    </tr>\n    <tr>\n      <th>C-SGD Iterations</th>\n      <td>40000</td>\n      <td>40000</td>\n      <td>40000</td>\n      <td>9382</td>\n      <td>2688</td>\n      <td>768</td>\n      <td>40000</td>\n      <td>40000</td>\n      <td>40000</td>\n      <td>18613</td>\n      <td>5244</td>\n      <td>1473</td>\n      <td>40000</td>\n      <td>40000</td>\n      <td>40000</td>\n      <td>39108</td>\n      <td>10958</td>\n      <td>3024</td>\n    </tr>\n    <tr>\n      <th>C-SGD Reg_gap_sol</th>\n      <td>iters\n0        1.021770\n1        1.020656\n2   ...</td>\n      <td>iters\n0        1.008532\n1        1.006527\n2   ...</td>\n      <td>iters\n0        1.000893\n1        0.997611\n2   ...</td>\n      <td>iters\n0       1.051368\n1       1.032117\n2     ...</td>\n      <td>iters\n0       9.602881e-01\n1       9.345220e-0...</td>\n      <td>iters\n0      9.557839e-01\n1      9.234311e-01\n...</td>\n      <td>iters\n0        1.009951\n1        1.009695\n2   ...</td>\n      <td>iters\n0        1.031542\n1        1.030151\n2   ...</td>\n      <td>iters\n0        1.082393\n1        1.079783\n2   ...</td>\n      <td>iters\n0        1.464751\n1        1.448253\n2   ...</td>\n      <td>iters\n0       1.590702e+00\n1       1.561291e+0...</td>\n      <td>iters\n0       1.693215e+00\n1       1.653725e+0...</td>\n      <td>iters\n0        1.007518\n1        1.007391\n2   ...</td>\n      <td>iters\n0        1.037997\n1        1.037535\n2   ...</td>\n      <td>iters\n0        1.179196\n1        1.177176\n2   ...</td>\n      <td>iters\n0        2.185177\n1        2.171332\n2   ...</td>\n      <td>iters\n0        2.629906\n1        2.618599\n2   ...</td>\n      <td>iters\n0       2.784694e+00\n1       2.750276e+0...</td>\n    </tr>\n    <tr>\n      <th>Fista MSE</th>\n      <td>1.879237</td>\n      <td>1.900969</td>\n      <td>1.966195</td>\n      <td>2.335972</td>\n      <td>2.601941</td>\n      <td>3.271008</td>\n      <td>1.603461</td>\n      <td>1.662134</td>\n      <td>1.767717</td>\n      <td>2.15877</td>\n      <td>2.33428</td>\n      <td>2.659041</td>\n      <td>1.348629</td>\n      <td>1.460206</td>\n      <td>1.577799</td>\n      <td>2.036369</td>\n      <td>2.220769</td>\n      <td>2.463998</td>\n    </tr>\n    <tr>\n      <th>Fista Time</th>\n      <td>118328</td>\n      <td>67958</td>\n      <td>702843</td>\n      <td>858066</td>\n      <td>313193</td>\n      <td>96166</td>\n      <td>282707</td>\n      <td>141198</td>\n      <td>475648</td>\n      <td>684803</td>\n      <td>373856</td>\n      <td>499577</td>\n      <td>357283</td>\n      <td>355479</td>\n      <td>921383</td>\n      <td>695182</td>\n      <td>796475</td>\n      <td>533774</td>\n    </tr>\n    <tr>\n      <th>Fista Iterations</th>\n      <td>40000</td>\n      <td>40000</td>\n      <td>36731</td>\n      <td>6570</td>\n      <td>2297</td>\n      <td>785</td>\n      <td>40000</td>\n      <td>40000</td>\n      <td>40000</td>\n      <td>12333</td>\n      <td>4374</td>\n      <td>1440</td>\n      <td>40000</td>\n      <td>40000</td>\n      <td>40000</td>\n      <td>23629</td>\n      <td>8549</td>\n      <td>2820</td>\n    </tr>\n    <tr>\n      <th>Fista Reg_gap_sol</th>\n      <td>iters\n0        1.001273\n1        1.001273\n2   ...</td>\n      <td>iters\n0        0.962826\n1        0.962826\n2   ...</td>\n      <td>iters\n0        1.017921\n1        1.017921\n2   ...</td>\n      <td>iters\n0       0.964401\n1       0.964401\n2     ...</td>\n      <td>iters\n0       9.857526e-01\n1       9.857526e-0...</td>\n      <td>iters\n0      9.652097e-01\n1      9.652097e-01\n...</td>\n      <td>iters\n0        1.020281\n1        1.020281\n2   ...</td>\n      <td>iters\n0        1.023687\n1        1.023687\n2   ...</td>\n      <td>iters\n0        1.029862\n1        1.029862\n2   ...</td>\n      <td>iters\n0        1.474533\n1        1.474533\n2   ...</td>\n      <td>iters\n0       1.556710e+00\n1       1.556710e+0...</td>\n      <td>iters\n0       1.637590e+00\n1       1.637590e+0...</td>\n      <td>iters\n0        1.008214\n1        1.008214\n2   ...</td>\n      <td>iters\n0        1.063814\n1        1.063814\n2   ...</td>\n      <td>iters\n0        1.120488\n1        1.120488\n2   ...</td>\n      <td>iters\n0        2.232422\n1        2.232422\n2   ...</td>\n      <td>iters\n0       2.556686\n1       2.556686\n2     ...</td>\n      <td>iters\n0       2.906959e+00\n1       2.906959e+0...</td>\n    </tr>\n  </tbody>\n</table>\n</div>"
     },
     "execution_count": 5,
     "metadata": {},
     "output_type": "execute_result"
    }
   ],
   "source": [
    "results"
   ],
   "metadata": {
    "collapsed": false,
    "ExecuteTime": {
     "end_time": "2024-01-16T14:59:20.318160600Z",
     "start_time": "2024-01-16T14:59:20.127491Z"
    }
   },
   "id": "1b56237032ba3eee",
   "execution_count": 5
  },
  {
   "cell_type": "code",
   "outputs": [],
   "source": [
    "results.to_csv(\"grid.csv\",index=False)"
   ],
   "metadata": {
    "collapsed": false,
    "ExecuteTime": {
     "end_time": "2024-01-16T14:59:21.205230300Z",
     "start_time": "2024-01-16T14:59:20.915624Z"
    }
   },
   "id": "deb9a88f439925d4",
   "execution_count": 14
  },
  {
   "cell_type": "code",
   "outputs": [],
   "source": [
    "# df = pd.DataFrame(results)"
   ],
   "metadata": {
    "collapsed": false,
    "ExecuteTime": {
     "end_time": "2024-01-16T14:59:20.379849900Z",
     "start_time": "2024-01-16T14:59:20.295926500Z"
    }
   },
   "id": "40375ca5bb62ae55",
   "execution_count": 6
  },
  {
   "cell_type": "code",
   "outputs": [],
   "source": [
    "# df['Optimal MSE'] = df['Optimal MSE'].round(3)\n",
    "# df['Cholesky MSE'] = df['Cholesky MSE'].round(3)\n",
    "# df['C-SGD MSE'] = df['C-SGD MSE'].round(3)\n",
    "# df['Fista MSE'] = df['Fista MSE'].round(3)\n",
    "# \n",
    "# df[['Conditional number', 'Cholesky Reg_gap_sol', 'C-SGD Reg_gap_sol', 'Fista Reg_gap_sol']] = df[['Conditional number', 'Cholesky Reg_gap_sol', 'C-SGD Reg_gap_sol', 'Fista Reg_gap_sol']].apply(lambda x: [\"{:.3e}\".format(i) for i in x])"
   ],
   "metadata": {
    "collapsed": false,
    "ExecuteTime": {
     "end_time": "2024-01-16T14:59:20.643480300Z",
     "start_time": "2024-01-16T14:59:20.374255900Z"
    }
   },
   "id": "30dc9f4fe74a360e",
   "execution_count": 7
  },
  {
   "cell_type": "code",
   "outputs": [],
   "source": [
    "# df"
   ],
   "metadata": {
    "collapsed": false,
    "ExecuteTime": {
     "end_time": "2024-01-16T14:59:20.679062300Z",
     "start_time": "2024-01-16T14:59:20.448422400Z"
    }
   },
   "id": "95de59025d797f1c",
   "execution_count": 8
  },
  {
   "cell_type": "code",
   "outputs": [],
   "source": [],
   "metadata": {
    "collapsed": false,
    "ExecuteTime": {
     "end_time": "2024-01-16T14:59:20.881780300Z",
     "start_time": "2024-01-16T14:59:20.525220300Z"
    }
   },
   "id": "86041ecf61edd574",
   "execution_count": 9
  },
  {
   "cell_type": "code",
   "outputs": [],
   "source": [
    "# df.drop([\"Optimal Time\",\"C-SGD Time\", \"Fista Time\", \"Cholesky Time\", 'Optimal MSE', 'C-SGD MSE','Fista MSE', 'Cholesky MSE'],axis=1,inplace=True)"
   ],
   "metadata": {
    "collapsed": false,
    "ExecuteTime": {
     "end_time": "2024-01-16T14:59:21.145296800Z",
     "start_time": "2024-01-16T14:59:20.604131Z"
    }
   },
   "id": "e57445386a4418dd",
   "execution_count": 10
  },
  {
   "cell_type": "code",
   "outputs": [],
   "source": [
    "# table_ = pd.read_csv(\"file2.csv\")"
   ],
   "metadata": {
    "collapsed": false,
    "ExecuteTime": {
     "end_time": "2024-01-16T14:59:21.147301100Z",
     "start_time": "2024-01-16T14:59:20.681659800Z"
    }
   },
   "id": "671f372ed0f9b87f",
   "execution_count": 11
  },
  {
   "cell_type": "code",
   "outputs": [],
   "source": [
    "# table_['Cholesky MSE'] = table_['Cholesky MSE'].round(4)\n",
    "# table_['C-SGD MSE'] = table_['C-SGD MSE'].round(4)\n",
    "# table_['Fista MSE'] = table_['Fista MSE'].round(4)"
   ],
   "metadata": {
    "collapsed": false,
    "ExecuteTime": {
     "end_time": "2024-01-16T14:59:21.148514100Z",
     "start_time": "2024-01-16T14:59:20.761262Z"
    }
   },
   "id": "c28e5b2b64f6d775",
   "execution_count": 12
  },
  {
   "cell_type": "code",
   "outputs": [],
   "source": [
    "# table_[[\"Lambda\",\"Resevoir\",\"Cholesky MSE\",\"C-SGD MSE\",\"Fista MSE\"]].to_csv(\"file3.csv\",index=False)"
   ],
   "metadata": {
    "collapsed": false,
    "ExecuteTime": {
     "end_time": "2024-01-16T14:59:21.202849500Z",
     "start_time": "2024-01-16T14:59:20.836593300Z"
    }
   },
   "id": "d206f5148b8a5252",
   "execution_count": 13
  }
 ],
 "metadata": {
  "kernelspec": {
   "display_name": "Python 3",
   "language": "python",
   "name": "python3"
  },
  "language_info": {
   "codemirror_mode": {
    "name": "ipython",
    "version": 2
   },
   "file_extension": ".py",
   "mimetype": "text/x-python",
   "name": "python",
   "nbconvert_exporter": "python",
   "pygments_lexer": "ipython2",
   "version": "2.7.6"
  }
 },
 "nbformat": 4,
 "nbformat_minor": 5
}
