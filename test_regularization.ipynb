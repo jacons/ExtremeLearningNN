{
 "cells": [
  {
   "cell_type": "code",
   "outputs": [],
   "source": [
    "import pandas as pd\n",
    "\n",
    "from ExperientalTools import prepare_dataset\n",
    "from ExperientalTools import test_over_regularization\n",
    "%reload_ext autoreload\n",
    "%autoreload 2"
   ],
   "metadata": {
    "collapsed": false,
    "ExecuteTime": {
     "end_time": "2024-01-16T16:02:57.248556500Z",
     "start_time": "2024-01-16T16:02:57.016605400Z"
    }
   },
   "id": "f1ce69d9f913bb37",
   "execution_count": 32
  },
  {
   "cell_type": "markdown",
   "source": [
    "## get the dataset"
   ],
   "metadata": {
    "collapsed": false
   },
   "id": "7155e277a14e333b"
  },
  {
   "cell_type": "code",
   "execution_count": 33,
   "id": "initial_id",
   "metadata": {
    "collapsed": true,
    "ExecuteTime": {
     "end_time": "2024-01-16T16:02:57.486572900Z",
     "start_time": "2024-01-16T16:02:57.227233900Z"
    }
   },
   "outputs": [],
   "source": [
    "(tr_x,tr_y) = prepare_dataset(train_path=\"datasets/ML-CUP21-TR.csv\",unique=True)"
   ]
  },
  {
   "cell_type": "code",
   "outputs": [],
   "source": [
    "parameters = dict(\n",
    "    MAX_ITER = 40000,\n",
    "    PRECISION = 1e-3,\n",
    ")"
   ],
   "metadata": {
    "collapsed": false,
    "ExecuteTime": {
     "end_time": "2024-01-16T16:02:57.679435300Z",
     "start_time": "2024-01-16T16:02:57.488881200Z"
    }
   },
   "id": "c72a65c2f020a66b",
   "execution_count": 34
  },
  {
   "cell_type": "code",
   "outputs": [
    {
     "name": "stdout",
     "output_type": "stream",
     "text": [
      "Converged in 9657 iterations. Norm grad: 0.0009998731711174998\n",
      "Converged in 6568 iterations. Norm grad: 0.0009951362725873637\n",
      "Converged in 2759 iterations. Norm grad: 0.0009972799652520478\n",
      "Converged in 2450 iterations. Norm grad: 0.0009824882660823867\n",
      "Converged in 783 iterations. Norm grad: 0.000997943175554018\n",
      "Converged in 771 iterations. Norm grad: 0.0008749193981573052\n",
      "Converged in 18359 iterations. Norm grad: 0.0009995424912845007\n",
      "Converged in 11921 iterations. Norm grad: 0.0009980504233120127\n",
      "Converged in 5196 iterations. Norm grad: 0.0009993548460419987\n",
      "Converged in 4169 iterations. Norm grad: 0.000985498603333496\n",
      "Converged in 1453 iterations. Norm grad: 0.0009945436783386336\n",
      "Converged in 1402 iterations. Norm grad: 0.0008987014163432261\n",
      "Converged in 38321 iterations. Norm grad: 0.0009997089953403238\n",
      "Converged in 23372 iterations. Norm grad: 0.000999153048669245\n",
      "Converged in 10692 iterations. Norm grad: 0.0009994883325885398\n",
      "Converged in 8458 iterations. Norm grad: 0.0009905932085378503\n",
      "Converged in 2963 iterations. Norm grad: 0.0009966272891143314\n",
      "Converged in 2790 iterations. Norm grad: 0.0009326971294670807\n"
     ]
    }
   ],
   "source": [
    "results = test_over_regularization(tr_x,tr_y,parameters,regs=[0.1, 0.5, 1, 5, 10, 20], resevoir_=[50, 100, 200]).T"
   ],
   "metadata": {
    "collapsed": false,
    "ExecuteTime": {
     "end_time": "2024-01-16T16:12:06.520691700Z",
     "start_time": "2024-01-16T16:02:57.680426900Z"
    }
   },
   "id": "688748df76ccc153",
   "execution_count": 35
  },
  {
   "cell_type": "code",
   "outputs": [],
   "source": [
    "results.to_csv(\"grid.csv\",index=False)"
   ],
   "metadata": {
    "collapsed": false,
    "ExecuteTime": {
     "end_time": "2024-01-16T16:12:06.722053Z",
     "start_time": "2024-01-16T16:12:06.524143700Z"
    }
   },
   "id": "deb9a88f439925d4",
   "execution_count": 36
  },
  {
   "cell_type": "code",
   "outputs": [],
   "source": [
    "results = pd.read_csv(\"grid.csv\")"
   ],
   "metadata": {
    "collapsed": false,
    "ExecuteTime": {
     "end_time": "2024-01-16T16:37:42.868485100Z",
     "start_time": "2024-01-16T16:37:42.655487100Z"
    }
   },
   "id": "53f198f896320032",
   "execution_count": 53
  },
  {
   "cell_type": "code",
   "outputs": [
    {
     "data": {
      "text/plain": "Index(['Size', 'Lambda', 'Conditional number', 'Optimal MSE', 'Optimal Time',\n       'Cholesky MSE', 'Cholesky Time', 'Cholesky Gap_sol', 'SGD MSE',\n       'SGD Time', 'SGD Iterations', 'SGD Gap_sol', 'SGD Gap_pred',\n       'Fista MSE', 'Fista Time', 'Fista Iterations', 'Fista Gap_sol',\n       'Fista Gap_pred'],\n      dtype='object')"
     },
     "execution_count": 54,
     "metadata": {},
     "output_type": "execute_result"
    }
   ],
   "source": [
    "results.columns"
   ],
   "metadata": {
    "collapsed": false,
    "ExecuteTime": {
     "end_time": "2024-01-16T16:37:43.526054100Z",
     "start_time": "2024-01-16T16:37:43.322146800Z"
    }
   },
   "id": "1b56237032ba3eee",
   "execution_count": 54
  },
  {
   "cell_type": "code",
   "outputs": [],
   "source": [
    "df1 = results[[\"Size\", \"Lambda\", \"Conditional number\", \"Cholesky Gap_sol\", \"SGD Gap_sol\", \"Fista Gap_sol\"]].copy()\n",
    "df2 = results[[\"Size\", \"Lambda\", \"SGD Gap_pred\", \"Fista Gap_pred\", \"SGD MSE\", \"Fista MSE\"]].copy()"
   ],
   "metadata": {
    "collapsed": false,
    "ExecuteTime": {
     "end_time": "2024-01-16T16:41:06.321683400Z",
     "start_time": "2024-01-16T16:41:06.121911100Z"
    }
   },
   "id": "c76769dbbac3301c",
   "execution_count": 58
  },
  {
   "cell_type": "code",
   "outputs": [
    {
     "ename": "ValueError",
     "evalue": "Unknown format code 'e' for object of type 'str'",
     "output_type": "error",
     "traceback": [
      "\u001B[1;31m---------------------------------------------------------------------------\u001B[0m",
      "\u001B[1;31mValueError\u001B[0m                                Traceback (most recent call last)",
      "Cell \u001B[1;32mIn[61], line 1\u001B[0m\n\u001B[1;32m----> 1\u001B[0m df1[[\u001B[38;5;124m'\u001B[39m\u001B[38;5;124mConditional number\u001B[39m\u001B[38;5;124m'\u001B[39m, \u001B[38;5;124m'\u001B[39m\u001B[38;5;124mCholesky Gap_sol\u001B[39m\u001B[38;5;124m'\u001B[39m, \u001B[38;5;124m'\u001B[39m\u001B[38;5;124mSGD Gap_sol\u001B[39m\u001B[38;5;124m'\u001B[39m, \u001B[38;5;124m'\u001B[39m\u001B[38;5;124mFista Gap_sol\u001B[39m\u001B[38;5;124m'\u001B[39m]] \u001B[38;5;241m=\u001B[39m \u001B[43mdf1\u001B[49m\u001B[43m[\u001B[49m\u001B[43m[\u001B[49m\u001B[38;5;124;43m'\u001B[39;49m\u001B[38;5;124;43mConditional number\u001B[39;49m\u001B[38;5;124;43m'\u001B[39;49m\u001B[43m,\u001B[49m\u001B[43m \u001B[49m\u001B[38;5;124;43m'\u001B[39;49m\u001B[38;5;124;43mCholesky Gap_sol\u001B[39;49m\u001B[38;5;124;43m'\u001B[39;49m\u001B[43m,\u001B[49m\u001B[43m \u001B[49m\u001B[38;5;124;43m'\u001B[39;49m\u001B[38;5;124;43mSGD Gap_sol\u001B[39;49m\u001B[38;5;124;43m'\u001B[39;49m\u001B[43m,\u001B[49m\u001B[43m \u001B[49m\u001B[38;5;124;43m'\u001B[39;49m\u001B[38;5;124;43mFista Gap_sol\u001B[39;49m\u001B[38;5;124;43m'\u001B[39;49m\u001B[43m]\u001B[49m\u001B[43m]\u001B[49m\u001B[38;5;241;43m.\u001B[39;49m\u001B[43mapply\u001B[49m\u001B[43m(\u001B[49m\u001B[38;5;28;43;01mlambda\u001B[39;49;00m\u001B[43m \u001B[49m\u001B[43mx\u001B[49m\u001B[43m:\u001B[49m\u001B[43m \u001B[49m\u001B[43m[\u001B[49m\u001B[38;5;124;43m\"\u001B[39;49m\u001B[38;5;132;43;01m{:.3e}\u001B[39;49;00m\u001B[38;5;124;43m\"\u001B[39;49m\u001B[38;5;241;43m.\u001B[39;49m\u001B[43mformat\u001B[49m\u001B[43m(\u001B[49m\u001B[43mi\u001B[49m\u001B[43m)\u001B[49m\u001B[43m \u001B[49m\u001B[38;5;28;43;01mfor\u001B[39;49;00m\u001B[43m \u001B[49m\u001B[43mi\u001B[49m\u001B[43m \u001B[49m\u001B[38;5;129;43;01min\u001B[39;49;00m\u001B[43m \u001B[49m\u001B[43mx\u001B[49m\u001B[43m]\u001B[49m\u001B[43m)\u001B[49m\n\u001B[0;32m      3\u001B[0m df2[[\u001B[38;5;124m'\u001B[39m\u001B[38;5;124mSGD Gap_pred\u001B[39m\u001B[38;5;124m'\u001B[39m, \u001B[38;5;124m'\u001B[39m\u001B[38;5;124mFista Gap_pred\u001B[39m\u001B[38;5;124m'\u001B[39m]] \u001B[38;5;241m=\u001B[39m df2[[\u001B[38;5;124m'\u001B[39m\u001B[38;5;124mSGD Gap_pred\u001B[39m\u001B[38;5;124m'\u001B[39m, \u001B[38;5;124m'\u001B[39m\u001B[38;5;124mFista Gap_pred\u001B[39m\u001B[38;5;124m'\u001B[39m]]\u001B[38;5;241m.\u001B[39mapply(\u001B[38;5;28;01mlambda\u001B[39;00m x: [\u001B[38;5;124m\"\u001B[39m\u001B[38;5;132;01m{:.3e}\u001B[39;00m\u001B[38;5;124m\"\u001B[39m\u001B[38;5;241m.\u001B[39mformat(i) \u001B[38;5;28;01mfor\u001B[39;00m i \u001B[38;5;129;01min\u001B[39;00m x])\n",
      "File \u001B[1;32m~\\anaconda3\\envs\\deeplearning\\lib\\site-packages\\pandas\\core\\frame.py:10034\u001B[0m, in \u001B[0;36mDataFrame.apply\u001B[1;34m(self, func, axis, raw, result_type, args, by_row, **kwargs)\u001B[0m\n\u001B[0;32m  10022\u001B[0m \u001B[38;5;28;01mfrom\u001B[39;00m \u001B[38;5;21;01mpandas\u001B[39;00m\u001B[38;5;21;01m.\u001B[39;00m\u001B[38;5;21;01mcore\u001B[39;00m\u001B[38;5;21;01m.\u001B[39;00m\u001B[38;5;21;01mapply\u001B[39;00m \u001B[38;5;28;01mimport\u001B[39;00m frame_apply\n\u001B[0;32m  10024\u001B[0m op \u001B[38;5;241m=\u001B[39m frame_apply(\n\u001B[0;32m  10025\u001B[0m     \u001B[38;5;28mself\u001B[39m,\n\u001B[0;32m  10026\u001B[0m     func\u001B[38;5;241m=\u001B[39mfunc,\n\u001B[1;32m   (...)\u001B[0m\n\u001B[0;32m  10032\u001B[0m     kwargs\u001B[38;5;241m=\u001B[39mkwargs,\n\u001B[0;32m  10033\u001B[0m )\n\u001B[1;32m> 10034\u001B[0m \u001B[38;5;28;01mreturn\u001B[39;00m \u001B[43mop\u001B[49m\u001B[38;5;241;43m.\u001B[39;49m\u001B[43mapply\u001B[49m\u001B[43m(\u001B[49m\u001B[43m)\u001B[49m\u001B[38;5;241m.\u001B[39m__finalize__(\u001B[38;5;28mself\u001B[39m, method\u001B[38;5;241m=\u001B[39m\u001B[38;5;124m\"\u001B[39m\u001B[38;5;124mapply\u001B[39m\u001B[38;5;124m\"\u001B[39m)\n",
      "File \u001B[1;32m~\\anaconda3\\envs\\deeplearning\\lib\\site-packages\\pandas\\core\\apply.py:837\u001B[0m, in \u001B[0;36mFrameApply.apply\u001B[1;34m(self)\u001B[0m\n\u001B[0;32m    834\u001B[0m \u001B[38;5;28;01melif\u001B[39;00m \u001B[38;5;28mself\u001B[39m\u001B[38;5;241m.\u001B[39mraw:\n\u001B[0;32m    835\u001B[0m     \u001B[38;5;28;01mreturn\u001B[39;00m \u001B[38;5;28mself\u001B[39m\u001B[38;5;241m.\u001B[39mapply_raw()\n\u001B[1;32m--> 837\u001B[0m \u001B[38;5;28;01mreturn\u001B[39;00m \u001B[38;5;28;43mself\u001B[39;49m\u001B[38;5;241;43m.\u001B[39;49m\u001B[43mapply_standard\u001B[49m\u001B[43m(\u001B[49m\u001B[43m)\u001B[49m\n",
      "File \u001B[1;32m~\\anaconda3\\envs\\deeplearning\\lib\\site-packages\\pandas\\core\\apply.py:965\u001B[0m, in \u001B[0;36mFrameApply.apply_standard\u001B[1;34m(self)\u001B[0m\n\u001B[0;32m    964\u001B[0m \u001B[38;5;28;01mdef\u001B[39;00m \u001B[38;5;21mapply_standard\u001B[39m(\u001B[38;5;28mself\u001B[39m):\n\u001B[1;32m--> 965\u001B[0m     results, res_index \u001B[38;5;241m=\u001B[39m \u001B[38;5;28;43mself\u001B[39;49m\u001B[38;5;241;43m.\u001B[39;49m\u001B[43mapply_series_generator\u001B[49m\u001B[43m(\u001B[49m\u001B[43m)\u001B[49m\n\u001B[0;32m    967\u001B[0m     \u001B[38;5;66;03m# wrap results\u001B[39;00m\n\u001B[0;32m    968\u001B[0m     \u001B[38;5;28;01mreturn\u001B[39;00m \u001B[38;5;28mself\u001B[39m\u001B[38;5;241m.\u001B[39mwrap_results(results, res_index)\n",
      "File \u001B[1;32m~\\anaconda3\\envs\\deeplearning\\lib\\site-packages\\pandas\\core\\apply.py:981\u001B[0m, in \u001B[0;36mFrameApply.apply_series_generator\u001B[1;34m(self)\u001B[0m\n\u001B[0;32m    978\u001B[0m \u001B[38;5;28;01mwith\u001B[39;00m option_context(\u001B[38;5;124m\"\u001B[39m\u001B[38;5;124mmode.chained_assignment\u001B[39m\u001B[38;5;124m\"\u001B[39m, \u001B[38;5;28;01mNone\u001B[39;00m):\n\u001B[0;32m    979\u001B[0m     \u001B[38;5;28;01mfor\u001B[39;00m i, v \u001B[38;5;129;01min\u001B[39;00m \u001B[38;5;28menumerate\u001B[39m(series_gen):\n\u001B[0;32m    980\u001B[0m         \u001B[38;5;66;03m# ignore SettingWithCopy here in case the user mutates\u001B[39;00m\n\u001B[1;32m--> 981\u001B[0m         results[i] \u001B[38;5;241m=\u001B[39m \u001B[38;5;28mself\u001B[39m\u001B[38;5;241m.\u001B[39mfunc(v, \u001B[38;5;241m*\u001B[39m\u001B[38;5;28mself\u001B[39m\u001B[38;5;241m.\u001B[39margs, \u001B[38;5;241m*\u001B[39m\u001B[38;5;241m*\u001B[39m\u001B[38;5;28mself\u001B[39m\u001B[38;5;241m.\u001B[39mkwargs)\n\u001B[0;32m    982\u001B[0m         \u001B[38;5;28;01mif\u001B[39;00m \u001B[38;5;28misinstance\u001B[39m(results[i], ABCSeries):\n\u001B[0;32m    983\u001B[0m             \u001B[38;5;66;03m# If we have a view on v, we need to make a copy because\u001B[39;00m\n\u001B[0;32m    984\u001B[0m             \u001B[38;5;66;03m#  series_generator will swap out the underlying data\u001B[39;00m\n\u001B[0;32m    985\u001B[0m             results[i] \u001B[38;5;241m=\u001B[39m results[i]\u001B[38;5;241m.\u001B[39mcopy(deep\u001B[38;5;241m=\u001B[39m\u001B[38;5;28;01mFalse\u001B[39;00m)\n",
      "Cell \u001B[1;32mIn[61], line 1\u001B[0m, in \u001B[0;36m<lambda>\u001B[1;34m(x)\u001B[0m\n\u001B[1;32m----> 1\u001B[0m df1[[\u001B[38;5;124m'\u001B[39m\u001B[38;5;124mConditional number\u001B[39m\u001B[38;5;124m'\u001B[39m, \u001B[38;5;124m'\u001B[39m\u001B[38;5;124mCholesky Gap_sol\u001B[39m\u001B[38;5;124m'\u001B[39m, \u001B[38;5;124m'\u001B[39m\u001B[38;5;124mSGD Gap_sol\u001B[39m\u001B[38;5;124m'\u001B[39m, \u001B[38;5;124m'\u001B[39m\u001B[38;5;124mFista Gap_sol\u001B[39m\u001B[38;5;124m'\u001B[39m]] \u001B[38;5;241m=\u001B[39m df1[[\u001B[38;5;124m'\u001B[39m\u001B[38;5;124mConditional number\u001B[39m\u001B[38;5;124m'\u001B[39m, \u001B[38;5;124m'\u001B[39m\u001B[38;5;124mCholesky Gap_sol\u001B[39m\u001B[38;5;124m'\u001B[39m, \u001B[38;5;124m'\u001B[39m\u001B[38;5;124mSGD Gap_sol\u001B[39m\u001B[38;5;124m'\u001B[39m, \u001B[38;5;124m'\u001B[39m\u001B[38;5;124mFista Gap_sol\u001B[39m\u001B[38;5;124m'\u001B[39m]]\u001B[38;5;241m.\u001B[39mapply(\u001B[38;5;28;01mlambda\u001B[39;00m x: [\u001B[38;5;124m\"\u001B[39m\u001B[38;5;132;01m{:.3e}\u001B[39;00m\u001B[38;5;124m\"\u001B[39m\u001B[38;5;241m.\u001B[39mformat(i) \u001B[38;5;28;01mfor\u001B[39;00m i \u001B[38;5;129;01min\u001B[39;00m x])\n\u001B[0;32m      3\u001B[0m df2[[\u001B[38;5;124m'\u001B[39m\u001B[38;5;124mSGD Gap_pred\u001B[39m\u001B[38;5;124m'\u001B[39m, \u001B[38;5;124m'\u001B[39m\u001B[38;5;124mFista Gap_pred\u001B[39m\u001B[38;5;124m'\u001B[39m]] \u001B[38;5;241m=\u001B[39m df2[[\u001B[38;5;124m'\u001B[39m\u001B[38;5;124mSGD Gap_pred\u001B[39m\u001B[38;5;124m'\u001B[39m, \u001B[38;5;124m'\u001B[39m\u001B[38;5;124mFista Gap_pred\u001B[39m\u001B[38;5;124m'\u001B[39m]]\u001B[38;5;241m.\u001B[39mapply(\u001B[38;5;28;01mlambda\u001B[39;00m x: [\u001B[38;5;124m\"\u001B[39m\u001B[38;5;132;01m{:.3e}\u001B[39;00m\u001B[38;5;124m\"\u001B[39m\u001B[38;5;241m.\u001B[39mformat(i) \u001B[38;5;28;01mfor\u001B[39;00m i \u001B[38;5;129;01min\u001B[39;00m x])\n",
      "Cell \u001B[1;32mIn[61], line 1\u001B[0m, in \u001B[0;36m<listcomp>\u001B[1;34m(.0)\u001B[0m\n\u001B[1;32m----> 1\u001B[0m df1[[\u001B[38;5;124m'\u001B[39m\u001B[38;5;124mConditional number\u001B[39m\u001B[38;5;124m'\u001B[39m, \u001B[38;5;124m'\u001B[39m\u001B[38;5;124mCholesky Gap_sol\u001B[39m\u001B[38;5;124m'\u001B[39m, \u001B[38;5;124m'\u001B[39m\u001B[38;5;124mSGD Gap_sol\u001B[39m\u001B[38;5;124m'\u001B[39m, \u001B[38;5;124m'\u001B[39m\u001B[38;5;124mFista Gap_sol\u001B[39m\u001B[38;5;124m'\u001B[39m]] \u001B[38;5;241m=\u001B[39m df1[[\u001B[38;5;124m'\u001B[39m\u001B[38;5;124mConditional number\u001B[39m\u001B[38;5;124m'\u001B[39m, \u001B[38;5;124m'\u001B[39m\u001B[38;5;124mCholesky Gap_sol\u001B[39m\u001B[38;5;124m'\u001B[39m, \u001B[38;5;124m'\u001B[39m\u001B[38;5;124mSGD Gap_sol\u001B[39m\u001B[38;5;124m'\u001B[39m, \u001B[38;5;124m'\u001B[39m\u001B[38;5;124mFista Gap_sol\u001B[39m\u001B[38;5;124m'\u001B[39m]]\u001B[38;5;241m.\u001B[39mapply(\u001B[38;5;28;01mlambda\u001B[39;00m x: [\u001B[38;5;124;43m\"\u001B[39;49m\u001B[38;5;132;43;01m{:.3e}\u001B[39;49;00m\u001B[38;5;124;43m\"\u001B[39;49m\u001B[38;5;241;43m.\u001B[39;49m\u001B[43mformat\u001B[49m\u001B[43m(\u001B[49m\u001B[43mi\u001B[49m\u001B[43m)\u001B[49m \u001B[38;5;28;01mfor\u001B[39;00m i \u001B[38;5;129;01min\u001B[39;00m x])\n\u001B[0;32m      3\u001B[0m df2[[\u001B[38;5;124m'\u001B[39m\u001B[38;5;124mSGD Gap_pred\u001B[39m\u001B[38;5;124m'\u001B[39m, \u001B[38;5;124m'\u001B[39m\u001B[38;5;124mFista Gap_pred\u001B[39m\u001B[38;5;124m'\u001B[39m]] \u001B[38;5;241m=\u001B[39m df2[[\u001B[38;5;124m'\u001B[39m\u001B[38;5;124mSGD Gap_pred\u001B[39m\u001B[38;5;124m'\u001B[39m, \u001B[38;5;124m'\u001B[39m\u001B[38;5;124mFista Gap_pred\u001B[39m\u001B[38;5;124m'\u001B[39m]]\u001B[38;5;241m.\u001B[39mapply(\u001B[38;5;28;01mlambda\u001B[39;00m x: [\u001B[38;5;124m\"\u001B[39m\u001B[38;5;132;01m{:.3e}\u001B[39;00m\u001B[38;5;124m\"\u001B[39m\u001B[38;5;241m.\u001B[39mformat(i) \u001B[38;5;28;01mfor\u001B[39;00m i \u001B[38;5;129;01min\u001B[39;00m x])\n",
      "\u001B[1;31mValueError\u001B[0m: Unknown format code 'e' for object of type 'str'"
     ]
    }
   ],
   "source": [
    "df1[['Conditional number', 'Cholesky Gap_sol', 'SGD Gap_sol', 'Fista Gap_sol']] = df1[['Conditional number', 'Cholesky Gap_sol', 'SGD Gap_sol', 'Fista Gap_sol']].apply(lambda x: [\"{:.3e}\".format(i) for i in x])\n",
    "\n",
    "df2[['SGD Gap_pred', 'Fista Gap_pred']] = df2[['SGD Gap_pred', 'Fista Gap_pred']].apply(lambda x: [\"{:.3e}\".format(i) for i in x])"
   ],
   "metadata": {
    "collapsed": false,
    "ExecuteTime": {
     "end_time": "2024-01-16T16:42:12.378856Z",
     "start_time": "2024-01-16T16:42:12.100796300Z"
    }
   },
   "id": "75c3ea63533b02e1",
   "execution_count": 61
  },
  {
   "cell_type": "code",
   "outputs": [],
   "source": [],
   "metadata": {
    "collapsed": false
   },
   "id": "14fda47e7f5d7407"
  },
  {
   "cell_type": "markdown",
   "source": [
    "# A lot iterations"
   ],
   "metadata": {
    "collapsed": false
   },
   "id": "8ebb6e6b1cce6fbc"
  },
  {
   "cell_type": "code",
   "outputs": [],
   "source": [
    "# df = pd.DataFrame(results)"
   ],
   "metadata": {
    "collapsed": false,
    "ExecuteTime": {
     "end_time": "2024-01-16T16:12:07.597916800Z",
     "start_time": "2024-01-16T16:12:07.368339900Z"
    }
   },
   "id": "40375ca5bb62ae55",
   "execution_count": 40
  },
  {
   "cell_type": "code",
   "outputs": [],
   "source": [
    "# df['Optimal MSE'] = df['Optimal MSE'].round(3)\n",
    "# df['Cholesky MSE'] = df['Cholesky MSE'].round(3)\n",
    "# df['C-SGD MSE'] = df['C-SGD MSE'].round(3)\n",
    "# df['Fista MSE'] = df['Fista MSE'].round(3)\n",
    "# \n",
    "# df[['Conditional number', 'Cholesky Reg_gap_sol', 'C-SGD Reg_gap_sol', 'Fista Reg_gap_sol']] = df[['Conditional number', 'Cholesky Reg_gap_sol', 'C-SGD Reg_gap_sol', 'Fista Reg_gap_sol']].apply(lambda x: [\"{:.3e}\".format(i) for i in x])"
   ],
   "metadata": {
    "collapsed": false,
    "ExecuteTime": {
     "end_time": "2024-01-16T16:12:07.779340900Z",
     "start_time": "2024-01-16T16:12:07.586618300Z"
    }
   },
   "id": "30dc9f4fe74a360e",
   "execution_count": 41
  },
  {
   "cell_type": "code",
   "outputs": [],
   "source": [
    "# df"
   ],
   "metadata": {
    "collapsed": false,
    "ExecuteTime": {
     "end_time": "2024-01-16T16:12:07.973400600Z",
     "start_time": "2024-01-16T16:12:07.782649700Z"
    }
   },
   "id": "95de59025d797f1c",
   "execution_count": 42
  },
  {
   "cell_type": "code",
   "outputs": [],
   "source": [],
   "metadata": {
    "collapsed": false,
    "ExecuteTime": {
     "end_time": "2024-01-16T16:12:07.991844900Z",
     "start_time": "2024-01-16T16:12:07.974505500Z"
    }
   },
   "id": "86041ecf61edd574",
   "execution_count": 42
  },
  {
   "cell_type": "code",
   "outputs": [],
   "source": [
    "# df.drop([\"Optimal Time\",\"C-SGD Time\", \"Fista Time\", \"Cholesky Time\", 'Optimal MSE', 'C-SGD MSE','Fista MSE', 'Cholesky MSE'],axis=1,inplace=True)"
   ],
   "metadata": {
    "collapsed": false,
    "ExecuteTime": {
     "end_time": "2024-01-16T16:12:08.172864700Z",
     "start_time": "2024-01-16T16:12:07.993110900Z"
    }
   },
   "id": "e57445386a4418dd",
   "execution_count": 43
  },
  {
   "cell_type": "code",
   "outputs": [],
   "source": [
    "# table_ = pd.read_csv(\"file2.csv\")"
   ],
   "metadata": {
    "collapsed": false,
    "ExecuteTime": {
     "end_time": "2024-01-16T16:12:08.361722300Z",
     "start_time": "2024-01-16T16:12:08.177511300Z"
    }
   },
   "id": "671f372ed0f9b87f",
   "execution_count": 44
  },
  {
   "cell_type": "code",
   "outputs": [],
   "source": [
    "# table_['Cholesky MSE'] = table_['Cholesky MSE'].round(4)\n",
    "# table_['C-SGD MSE'] = table_['C-SGD MSE'].round(4)\n",
    "# table_['Fista MSE'] = table_['Fista MSE'].round(4)"
   ],
   "metadata": {
    "collapsed": false,
    "ExecuteTime": {
     "end_time": "2024-01-16T16:12:08.550255600Z",
     "start_time": "2024-01-16T16:12:08.361722300Z"
    }
   },
   "id": "c28e5b2b64f6d775",
   "execution_count": 45
  },
  {
   "cell_type": "code",
   "outputs": [],
   "source": [
    "# table_[[\"Lambda\",\"Resevoir\",\"Cholesky MSE\",\"C-SGD MSE\",\"Fista MSE\"]].to_csv(\"file3.csv\",index=False)"
   ],
   "metadata": {
    "collapsed": false,
    "ExecuteTime": {
     "end_time": "2024-01-16T16:12:08.750171300Z",
     "start_time": "2024-01-16T16:12:08.551444900Z"
    }
   },
   "id": "d206f5148b8a5252",
   "execution_count": 46
  }
 ],
 "metadata": {
  "kernelspec": {
   "display_name": "Python 3",
   "language": "python",
   "name": "python3"
  },
  "language_info": {
   "codemirror_mode": {
    "name": "ipython",
    "version": 2
   },
   "file_extension": ".py",
   "mimetype": "text/x-python",
   "name": "python",
   "nbconvert_exporter": "python",
   "pygments_lexer": "ipython2",
   "version": "2.7.6"
  }
 },
 "nbformat": 4,
 "nbformat_minor": 5
}
