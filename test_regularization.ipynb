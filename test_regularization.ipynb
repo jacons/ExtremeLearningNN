{
 "cells": [
  {
   "cell_type": "code",
   "outputs": [],
   "source": [
    "from ExperientalTools import prepare_dataset\n",
    "from ExperientalTools import test_over_regularization\n"
   ],
   "metadata": {
    "collapsed": false,
    "ExecuteTime": {
     "end_time": "2024-01-04T17:23:39.037313400Z",
     "start_time": "2024-01-04T17:23:39.000972700Z"
    }
   },
   "id": "f1ce69d9f913bb37",
   "execution_count": 6
  },
  {
   "cell_type": "markdown",
   "source": [
    "## get the dataset"
   ],
   "metadata": {
    "collapsed": false
   },
   "id": "7155e277a14e333b"
  },
  {
   "cell_type": "code",
   "execution_count": 7,
   "id": "initial_id",
   "metadata": {
    "collapsed": true,
    "ExecuteTime": {
     "end_time": "2024-01-04T17:23:39.085041800Z",
     "start_time": "2024-01-04T17:23:39.048664600Z"
    }
   },
   "outputs": [],
   "source": [
    "(tr_x,tr_y) = prepare_dataset(train_path=\"datasets/ML-CUP21-TR.csv\",unique=True)"
   ]
  },
  {
   "cell_type": "code",
   "outputs": [],
   "source": [
    "parameters = dict(\n",
    "    SIZE_RESERVOIR = 200,\n",
    "    MAX_ITER = 12000,\n",
    "    PRECISION = 1e-2,\n",
    ")"
   ],
   "metadata": {
    "collapsed": false,
    "ExecuteTime": {
     "end_time": "2024-01-04T17:23:39.114005600Z",
     "start_time": "2024-01-04T17:23:39.077928400Z"
    }
   },
   "id": "c72a65c2f020a66b",
   "execution_count": 8
  },
  {
   "cell_type": "code",
   "outputs": [],
   "source": [
    "\n",
    "results = test_over_regularization(tr_x,tr_y,parameters,[0.1, 0.5, 1, 10])"
   ],
   "metadata": {
    "collapsed": false,
    "ExecuteTime": {
     "end_time": "2024-01-04T17:25:48.500235900Z",
     "start_time": "2024-01-04T17:23:39.090341800Z"
    }
   },
   "id": "688748df76ccc153",
   "execution_count": 9
  },
  {
   "cell_type": "code",
   "outputs": [
    {
     "data": {
      "text/plain": "[{'Lambda': 0.1,\n  'Conditional number': 3903089.733605542,\n  'Optimal MSE': 1.323215130124662,\n  'Cholesky MSE': 1.323215130124235,\n  'Cholesky Time': 229669,\n  'Cholesky Reg_gap_sol': 1.7381526017510845e-10,\n  'C-SGD MSE': 1.8086686370247493,\n  'C-SGD Time': 56281,\n  'C-SGD Iterations': 12000,\n  'C-SGD Reg_gap_sol': 0.9643523538551363,\n  'Fista MSE': 1.3237426626287614,\n  'Fista Time': 58666,\n  'Fista Iterations': 12000,\n  'Fista Reg_gap_sol': 0.03491257467084358},\n {'Lambda': 0.5,\n  'Conditional number': 289086.34348571557,\n  'Optimal MSE': 1.4358004745078707,\n  'Cholesky MSE': 1.435800474508074,\n  'Cholesky Time': 154487,\n  'Cholesky Reg_gap_sol': 2.1720690121035282e-11,\n  'C-SGD MSE': 1.8070344446348034,\n  'C-SGD Time': 515712,\n  'C-SGD Iterations': 12000,\n  'C-SGD Reg_gap_sol': 0.8481880842906889,\n  'Fista MSE': 1.4356036004099835,\n  'Fista Time': 746073,\n  'Fista Iterations': 12000,\n  'Fista Reg_gap_sol': 0.005446945164545601},\n {'Lambda': 1,\n  'Conditional number': 74248.34712282704,\n  'Optimal MSE': 1.5646316764899917,\n  'Cholesky MSE': 1.5646316764893418,\n  'Cholesky Time': 154544,\n  'Cholesky Reg_gap_sol': 6.308461762370849e-11,\n  'C-SGD MSE': 1.8085254070104166,\n  'C-SGD Time': 576295,\n  'C-SGD Iterations': 12000,\n  'C-SGD Reg_gap_sol': 0.7486161811640525,\n  'Fista MSE': 1.5647082679851203,\n  'Fista Time': 580787,\n  'Fista Iterations': 12000,\n  'Fista Reg_gap_sol': 0.002304393094779861},\n {'Lambda': 10,\n  'Conditional number': 750.2335928899848,\n  'Optimal MSE': 2.2130823294743527,\n  'Cholesky MSE': 2.213082329474353,\n  'Cholesky Time': 242998,\n  'Cholesky Reg_gap_sol': 4.083748091967396e-13,\n  'C-SGD MSE': 2.2130824603822448,\n  'C-SGD Time': 637239,\n  'C-SGD Iterations': 9181,\n  'C-SGD Reg_gap_sol': 1.131590989068797e-05,\n  'Fista MSE': 2.213082245120023,\n  'Fista Time': 374451,\n  'Fista Iterations': 9181,\n  'Fista Reg_gap_sol': 1.1066668854748206e-05}]"
     },
     "execution_count": 10,
     "metadata": {},
     "output_type": "execute_result"
    }
   ],
   "source": [
    "results"
   ],
   "metadata": {
    "collapsed": false,
    "ExecuteTime": {
     "end_time": "2024-01-04T17:25:48.544246300Z",
     "start_time": "2024-01-04T17:25:48.510242400Z"
    }
   },
   "id": "1b56237032ba3eee",
   "execution_count": 10
  }
 ],
 "metadata": {
  "kernelspec": {
   "display_name": "Python 3",
   "language": "python",
   "name": "python3"
  },
  "language_info": {
   "codemirror_mode": {
    "name": "ipython",
    "version": 2
   },
   "file_extension": ".py",
   "mimetype": "text/x-python",
   "name": "python",
   "nbconvert_exporter": "python",
   "pygments_lexer": "ipython2",
   "version": "2.7.6"
  }
 },
 "nbformat": 4,
 "nbformat_minor": 5
}
